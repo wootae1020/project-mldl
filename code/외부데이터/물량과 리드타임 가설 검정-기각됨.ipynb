{
 "cells": [
  {
   "cell_type": "code",
   "execution_count": 1,
   "id": "1860cdf1-b4f4-4985-8540-28654919b2fb",
   "metadata": {},
   "outputs": [],
   "source": [
    "import pandas as pd\n",
    "import numpy as np\n",
    "import os"
   ]
  },
  {
   "cell_type": "code",
   "execution_count": 3,
   "id": "ff00d8ad-487e-4c87-91a5-135ddcb28eb5",
   "metadata": {},
   "outputs": [
    {
     "name": "stderr",
     "output_type": "stream",
     "text": [
      "C:\\Users\\campus4D035\\AppData\\Local\\Temp\\ipykernel_10600\\1646000783.py:2: DtypeWarning: Columns (0) have mixed types. Specify dtype option on import or set low_memory=False.\n",
      "  df=pd.read_csv('../new_m_data.csv')\n"
     ]
    }
   ],
   "source": [
    "box = pd.read_csv('box.csv', encoding='CP949')\n",
    "df=pd.read_csv('../new_m_data.csv')"
   ]
  },
  {
   "cell_type": "code",
   "execution_count": 4,
   "id": "7d09dc31-5534-40bb-908e-5d48b2aa9f45",
   "metadata": {},
   "outputs": [
    {
     "data": {
      "text/plain": [
       "Index(['배송년월일', '대분류_착지물동량 가구/인테리어', '대분류_착지물동량 기타', '대분류_착지물동량 도서/음반',\n",
       "       '대분류_착지물동량 디지털/가전', '대분류_착지물동량 생활/건강', '대분류_착지물동량 스포츠/레저',\n",
       "       '대분류_착지물동량 식품', '대분류_착지물동량 출산/육아', '대분류_착지물동량 패션의류', '대분류_착지물동량 패션잡화',\n",
       "       '대분류_착지물동량 화장품/미용'],\n",
       "      dtype='object')"
      ]
     },
     "execution_count": 4,
     "metadata": {},
     "output_type": "execute_result"
    }
   ],
   "source": [
    "box.columns"
   ]
  },
  {
   "cell_type": "code",
   "execution_count": 10,
   "id": "95d55f42-ee5a-4e32-bd62-53ba2a7bdde2",
   "metadata": {},
   "outputs": [],
   "source": [
    "df = df[['구매일','배송시작일','배송완료일','주문일로부터배송완료시간', '택배이동기간']]"
   ]
  },
  {
   "cell_type": "code",
   "execution_count": 11,
   "id": "5b3cb352-6110-42ee-96ed-cdcc58f5fec0",
   "metadata": {},
   "outputs": [],
   "source": [
    "box.columns = ['배송완료일', '대분류_착지물동량 가구/인테리어', '대분류_착지물동량 기타', '대분류_착지물동량 도서/음반',\n",
    "       '대분류_착지물동량 디지털/가전', '대분류_착지물동량 생활/건강', '대분류_착지물동량 스포츠/레저',\n",
    "       '대분류_착지물동량 식품', '대분류_착지물동량 출산/육아', '대분류_착지물동량 패션의류', '대분류_착지물동량 패션잡화',\n",
    "       '대분류_착지물동량 화장품/미용']"
   ]
  },
  {
   "cell_type": "code",
   "execution_count": 12,
   "id": "dcfbac9d-f4c9-4564-a59a-ab1a2d018e80",
   "metadata": {},
   "outputs": [],
   "source": [
    "box['배송완료일'] = pd.to_datetime(box['배송완료일'])"
   ]
  },
  {
   "cell_type": "code",
   "execution_count": 13,
   "id": "1c97564f-d635-43c7-a392-ef762c65e00c",
   "metadata": {},
   "outputs": [],
   "source": [
    "df['배송완료일'] = pd.to_datetime(df['배송완료일'])"
   ]
  },
  {
   "cell_type": "code",
   "execution_count": null,
   "id": "5ffce2a4-2a3e-4144-a7ad-cf156b378701",
   "metadata": {},
   "outputs": [],
   "source": []
  },
  {
   "cell_type": "code",
   "execution_count": 30,
   "id": "58aa3dfe-22d3-4573-b328-a59829e6dffa",
   "metadata": {},
   "outputs": [],
   "source": [
    "new_df = df.merge(box, on='배송완료일')[['배송완료일','주문일로부터배송완료시간', '택배이동기간', '대분류_착지물동량 가구/인테리어',\n",
    "       '대분류_착지물동량 기타', '대분류_착지물동량 도서/음반', '대분류_착지물동량 디지털/가전',\n",
    "       '대분류_착지물동량 생활/건강', '대분류_착지물동량 스포츠/레저', '대분류_착지물동량 식품',\n",
    "       '대분류_착지물동량 출산/육아', '대분류_착지물동량 패션의류', '대분류_착지물동량 패션잡화',\n",
    "       '대분류_착지물동량 화장품/미용']]"
   ]
  },
  {
   "cell_type": "code",
   "execution_count": 31,
   "id": "63ea02cd-086a-42ae-9f54-5adb14b83da2",
   "metadata": {},
   "outputs": [
    {
     "data": {
      "text/plain": [
       "배송완료일                0.008675\n",
       "주문일로부터배송완료시간         1.000000\n",
       "택배이동기간               1.000000\n",
       "대분류_착지물동량 가구/인테리어   -0.079720\n",
       "대분류_착지물동량 기타        -0.087480\n",
       "대분류_착지물동량 도서/음반     -0.075405\n",
       "대분류_착지물동량 디지털/가전    -0.082061\n",
       "대분류_착지물동량 생활/건강     -0.087708\n",
       "대분류_착지물동량 스포츠/레저    -0.079658\n",
       "대분류_착지물동량 식품        -0.083325\n",
       "대분류_착지물동량 출산/육아     -0.084571\n",
       "대분류_착지물동량 패션의류      -0.082352\n",
       "대분류_착지물동량 패션잡화      -0.081323\n",
       "대분류_착지물동량 화장품/미용    -0.059132\n",
       "Name: 주문일로부터배송완료시간, dtype: float64"
      ]
     },
     "execution_count": 31,
     "metadata": {},
     "output_type": "execute_result"
    }
   ],
   "source": [
    "new_df.corr()['주문일로부터배송완료시간']"
   ]
  },
  {
   "cell_type": "code",
   "execution_count": 29,
   "id": "5476b4ad-1012-42c0-a2dd-945fa725d19e",
   "metadata": {},
   "outputs": [
    {
     "data": {
      "text/plain": [
       "구매일                     object\n",
       "배송시작일                   object\n",
       "배송완료일           datetime64[ns]\n",
       "주문일로부터배송완료시간             int64\n",
       "택배이동기간                   int64\n",
       "weekday                  int32\n",
       "dtype: object"
      ]
     },
     "execution_count": 29,
     "metadata": {},
     "output_type": "execute_result"
    }
   ],
   "source": [
    "df.dtypes"
   ]
  },
  {
   "cell_type": "code",
   "execution_count": 22,
   "id": "8d34a76b-7f3e-4e16-afbf-05ad89f76312",
   "metadata": {},
   "outputs": [
    {
     "data": {
      "text/plain": [
       "weekday                   \n",
       "0        주문일로부터배송완료시간         1.000000\n",
       "         대분류_착지물동량 가구/인테리어   -0.069131\n",
       "         대분류_착지물동량 기타        -0.063845\n",
       "         대분류_착지물동량 도서/음반     -0.044176\n",
       "         대분류_착지물동량 디지털/가전    -0.055428\n",
       "                                ...   \n",
       "6        대분류_착지물동량 식품         0.043421\n",
       "         대분류_착지물동량 출산/육아      0.065776\n",
       "         대분류_착지물동량 패션의류       0.053996\n",
       "         대분류_착지물동량 패션잡화       0.062582\n",
       "         대분류_착지물동량 화장품/미용    -0.000679\n",
       "Name: 주문일로부터배송완료시간, Length: 84, dtype: float64"
      ]
     },
     "execution_count": 22,
     "metadata": {},
     "output_type": "execute_result"
    }
   ],
   "source": [
    "df['weekday'] = df['배송완료일'].dt.weekday      # 0=월 … 6=일\n",
    "new_df.assign(weekday=df['weekday']).groupby('weekday')[['주문일로부터배송완료시간'] + [c for c in new_df.columns if '대분류' in c]].corr()['주문일로부터배송완료시간']"
   ]
  },
  {
   "cell_type": "code",
   "execution_count": 27,
   "id": "11387fca-3bc5-4d88-8733-c3862bce0673",
   "metadata": {},
   "outputs": [
    {
     "data": {
      "text/plain": [
       "Index(['주문일로부터배송완료시간', '택배이동기간', '대분류_착지물동량 가구/인테리어', '대분류_착지물동량 기타',\n",
       "       '대분류_착지물동량 도서/음반', '대분류_착지물동량 디지털/가전', '대분류_착지물동량 생활/건강',\n",
       "       '대분류_착지물동량 스포츠/레저', '대분류_착지물동량 식품', '대분류_착지물동량 출산/육아', '대분류_착지물동량 패션의류',\n",
       "       '대분류_착지물동량 패션잡화', '대분류_착지물동량 화장품/미용'],\n",
       "      dtype='object')"
      ]
     },
     "execution_count": 27,
     "metadata": {},
     "output_type": "execute_result"
    }
   ],
   "source": [
    "new_df.columns"
   ]
  },
  {
   "cell_type": "code",
   "execution_count": 34,
   "id": "916b0118-9807-47ee-ab6f-1016f3d53fec",
   "metadata": {},
   "outputs": [
    {
     "name": "stdout",
     "output_type": "stream",
     "text": [
      "lag 0: -0.268\n",
      "lag 1: -0.076\n",
      "lag 2:  0.112\n",
      "lag 3:  0.121\n",
      "                            OLS Regression Results                            \n",
      "==============================================================================\n",
      "Dep. Variable:                   리드타임   R-squared:                       0.088\n",
      "Model:                            OLS   Adj. R-squared:                  0.074\n",
      "Method:                 Least Squares   F-statistic:                     6.211\n",
      "Date:                Mon, 23 Jun 2025   Prob (F-statistic):           1.13e-07\n",
      "Time:                        09:34:40   Log-Likelihood:                -75.122\n",
      "No. Observations:                 522   AIC:                             168.2\n",
      "Df Residuals:                     513   BIC:                             206.6\n",
      "Df Model:                           8                                         \n",
      "Covariance Type:            nonrobust                                         \n",
      "===================================================================================\n",
      "                      coef    std err          t      P>|t|      [0.025      0.975]\n",
      "-----------------------------------------------------------------------------------\n",
      "Intercept           3.7553      0.090     41.856      0.000       3.579       3.932\n",
      "C(weekday)[T.1]    -0.0503      0.050     -0.997      0.319      -0.149       0.049\n",
      "C(weekday)[T.2]    -0.0418      0.053     -0.783      0.434      -0.147       0.063\n",
      "C(weekday)[T.3]     0.0008      0.054      0.015      0.988      -0.105       0.106\n",
      "C(weekday)[T.4]     0.0221      0.056      0.397      0.692      -0.087       0.131\n",
      "C(weekday)[T.5]     0.1008      0.075      1.349      0.178      -0.046       0.248\n",
      "C(weekday)[T.6]     0.1029      0.072      1.430      0.153      -0.038       0.244\n",
      "물량              -6.149e-06    5.2e-06     -1.182      0.238   -1.64e-05    4.07e-06\n",
      "I(물량 ** 0.5)        0.0008      0.001      0.650      0.516      -0.002       0.003\n",
      "==============================================================================\n",
      "Omnibus:                      595.147   Durbin-Watson:                   1.059\n",
      "Prob(Omnibus):                  0.000   Jarque-Bera (JB):            56550.691\n",
      "Skew:                           5.189   Prob(JB):                         0.00\n",
      "Kurtosis:                      52.923   Cond. No.                     2.78e+05\n",
      "==============================================================================\n",
      "\n",
      "Notes:\n",
      "[1] Standard Errors assume that the covariance matrix of the errors is correctly specified.\n",
      "[2] The condition number is large, 2.78e+05. This might indicate that there are\n",
      "strong multicollinearity or other numerical problems.\n"
     ]
    }
   ],
   "source": [
    "# 0) 날짜·리드타임·물량 집계\n",
    "daily = (\n",
    "    new_df.groupby('배송완료일')\n",
    "          .agg(리드타임=('주문일로부터배송완료시간', 'mean'),\n",
    "               **{f'{c}_mean': (c, 'mean')          # 각 대분류별 평균\n",
    "                  for c in new_df.columns if '대분류' in c})\n",
    "          .reset_index()\n",
    ")\n",
    "\n",
    "daily['weekday'] = daily['배송완료일'].dt.weekday\n",
    "daily['물량']    = daily.filter(like='_mean').sum(axis=1)   # 모든 대분류 합계\n",
    "\n",
    "# 1) 상관(Lag 0~3일)\n",
    "for k in range(4):\n",
    "    corr = (daily[['리드타임']]\n",
    "              .assign(물량_lag=daily['물량'].shift(k))\n",
    "              .corr()\n",
    "              .iloc[0,1])\n",
    "    print(f'lag {k}: {corr: .3f}')\n",
    "\n",
    "# 2) 다중 회귀 (필수 변수만)\n",
    "import statsmodels.formula.api as smf\n",
    "formula = '리드타임 ~ 물량 + C(weekday) + I(물량 ** 0.5)'\n",
    "fit = smf.ols(formula, data=daily).fit()\n",
    "print(fit.summary())"
   ]
  },
  {
   "cell_type": "markdown",
   "id": "cdb216a8-3e20-4007-8bbf-ef5e1f9df3f0",
   "metadata": {},
   "source": [
    "# 귀무가설 : 물량이 리드타임에 영향을 줄 것이다. -> 기각.."
   ]
  },
  {
   "cell_type": "code",
   "execution_count": null,
   "id": "026375f4-9edf-468c-a65b-4b620b2a031b",
   "metadata": {},
   "outputs": [],
   "source": []
  }
 ],
 "metadata": {
  "kernelspec": {
   "display_name": "Python 3 (ipykernel)",
   "language": "python",
   "name": "python3"
  },
  "language_info": {
   "codemirror_mode": {
    "name": "ipython",
    "version": 3
   },
   "file_extension": ".py",
   "mimetype": "text/x-python",
   "name": "python",
   "nbconvert_exporter": "python",
   "pygments_lexer": "ipython3",
   "version": "3.12.3"
  }
 },
 "nbformat": 4,
 "nbformat_minor": 5
}
