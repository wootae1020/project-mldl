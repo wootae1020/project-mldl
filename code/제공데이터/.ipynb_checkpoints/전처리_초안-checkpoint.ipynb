{
 "cells": [
  {
   "cell_type": "markdown",
   "id": "2cd6e3e9-8241-4f54-aaed-c93b4ee4e93f",
   "metadata": {},
   "source": [
    "# 병합 및 데이터 확인"
   ]
  },
  {
   "cell_type": "code",
   "execution_count": 236,
   "id": "28086e77-fad9-4451-adbb-9952dcb3137e",
   "metadata": {
    "scrolled": true
   },
   "outputs": [],
   "source": [
    "import pandas as pd\n",
    "Sales = pd.read_csv('Sales_data.csv', low_memory=False)\n",
    "Sales.drop('Unnamed: 0', axis=1, inplace=True)\n",
    "Product = pd.read_csv('Product_data.csv')\n",
    "Member = pd.read_csv('Member_data.csv', low_memory=False)"
   ]
  },
  {
   "cell_type": "code",
   "execution_count": 237,
   "id": "fb7e36a7-351d-4b2e-adea-8fd78d00d732",
   "metadata": {
    "scrolled": true
   },
   "outputs": [
    {
     "name": "stdout",
     "output_type": "stream",
     "text": [
      "Sales에만 있는 고객번호 수: 0\n",
      "예시: []\n",
      "Member에만 있는 고객번호 수: 0\n",
      "예시: []\n"
     ]
    }
   ],
   "source": [
    "# 1) 고객번호를 문자열로 통일 후 strip()\n",
    "sales_ids  = set(Sales ['고객번호'].astype(str).str.strip())\n",
    "member_ids = set(Member['고객번호'].astype(str).str.strip())\n",
    "\n",
    "# 2) Sales에는 있지만 Member에는 없는 고객\n",
    "sales_only = sales_ids - member_ids\n",
    "print(\"Sales에만 있는 고객번호 수:\", len(sales_only))\n",
    "print(\"예시:\", list(sales_only)[:10])\n",
    "\n",
    "# 3) Member에는 있지만 Sales에는 없는 고객\n",
    "member_only = member_ids - sales_ids\n",
    "print(\"Member에만 있는 고객번호 수:\", len(member_only))\n",
    "print(\"예시:\", list(member_only)[:10])"
   ]
  },
  {
   "cell_type": "code",
   "execution_count": 238,
   "id": "ca38cb04-f017-490d-b62a-9700eac7ddef",
   "metadata": {},
   "outputs": [
    {
     "name": "stdout",
     "output_type": "stream",
     "text": [
      "<class 'pandas.core.frame.DataFrame'>\n",
      "RangeIndex: 81360 entries, 0 to 81359\n",
      "Data columns (total 8 columns):\n",
      " #   Column  Non-Null Count  Dtype  \n",
      "---  ------  --------------  -----  \n",
      " 0   고객번호    81360 non-null  object \n",
      " 1   성별      81094 non-null  object \n",
      " 2   결혼유무    81094 non-null  object \n",
      " 3   거주지역    81094 non-null  object \n",
      " 4   연령      81094 non-null  float64\n",
      " 5   결제등록카드  81094 non-null  object \n",
      " 6   유입경로    81094 non-null  object \n",
      " 7   자녀여부    81094 non-null  object \n",
      "dtypes: float64(1), object(7)\n",
      "memory usage: 5.0+ MB\n"
     ]
    }
   ],
   "source": [
    "Member.info()"
   ]
  },
  {
   "cell_type": "code",
   "execution_count": 239,
   "id": "04b6f912-180f-4832-80da-73353275660f",
   "metadata": {
    "scrolled": true
   },
   "outputs": [
    {
     "name": "stdout",
     "output_type": "stream",
     "text": [
      "<class 'pandas.core.frame.DataFrame'>\n",
      "Index: 81094 entries, 0 to 81093\n",
      "Data columns (total 8 columns):\n",
      " #   Column  Non-Null Count  Dtype  \n",
      "---  ------  --------------  -----  \n",
      " 0   고객번호    81094 non-null  object \n",
      " 1   성별      81094 non-null  object \n",
      " 2   결혼유무    81094 non-null  object \n",
      " 3   거주지역    81094 non-null  object \n",
      " 4   연령      81094 non-null  float64\n",
      " 5   결제등록카드  81094 non-null  object \n",
      " 6   유입경로    81094 non-null  object \n",
      " 7   자녀여부    81094 non-null  object \n",
      "dtypes: float64(1), object(7)\n",
      "memory usage: 5.6+ MB\n"
     ]
    }
   ],
   "source": [
    "Member = Member.dropna()\n",
    "Member.info()"
   ]
  },
  {
   "cell_type": "code",
   "execution_count": 240,
   "id": "57821705-d11e-4bb3-adaf-dac5ff054b56",
   "metadata": {
    "scrolled": true
   },
   "outputs": [
    {
     "name": "stdout",
     "output_type": "stream",
     "text": [
      "Sales에만 있는 고객번호 수: 266\n",
      "예시: ['201912291058235', '201912311058978', '201912301058581', '201912301058683', '201912301058716', '20200629110941551863', '20200624152856010330', '201912311058963', '201912311058852', '201912311058917']\n",
      "Member에만 있는 고객번호 수: 0\n",
      "예시: []\n"
     ]
    }
   ],
   "source": [
    "# 1) 고객번호를 문자열로 통일 후 strip()\n",
    "sales_ids  = set(Sales ['고객번호'].astype(str).str.strip())\n",
    "member_ids = set(Member['고객번호'].astype(str).str.strip())\n",
    "\n",
    "# 2) Sales에는 있지만 Member에는 없는 고객\n",
    "sales_only = sales_ids - member_ids\n",
    "print(\"Sales에만 있는 고객번호 수:\", len(sales_only))\n",
    "print(\"예시:\", list(sales_only)[:10])\n",
    "\n",
    "# 3) Member에는 있지만 Sales에는 없는 고객\n",
    "member_only = member_ids - sales_ids\n",
    "print(\"Member에만 있는 고객번호 수:\", len(member_only))\n",
    "print(\"예시:\", list(member_only)[:10])"
   ]
  },
  {
   "cell_type": "code",
   "execution_count": 241,
   "id": "6f6fe087-d09e-4a54-bd00-5a10792825fb",
   "metadata": {
    "scrolled": true
   },
   "outputs": [
    {
     "name": "stdout",
     "output_type": "stream",
     "text": [
      "원본 Sales 행 수: 199999\n",
      "   Sales2 행 수: 199583\n"
     ]
    }
   ],
   "source": [
    "# 1) 문자열 정리 후 집합 재생성\n",
    "sales_ids  = set(Sales['고객번호'].astype(str).str.strip())\n",
    "member_ids = set(Member['고객번호'].astype(str).str.strip())\n",
    "\n",
    "# 2) Sales에만 있는 고객번호 추출\n",
    "sales_only = sales_ids - member_ids\n",
    "\n",
    "# 3) Sales2 생성: sales_only에 속하지 않는 행만 남김\n",
    "Sales2 = Sales[~Sales['고객번호'].astype(str).str.strip().isin(sales_only)].copy()\n",
    "\n",
    "# 4) 결과 확인\n",
    "print(\"원본 Sales 행 수:\", len(Sales))\n",
    "print(\"   Sales2 행 수:\", len(Sales2))"
   ]
  },
  {
   "cell_type": "markdown",
   "id": "e6ab1c2b-43b1-4bce-ad8c-02ce5f297dc7",
   "metadata": {},
   "source": [
    "하이픈 차이 확인"
   ]
  },
  {
   "cell_type": "code",
   "execution_count": 242,
   "id": "de126555-d7bc-477e-8d6f-6d1189767747",
   "metadata": {
    "scrolled": true
   },
   "outputs": [
    {
     "name": "stdout",
     "output_type": "stream",
     "text": [
      "하이픈 포함 행 수: 21436\n",
      "하이픈 미포함 행 수: 178147\n"
     ]
    }
   ],
   "source": [
    "# 주문번호를 문자열로 통일\n",
    "Sales2['주문번호'] = Sales2['주문번호'].astype(str)\n",
    "\n",
    "# 하이픈 포함 여부 마스크\n",
    "mask_hyphen     = Sales2['주문번호'].str.contains('-', na=False)\n",
    "mask_no_hyphen  = ~mask_hyphen\n",
    "\n",
    "# 두 그룹으로 분리\n",
    "df_hyphen    = Sales2[mask_hyphen]\n",
    "df_no_hyphen = Sales2[mask_no_hyphen]\n",
    "\n",
    "print(\"하이픈 포함 행 수:\", len(df_hyphen))\n",
    "print(\"하이픈 미포함 행 수:\", len(df_no_hyphen))"
   ]
  },
  {
   "cell_type": "code",
   "execution_count": 243,
   "id": "ee0b3e36-6753-40e4-a075-87caac24e8f1",
   "metadata": {},
   "outputs": [
    {
     "data": {
      "image/png": "[encoded data removed]",
      "text/plain": [
       "<Figure size 800x400 with 1 Axes>"
      ]
     },
     "metadata": {},
     "output_type": "display_data"
    }
   ],
   "source": [
    "import pandas as pd\n",
    "import matplotlib.pyplot as plt\n",
    "\n",
    "plt.rcParams['font.family'] = 'Malgun Gothic'\n",
    "plt.rcParams['axes.unicode_minus'] = False\n",
    "\n",
    "# --- 0) df_hyphen, df_no_hyphen을 뷰(view)가 아닌 복사본(copy)으로 생성\n",
    "df_hyphen    = Sales2[Sales2['주문번호'].str.contains('-', na=False)].copy()\n",
    "df_no_hyphen = Sales2[~Sales2['주문번호'].str.contains('-', na=False)].copy()\n",
    "\n",
    "# --- 1) '구매일'을 datetime으로 변환\n",
    "df_hyphen['구매일']    = pd.to_datetime(df_hyphen['구매일'], errors='coerce')\n",
    "df_no_hyphen['구매일'] = pd.to_datetime(df_no_hyphen['구매일'], errors='coerce')\n",
    "\n",
    "# --- 2) 월별 주문 건수 집계\n",
    "monthly = pd.DataFrame({\n",
    "    'hyphen':    df_hyphen.groupby(df_hyphen['구매일'].dt.to_period('M'))['주문번호'].count(),\n",
    "    'no_hyphen': df_no_hyphen.groupby(df_no_hyphen['구매일'].dt.to_period('M'))['주문번호'].count()\n",
    "}).fillna(0)\n",
    "\n",
    "# --- 3) PeriodIndex → Timestamp로 변환 (시각화 편의)\n",
    "monthly.index = monthly.index.to_timestamp()\n",
    "\n",
    "# --- 4) 시각화\n",
    "fig, ax = plt.subplots(figsize=(8, 4))\n",
    "monthly.plot(ax=ax, marker='o')\n",
    "ax.set_title('월별 주문 건수 비교')\n",
    "ax.set_xlabel('월')\n",
    "ax.set_ylabel('주문 건수')\n",
    "ax.grid(True)\n",
    "plt.tight_layout()\n",
    "plt.show()\n"
   ]
  },
  {
   "cell_type": "code",
   "execution_count": 244,
   "id": "08f98a36-c910-4ef0-9e87-f53ad6f27802",
   "metadata": {
    "scrolled": true
   },
   "outputs": [
    {
     "name": "stdout",
     "output_type": "stream",
     "text": [
      "<class 'pandas.core.frame.DataFrame'>\n",
      "Index: 199583 entries, 0 to 199998\n",
      "Data columns (total 10 columns):\n",
      " #   Column  Non-Null Count   Dtype  \n",
      "---  ------  --------------   -----  \n",
      " 0   주문번호    199583 non-null  object \n",
      " 1   배송완료일   199583 non-null  object \n",
      " 2   배송시작일   199583 non-null  object \n",
      " 3   구매일     199583 non-null  object \n",
      " 4   구매시월령   167840 non-null  float64\n",
      " 5   고객번호    199583 non-null  object \n",
      " 6   구매금액    199583 non-null  int64  \n",
      " 7   결제금액    199583 non-null  int64  \n",
      " 8   물품대분류   199583 non-null  object \n",
      " 9   상품명     199583 non-null  object \n",
      "dtypes: float64(1), int64(2), object(7)\n",
      "memory usage: 16.7+ MB\n",
      "<class 'pandas.core.frame.DataFrame'>\n",
      "RangeIndex: 3048 entries, 0 to 3047\n",
      "Data columns (total 4 columns):\n",
      " #   Column  Non-Null Count  Dtype \n",
      "---  ------  --------------  ----- \n",
      " 0   물품대분류   3048 non-null   object\n",
      " 1   상품명     3048 non-null   object\n",
      " 2   물품판매량   3048 non-null   int64 \n",
      " 3   제품단가    3048 non-null   int64 \n",
      "dtypes: int64(2), object(2)\n",
      "memory usage: 95.4+ KB\n",
      "<class 'pandas.core.frame.DataFrame'>\n",
      "Index: 81094 entries, 0 to 81093\n",
      "Data columns (total 8 columns):\n",
      " #   Column  Non-Null Count  Dtype  \n",
      "---  ------  --------------  -----  \n",
      " 0   고객번호    81094 non-null  object \n",
      " 1   성별      81094 non-null  object \n",
      " 2   결혼유무    81094 non-null  object \n",
      " 3   거주지역    81094 non-null  object \n",
      " 4   연령      81094 non-null  float64\n",
      " 5   결제등록카드  81094 non-null  object \n",
      " 6   유입경로    81094 non-null  object \n",
      " 7   자녀여부    81094 non-null  object \n",
      "dtypes: float64(1), object(7)\n",
      "memory usage: 5.6+ MB\n"
     ]
    }
   ],
   "source": [
    "Sales2.info()\n",
    "Product.info()\n",
    "Member.info()"
   ]
  },
  {
   "cell_type": "code",
   "execution_count": 245,
   "id": "bf111b39-f4f4-4a4d-9439-1303f031aeef",
   "metadata": {
    "scrolled": true
   },
   "outputs": [
    {
     "name": "stdout",
     "output_type": "stream",
     "text": [
      "■ 최종 병합된 DataFrame info\n",
      "<class 'pandas.core.frame.DataFrame'>\n",
      "RangeIndex: 209593 entries, 0 to 209592\n",
      "Data columns (total 20 columns):\n",
      " #   Column   Non-Null Count   Dtype  \n",
      "---  ------   --------------   -----  \n",
      " 0   주문번호     209593 non-null  object \n",
      " 1   배송완료일    209593 non-null  object \n",
      " 2   배송시작일    209593 non-null  object \n",
      " 3   구매일      209593 non-null  object \n",
      " 4   구매시월령    176781 non-null  float64\n",
      " 5   고객번호     209593 non-null  object \n",
      " 6   구매금액     209593 non-null  int64  \n",
      " 7   결제금액     209593 non-null  int64  \n",
      " 8   물품대분류_x  209593 non-null  object \n",
      " 9   상품명      209593 non-null  object \n",
      " 10  물품대분류_y  209593 non-null  object \n",
      " 11  물품판매량    209593 non-null  int64  \n",
      " 12  제품단가     209593 non-null  int64  \n",
      " 13  성별       209593 non-null  object \n",
      " 14  결혼유무     209593 non-null  object \n",
      " 15  거주지역     209593 non-null  object \n",
      " 16  연령       209593 non-null  float64\n",
      " 17  결제등록카드   209593 non-null  object \n",
      " 18  유입경로     209593 non-null  object \n",
      " 19  자녀여부     209593 non-null  object \n",
      "dtypes: float64(2), int64(4), object(14)\n",
      "memory usage: 32.0+ MB\n",
      "None\n",
      "\n",
      "■ 결측치 개수\n",
      "주문번호           0\n",
      "배송완료일          0\n",
      "배송시작일          0\n",
      "구매일            0\n",
      "구매시월령      32812\n",
      "고객번호           0\n",
      "구매금액           0\n",
      "결제금액           0\n",
      "물품대분류_x        0\n",
      "상품명            0\n",
      "물품대분류_y        0\n",
      "물품판매량          0\n",
      "제품단가           0\n",
      "성별             0\n",
      "결혼유무           0\n",
      "거주지역           0\n",
      "연령             0\n",
      "결제등록카드         0\n",
      "유입경로           0\n",
      "자녀여부           0\n",
      "dtype: int64\n"
     ]
    }
   ],
   "source": [
    "import pandas as pd\n",
    "\n",
    "# (이미 불러온 Sales2, Product, Member 가정)\n",
    "\n",
    "# 0) 문자열 필드들 strip + 타입 통일\n",
    "Sales2['상품명']     = Sales2['상품명'].astype(str).str.strip()\n",
    "Sales2['고객번호']   = Sales2['고객번호'].astype(str).str.strip()\n",
    "\n",
    "Product['상품명']     = Product['상품명'].astype(str).str.strip()\n",
    "\n",
    "Member['고객번호']   = Member['고객번호'].astype(str).str.strip()\n",
    "\n",
    "# 1) Sales2 + Product 병합 (상품 정보 붙이기)\n",
    "sales_prod = Sales2.merge(\n",
    "    Product,\n",
    "    on='상품명',\n",
    "    how='left',              # 모든 주문 행 유지\n",
    ")\n",
    "\n",
    "# 2) sales_prod + Member 병합 (고객 정보 붙이기)\n",
    "full_df = sales_prod.merge(\n",
    "    Member,\n",
    "    on='고객번호',\n",
    "    how='left',              # 모든 주문 행 유지\n",
    ")\n",
    "\n",
    "# 3) 결과 확인\n",
    "print(\"■ 최종 병합된 DataFrame info\")\n",
    "print(full_df.info())\n",
    "\n",
    "# 옵션: 결측 확인\n",
    "print(\"\\n■ 결측치 개수\")\n",
    "print(full_df.isna().sum())"
   ]
  },
  {
   "cell_type": "code",
   "execution_count": 246,
   "id": "dff596c9-a7ba-4dfc-984d-d84444822b05",
   "metadata": {},
   "outputs": [
    {
     "data": {
      "text/plain": [
       "array(['팬티', '체험팩', '물티슈', '더블하트', '기저귀', 'SKC', 'FMC', 'FC', '기타', 'SrC'],\n",
       "      dtype=object)"
      ]
     },
     "execution_count": 246,
     "metadata": {},
     "output_type": "execute_result"
    }
   ],
   "source": [
    "full_df['물품대분류_x'].unique()"
   ]
  },
  {
   "cell_type": "code",
   "execution_count": 247,
   "id": "3c561c9f-14fb-4a7d-a9b9-fd20762ff871",
   "metadata": {},
   "outputs": [],
   "source": [
    "df = full_df.drop(['물품대분류_y'], axis=1)"
   ]
  },
  {
   "cell_type": "code",
   "execution_count": 248,
   "id": "3e30869b-3703-4746-bbf6-0175716d3dd4",
   "metadata": {
    "scrolled": true
   },
   "outputs": [
    {
     "name": "stdout",
     "output_type": "stream",
     "text": [
      "<class 'pandas.core.frame.DataFrame'>\n",
      "RangeIndex: 209593 entries, 0 to 209592\n",
      "Data columns (total 19 columns):\n",
      " #   Column   Non-Null Count   Dtype  \n",
      "---  ------   --------------   -----  \n",
      " 0   주문번호     209593 non-null  object \n",
      " 1   배송완료일    209593 non-null  object \n",
      " 2   배송시작일    209593 non-null  object \n",
      " 3   구매일      209593 non-null  object \n",
      " 4   구매시월령    176781 non-null  float64\n",
      " 5   고객번호     209593 non-null  object \n",
      " 6   구매금액     209593 non-null  int64  \n",
      " 7   결제금액     209593 non-null  int64  \n",
      " 8   물품대분류_x  209593 non-null  object \n",
      " 9   상품명      209593 non-null  object \n",
      " 10  물품판매량    209593 non-null  int64  \n",
      " 11  제품단가     209593 non-null  int64  \n",
      " 12  성별       209593 non-null  object \n",
      " 13  결혼유무     209593 non-null  object \n",
      " 14  거주지역     209593 non-null  object \n",
      " 15  연령       209593 non-null  float64\n",
      " 16  결제등록카드   209593 non-null  object \n",
      " 17  유입경로     209593 non-null  object \n",
      " 18  자녀여부     209593 non-null  object \n",
      "dtypes: float64(2), int64(4), object(13)\n",
      "memory usage: 30.4+ MB\n"
     ]
    }
   ],
   "source": [
    "df.info()"
   ]
  },
  {
   "cell_type": "markdown",
   "id": "3da46719-a000-47c3-9d7d-18a41bfc80a3",
   "metadata": {
    "jp-MarkdownHeadingCollapsed": true
   },
   "source": [
    "# 물품대분류 작업"
   ]
  },
  {
   "cell_type": "code",
   "execution_count": 249,
   "id": "bfedd740-c500-4479-ba0c-5557b2ecf3aa",
   "metadata": {},
   "outputs": [],
   "source": [
    "import numpy as np\n",
    "df['물품대분류'] = np.nan\n",
    "df['물품대분류'] = df['물품대분류'].astype('object')"
   ]
  },
  {
   "cell_type": "code",
   "execution_count": 250,
   "id": "6fea7005-71d5-4933-982e-4be9fe71e392",
   "metadata": {},
   "outputs": [],
   "source": [
    "keywords = {\n",
    "\n",
    "    '티엔 AC 매끈 진정 시트 마스크(7매)':'SKC',\n",
    "    '티엔 BT21 AC 진정 시트 마스크(7매)':'SKC',\n",
    "    '스킨카밍 엔자임 멀티토닉':'SKC',\n",
    "    '액티브 엔자임 볼륨 앤 스칼프 샴푸':'SKC',\n",
    "    '손 소독제 겔':'FMC',\n",
    "    '마일드 페미닌 워시':'FC',\n",
    "\n",
    "    '(증정) 티엔 매끈 진정 마스크팩 (EA)':'SKC',\n",
    "    '트레제메 모이스처 리치 린스 900ml X 2':'SKC',\n",
    "    '트레제메 모이스처 리치 샴푸 900ml X 2':'SKC',\n",
    "    '[임직원] 티엔 BT21 AC 컨트롤 세트 (토너+로션+버블폼 3종)':'SKC',\n",
    "    \n",
    "    '그린핑거 손소독 물티슈 캡형':'FMC',\n",
    "    \n",
    "    '레고':'기타',\n",
    "    \n",
    "    '체험':'체험팩',\n",
    "    '맘큐 허그박스':'체험팩',\n",
    "    '하기스 샘플러 3단계':'체험팩',\n",
    "    '하기스 샘플러 4단계':'체험팩',\n",
    "    \n",
    "    '라네이처 페미닌 티슈':'FC',\n",
    "    '좋은느낌 라인프렌즈 유기농 순면':'FC',\n",
    "    '좋은느낌 라인프렌즈 유기농순면':'FC',\n",
    "    \n",
    "    'KF94':'FMC',\n",
    "    '크리넥스 메이브리즈 황사마스크':'FMC',\n",
    "    '크리넥스 도톰한 순수 3겹 35m-36롤':'FMC',\n",
    "    '스카트 세트':'FMC',\n",
    "    '진정 시트 마스크':'FMC',\n",
    "    \n",
    "    '물티슈 캡형':'물티슈',\n",
    "    '아기물티슈':'물티슈',\n",
    "    '하기스 수딩케어 물티슈':'물티슈',\n",
    "    '물티슈 세트':'물티슈',\n",
    "    '하기스 뉴본케어 물티슈':'물티슈',\n",
    "    '하기스 모이스처케어 물티슈':'물티슈',\n",
    "    '하기스 네이처메이드 밤부 물티슈 휴대용 20매X12팩':'물티슈',\n",
    "    \n",
    "    '티엔 AC 뽀송 피지조절 시트 마스크(7매)' :'SKC',\n",
    "    '티엔 AC 매끈 진정 시트 마스크(7매)':'SKC',\n",
    "    '티엔 BT21 AC 진정 시트 마스크(7매)':'SKC',\n",
    "    '클렌징 티슈':'SKC',\n",
    "    '클렌징 폼':'SKC',\n",
    "    '티엔 BT21 촉촉 워터 클렌징 티슈':'SKC',\n",
    "    '그린핑거 야외놀이 선크림':'SKC',\n",
    "    '대용량 베이비밤':'SKC',\n",
    "    '그린핑거 마이키즈':'SKC',\n",
    "    '그린핑거 베이비':'SKC',\n",
    "    '퓨어클렌징 티슈':'SKC',\n",
    "    '선팩트':'SKC',\n",
    "    '레드투래드 안티더스트 클렌징 오일':'SKC',\n",
    "    '레드투래드 안티더스트 배리어 미스트':'SKC',\n",
    "\n",
    "    '하기스 에어솔솔 썸머기저귀':'기저귀',\n",
    "    \n",
    "    '티슈':'FMC', # 로션 때문에 먼저 실행\n",
    "    '행주':'FMC',\n",
    "    '수세미':'FMC',\n",
    "    '청소포':'FMC',\n",
    "    '화장지':'FMC',\n",
    "    '키친타월':'FMC',\n",
    "    '키친타올':'FMC', \n",
    "    '마이비데':'FMC',\n",
    "    '막대걸레':'FMC',\n",
    "    '습기제거제':'FMC',\n",
    "    '주방 위생 세트':'FMC',\n",
    "    '콧물전용 물티슈':'FMC',\n",
    "    '크리넥스 클래식':'FMC',    \n",
    "    '크리넥스 순수 3겹':'FMC',\n",
    "    '크리넥스 울트라클린':'FMC',\n",
    "    '크리넥스 실크소프트':'FMC',\n",
    "    '크리넥스 NEW 디럭스':'FMC',\n",
    "    '크리넥스/스카트 세트':'FMC',\n",
    "    '크리넥스 3겹 클린케어':'FMC',\n",
    "    '크리넥스 3겹 천연펄프':'FMC',\n",
    "    '크리넥스 + 스카트 세트':'FMC',\n",
    "    '크리넥스 수프림 소프트':'FMC',\n",
    "    '크리넥스 디럭스 신수성':'FMC',\n",
    "    '크리넥스 보습에센스로션':'FMC',\n",
    "    '크리넥스 호호바수딩로션':'FMC',\n",
    "    '크리넥스 3겹 울트라클린':'FMC', \n",
    "    '크리넥스 3겹 순수 소프트':'FMC',\n",
    "    '크리넥스 수앤수 코튼클린':'FMC',\n",
    "    '크리넥스 3겹 데코앤소프트':'FMC',\n",
    "    '크리넥스 3겹 수프림 소프트':'FMC',\n",
    "    '크리넥스 데코앤소프트 클래식':'FMC',\n",
    "    '크리넥스 여행용 호호바수딩로션':'FMC',\n",
    "    '스타일마스크':'FMC',\n",
    "    '크리넥스 황사마스크 뉴디자인플러스':'FMC',\n",
    "    '크리넥스 가습촉촉 마스크':'FMC',\n",
    "    '입체 마스크':'FMC',\n",
    "    '크리넥스 황사용 마스크':'FMC',\n",
    "    '크리넥스 데일리 입체마스크':'FMC',\n",
    "    '크리넥스 카카오 프렌즈 건강 마스크':'FMC',\n",
    "\n",
    "    '더블하트':'더블하트',\n",
    "    '안심 위생 관리 세트':'더블하트',    \n",
    "    '이유식기 준비 끝! 세트':'더블하트',\n",
    "    '젖병 깔끔 세척 끝! 세트':'더블하트',\n",
    "    '젖병트윈팩':'더블하트',\n",
    "\n",
    "    '택배파손':'택배파손',\n",
    "\n",
    "    '디펜드 스타일 언더웨어':'SrC',\n",
    "    '디펜드 안심플러스 언더웨어':'SrC',\n",
    "    '디펜드 안심케어 매직테이프':'SrC',\n",
    "    '디펜드 스타일 라이너 여성용 무향 롱':'SrC',\n",
    "\n",
    "    '보행기':'기타',\n",
    "    '레드투래드':'기타',\n",
    "    '쥬트 린넨 쇼퍼백':'기타',\n",
    "    '스카트 이벤트 상품':'기타',\n",
    "    '키즈밴드 랜덤 1종 증정':'기타',\n",
    "    '미미루 뱀부 이중 블랭킷':'기타',\n",
    "    '낮잠이불세트':'기타',\n",
    "    '롤매트':'기타',\n",
    "    '너프건':'기타',\n",
    "    '헤이즐넛 코코아 스프레드':'기타',\n",
    "    '식탁의자':'기타',\n",
    "    '비타민':'기타',\n",
    "    '젤리':'기타',\n",
    "    '방수요':'기타',\n",
    "    '배냇슈트':'기타',\n",
    "    '아기띠침받이':'기타',\n",
    "    '외출용 필수 3종세트':'기타',\n",
    "    '유아 대형 목욕타올':'기타',\n",
    "    '손타올':'기타',\n",
    "    '유아 외출용 미니타올3장':'기타',\n",
    "    '속싸개':'기타',\n",
    "    '10종 기획 특선 출산 세트':'기타',\n",
    "    '배냇저고리':'기타',\n",
    "    '아기띠 침받이':'기타',\n",
    "    '출산준비세트':'기타',\n",
    "    '아기띠워머':'기타',\n",
    "    '유아목욕타올':'기타',\n",
    "    '턱받이':'기타',\n",
    "    '드시모네':'기타',\n",
    "    '디어에코':'기타',\n",
    "    '디즈니베이비':'기타',\n",
    "    '라그랑':'기타',\n",
    "    '라밀로우':'기타',\n",
    "    '라인프렌즈':'기타',\n",
    "    '레고':'기타',\n",
    "    '룰라러브':'기타',\n",
    "    '리틀누':'기타',\n",
    "    '리틀마마':'기타',\n",
    "    '릴라스틸':'기타',\n",
    "    '마이포코리아':'기타',\n",
    "    '맘마밀':'기타',\n",
    "    '맘스앱솔루트':'기타',\n",
    "    '매일우유':'기타',\n",
    "    '매직캔':'기타',\n",
    "    '먼치킨':'기타',\n",
    "    '메가블럭':'기타',\n",
    "    '메릴린':'기타',\n",
    "    '몽슈레':'기타',\n",
    "    '무무브':'기타',\n",
    "    '믹스드페어스':'기타',\n",
    "    '바오밥성장그림':'기타',\n",
    "    '베이비머핀':'기타',\n",
    "    '베이비아인슈타인':'기타',\n",
    "    '보니타베베':'기타',\n",
    "    '보보앤부':'기타',\n",
    "    '보쉬토이':'기타',\n",
    "    '본토이':'기타',\n",
    "    '브라이트스타트':'기타',\n",
    "    '브리카':'기타',\n",
    "    '비더마틱':'기타',\n",
    "    '비박스':'기타',\n",
    "    '비츠':'기타',\n",
    "    '뽀드미엘':'기타',\n",
    "    '뿌띠슈':'기타',\n",
    "    '쁘띠베베':'기타',\n",
    "    '산골간식':'기타',\n",
    "    '상하목장':'기타',\n",
    "    '상하치즈':'기타',\n",
    "    '순수담다':'기타',\n",
    "    '스와들디자인':'기타',\n",
    "    '스와들업':'기타',\n",
    "    '시크릿쥬쥬':'기타',\n",
    "    '신비아파트':'기타',\n",
    "    '실리만':'기타',\n",
    "    '씨알로':'기타',\n",
    "    '아이스크림페어리':'기타',\n",
    "    '아이엠스페셜':'기타',\n",
    "    '아이헤이트먼데이':'기타',\n",
    "    '야마토야':'기타',\n",
    "    '에르고베이비':'기타',\n",
    "    '에르고파우치':'기타',\n",
    "    '에불로보':'기타',\n",
    "    '엔픽스':'기타',\n",
    "    '엘비니':'기타',\n",
    "    '엘트라':'기타',\n",
    "    '오볼':'기타',\n",
    "    '올라베이비':'기타',\n",
    "    '요미요미':'기타',\n",
    "    '윈펀':'기타',\n",
    "    '유한양행':'기타',\n",
    "    '율그란':'기타',\n",
    "    '임직원':'기타',\n",
    "    '젤리맘':'기타',\n",
    "    '조이':'기타',\n",
    "    '하기스 리미티드 비치볼':'기타',\n",
    "    '카가앤푸치':'기타',\n",
    "    '캐스돈':'기타',\n",
    "    '캐시크루즈':'기타',\n",
    "    '콱스':'기타',\n",
    "    '크로텍':'기타',\n",
    "    '키썸플레이':'기타',\n",
    "    '킨더초콜릿':'기타',\n",
    "    '탑브라이트':'기타',\n",
    "    '테스':'기타',\n",
    "    '트루자임':'기타',\n",
    "    '페레로로쉐':'기타',\n",
    "    '퓨리티':'기타',\n",
    "    '플레이도':'기타',\n",
    "    '피에스타':'기타',\n",
    "    '필리앤임프스':'기타',\n",
    "    '핑크퐁':'기타',\n",
    "    '해밀턴':'기타',\n",
    "    '미라클':'기타',\n",
    "    '메릴린':'기타',\n",
    "    '손소독 물티슈':'기타',\n",
    "    'NEW스턴트레이서 오렌지':'기타',\n",
    "    '립톤 아이스티 피치':'기타',\n",
    "    '스페셜기프트SET':'기타',\n",
    "    '애착인형':'기타',\n",
    "    '캐스돈':'기타',\n",
    "    '트레제메':'기타',\n",
    "    '티엔 하이드로콜로이드밴드':'기타',\n",
    "    '아쿠아슈즈':'기타',\n",
    "    '쿨토시':'기타',\n",
    "\n",
    "    '하기스 매직핏 꿀벅지 아기용 팬티':'팬티',\n",
    "    '하기스 맥스드라이 팬티':'팬티',\n",
    "    '하기스 NEW 네이처메이드 썸머팬티':'팬티',\n",
    "    '하기스 에어솔솔 팬티':'팬티',\n",
    "    '하기스 보송보송팬티':'팬티',\n",
    "    '하기스 매직핏팬티':'팬티',\n",
    "    '하기스 네이처메이드 팬티':'팬티',\n",
    "    '하기스 에어솔솔 썸머팬티':'팬티',\n",
    "    '굿나이트 남아 중형':'팬티',\n",
    "    '굿나이트 여아 중형':'팬티',\n",
    "    '굿나이트 여아 대형':'팬티',\n",
    "    '굿나이트 남아 대형':'팬티',\n",
    "    '하기스 매직팬티 컴포트핏':'팬티',\n",
    "    \n",
    "    '스마트 프리미엄 멤버십 가입선물':'기저귀',\n",
    "    '하기스 매직 컴포트':'기저귀',\n",
    "    '스마트 베이비 모니터':'기저귀', # 기저귀에 붙이는 거니까 !\n",
    "    '하기스 맥스드라이':'기저귀',\n",
    "    '하기스 네이처메이드':'기저귀',\n",
    "    '하기스 NEW 네이처메이드':'기저귀',\n",
    "    '하기스 보송보송':'기저귀',\n",
    "    '하기스 매직핏 꿀벅지 아기용 기저귀':'기저귀',\n",
    "\n",
    "    '그린핑거 베이비 세라마이드 크림':'SKC',\n",
    "    '그린핑거 마이키즈 자두야에디션 샴푸':'SKC',\n",
    "    '그린핑거 베이비 세라마이드 로션':'SKC',\n",
    "    '그린핑거 마이키즈 워시 대용량':'SKC',\n",
    "    '그린핑거 베이비 세라마이드 세트':'SKC',\n",
    "    '그린핑거 마이키즈 자두야에디션 촉촉 립밤':'SKC',\n",
    "    '그린핑거 마이키즈 워시 500ml(대용량) + 샴푸 500ml(대용량)':'SKC',\n",
    "    '선로션':'SKC',\n",
    "    '대용량 버블스':'SKC',\n",
    "    '손소독제겔':'SKC',\n",
    "    '손소독제 겔':'SKC',\n",
    "    '손 소독제 겔':'SKC',\n",
    "\n",
    "    '날개':'FC',\n",
    "    '날개형':'FC',\n",
    "    '팬티라이너':'FC',\n",
    "    '오버나이트':'FC',\n",
    "    '탐폰':'FC',\n",
    "    '디펜드 맘스':'FC',\n",
    "    '화이트 시크릿홀 수퍼롱':'FC',\n",
    "    '라네이처 데일리라이너 롱':'FC',\n",
    "    '라네이처 날개 오버나이트':'FC',\n",
    "    '라네이처 세트':'FC',\n",
    "    '라네이처 페미닌 워시 젤':'FC',\n",
    "    '라네이처 페미닌 워시 폼':'FC',\n",
    "    '디펜드 스타일 라이너 여성용':'FC',\n",
    "    '여성 청결제 페미닌 파우더':'FC',\n",
    "    '여성 질건강 유산균':'FC',\n",
    "    '[마더니아]':'FC',\n",
    "    '라네이처 시그니처 세트':'FC',\n",
    "\n",
    "    '팬티':'팬티',\n",
    "\n",
    "    '기저귀':'기저귀',\n",
    "\n",
    "    '하기스 샘플러':'기저귀',\n",
    "    '하기스 크린베베 순면감촉':'기저귀',\n",
    "    '물놀이팬티':'기저귀',\n",
    "\n",
    "    '티엔 매끈 진정 마스크팩':'기타',\n",
    "    '그린핑거 촉촉한 자연보습':'SKC',\n",
    "    '그린핑거 마이키즈':'SKC',\n",
    "    '그린핑거 힘센보습':'SKC',\n",
    "    '그린핑거 베이비':'SKC',\n",
    "    '그린핑거 인텐시브 투명 선밤':'SKC',\n",
    "    '그린핑거 퓨어 클렌징 워터':'SKC',\n",
    "    '젤로션':'SKC',\n",
    "    '로션':'SKC',\n",
    "    '샴푸&워시':'SKC',\n",
    "    '크림':'SKC',\n",
    "    '그린핑거 마이키즈 + 자두야에디션 세트':'SKC',\n",
    "    '그린핑거 마이키즈 + 힘센보습':'SKC',\n",
    "    '거품샴푸':'SKC',\n",
    "    '거품워시':'SKC',\n",
    "    '샴푸':'SKC',\n",
    "    '그린핑거 마이키즈 세트':'SKC',\n",
    "    '얼굴로션':'SKC',\n",
    "    '워시':'SKC',\n",
    "    '립밤':'SKC',\n",
    "    '핸드워시':'SKC',\n",
    "    '훼이셜솝':'SKC',\n",
    "    '미네랄 선팩트':'SKC',\n",
    "    '미네랄팩트':'SKC',\n",
    "    '그린핑거 베이비 세라마이드 세트':'SKC',\n",
    "    '훼이셜로션':'SKC',\n",
    "    '선로션':'SKC',\n",
    "    '선크림':'SKC',\n",
    "    '선밤':'SKC',\n",
    "    '선쿠션':'SKC',\n",
    "    '선팩트':'SKC',\n",
    "    '비누':'SKC',\n",
    "    '울트라크림':'SKC',\n",
    "    '탑투토워시':'SKC',\n",
    "    '클렌징 워터':'SKC',\n",
    "    '퓨어클렌징 티슈 캡':'SKC',\n",
    "    '선스틱':'SKC',\n",
    "    '선젤':'SKC',\n",
    "    '크리미오일':'SKC',\n",
    "    '티엔 AC 매끈 진정 시트 마스크':'SKC',\n",
    "    '티엔 촉촉':'SKC',\n",
    "    '수딩젤로션':'SKC',\n",
    "    '로션프레쉬':'SKC',\n",
    "    '바디워시':'SKC',\n",
    "    '티엔 BT21':'SKC',\n",
    "    '토너':'SKC',\n",
    "    '바세린 퓨어스킨 젤리':'SKC',\n",
    "    '판테딘 수딩젤':'SKC',\n",
    "    '판테딘 탑투토워시':'SKC',\n",
    "    '클렌징':'SKC',\n",
    "    '미스트':'SKC',\n",
    "    '도브 화이트 뷰티바':'SKC',\n",
    "\n",
    "    '릴리유 퓨어 무민 스프링에디션 캡형':'물티슈',\n",
    "    '물티슈':'물티슈', # 콧물 전용 물티슈 때문에 나중에\n",
    "    \n",
    "    '마스크':'FMC', # 마스크 팩 때문에 나중에\n",
    "}\n",
    "\n",
    "for kw, category in keywords.items():\n",
    "    mask = df['상품명'].str.contains(kw, na=False, regex=False) & df['물품대분류'].isna()\n",
    "    df.loc[mask, '물품대분류'] = category\n"
   ]
  },
  {
   "cell_type": "code",
   "execution_count": 251,
   "id": "f6481a35-d2a2-4e17-8a1e-2532a2915e56",
   "metadata": {},
   "outputs": [
    {
     "data": {
      "text/plain": [
       "주문번호           0\n",
       "배송완료일          0\n",
       "배송시작일          0\n",
       "구매일            0\n",
       "구매시월령      32812\n",
       "고객번호           0\n",
       "구매금액           0\n",
       "결제금액           0\n",
       "물품대분류_x        0\n",
       "상품명            0\n",
       "물품판매량          0\n",
       "제품단가           0\n",
       "성별             0\n",
       "결혼유무           0\n",
       "거주지역           0\n",
       "연령             0\n",
       "결제등록카드         0\n",
       "유입경로           0\n",
       "자녀여부           0\n",
       "물품대분류          0\n",
       "dtype: int64"
      ]
     },
     "execution_count": 251,
     "metadata": {},
     "output_type": "execute_result"
    }
   ],
   "source": [
    "df.isna().sum()"
   ]
  },
  {
   "cell_type": "code",
   "execution_count": 252,
   "id": "47eaf217-e562-4127-867b-e85081f3c057",
   "metadata": {},
   "outputs": [
    {
     "name": "stdout",
     "output_type": "stream",
     "text": [
      "전체 209,593개 중 7,477개가 다릅니다 (3.57%).\n"
     ]
    },
    {
     "data": {
      "text/html": [
       "<div>\n",
       "<style scoped>\n",
       "    .dataframe tbody tr th:only-of-type {\n",
       "        vertical-align: middle;\n",
       "    }\n",
       "\n",
       "    .dataframe tbody tr th {\n",
       "        vertical-align: top;\n",
       "    }\n",
       "\n",
       "    .dataframe thead th {\n",
       "        text-align: right;\n",
       "    }\n",
       "</style>\n",
       "<table border=\"1\" class=\"dataframe\">\n",
       "  <thead>\n",
       "    <tr style=\"text-align: right;\">\n",
       "      <th></th>\n",
       "      <th>물품대분류</th>\n",
       "      <th>물품대분류_x</th>\n",
       "      <th>상품명</th>\n",
       "    </tr>\n",
       "  </thead>\n",
       "  <tbody>\n",
       "    <tr>\n",
       "      <th>46463</th>\n",
       "      <td>SKC</td>\n",
       "      <td>기타</td>\n",
       "      <td>트레제메 모이스처 리치 린스 900ml X 2</td>\n",
       "    </tr>\n",
       "    <tr>\n",
       "      <th>49816</th>\n",
       "      <td>SKC</td>\n",
       "      <td>기타</td>\n",
       "      <td>트레제메 모이스처 리치 샴푸 900ml X 2</td>\n",
       "    </tr>\n",
       "    <tr>\n",
       "      <th>49817</th>\n",
       "      <td>SKC</td>\n",
       "      <td>기타</td>\n",
       "      <td>트레제메 모이스처 리치 샴푸 900ml X 2</td>\n",
       "    </tr>\n",
       "    <tr>\n",
       "      <th>50195</th>\n",
       "      <td>SKC</td>\n",
       "      <td>기타</td>\n",
       "      <td>트레제메 모이스처 리치 샴푸 900ml X 2</td>\n",
       "    </tr>\n",
       "    <tr>\n",
       "      <th>50196</th>\n",
       "      <td>SKC</td>\n",
       "      <td>기타</td>\n",
       "      <td>트레제메 모이스처 리치 린스 900ml X 2</td>\n",
       "    </tr>\n",
       "    <tr>\n",
       "      <th>50518</th>\n",
       "      <td>SKC</td>\n",
       "      <td>기타</td>\n",
       "      <td>트레제메 모이스처 리치 샴푸 900ml X 2</td>\n",
       "    </tr>\n",
       "    <tr>\n",
       "      <th>52449</th>\n",
       "      <td>SKC</td>\n",
       "      <td>기타</td>\n",
       "      <td>트레제메 모이스처 리치 샴푸 900ml X 2</td>\n",
       "    </tr>\n",
       "    <tr>\n",
       "      <th>53645</th>\n",
       "      <td>SKC</td>\n",
       "      <td>기타</td>\n",
       "      <td>트레제메 모이스처 리치 샴푸 900ml X 2</td>\n",
       "    </tr>\n",
       "    <tr>\n",
       "      <th>54709</th>\n",
       "      <td>SKC</td>\n",
       "      <td>기타</td>\n",
       "      <td>트레제메 모이스처 리치 샴푸 900ml X 2</td>\n",
       "    </tr>\n",
       "    <tr>\n",
       "      <th>56960</th>\n",
       "      <td>SKC</td>\n",
       "      <td>기타</td>\n",
       "      <td>트레제메 모이스처 리치 샴푸 900ml X 2</td>\n",
       "    </tr>\n",
       "    <tr>\n",
       "      <th>58236</th>\n",
       "      <td>SKC</td>\n",
       "      <td>기타</td>\n",
       "      <td>트레제메 모이스처 리치 린스 900ml X 2</td>\n",
       "    </tr>\n",
       "    <tr>\n",
       "      <th>62261</th>\n",
       "      <td>SKC</td>\n",
       "      <td>기타</td>\n",
       "      <td>트레제메 모이스처 리치 린스 900ml X 2</td>\n",
       "    </tr>\n",
       "    <tr>\n",
       "      <th>62991</th>\n",
       "      <td>SKC</td>\n",
       "      <td>기타</td>\n",
       "      <td>트레제메 모이스처 리치 샴푸 900ml X 2</td>\n",
       "    </tr>\n",
       "    <tr>\n",
       "      <th>62992</th>\n",
       "      <td>SKC</td>\n",
       "      <td>기타</td>\n",
       "      <td>트레제메 모이스처 리치 샴푸 900ml X 2</td>\n",
       "    </tr>\n",
       "    <tr>\n",
       "      <th>65709</th>\n",
       "      <td>SKC</td>\n",
       "      <td>기타</td>\n",
       "      <td>트레제메 모이스처 리치 샴푸 900ml X 2</td>\n",
       "    </tr>\n",
       "    <tr>\n",
       "      <th>65710</th>\n",
       "      <td>SKC</td>\n",
       "      <td>기타</td>\n",
       "      <td>트레제메 모이스처 리치 샴푸 900ml X 2</td>\n",
       "    </tr>\n",
       "    <tr>\n",
       "      <th>66439</th>\n",
       "      <td>SKC</td>\n",
       "      <td>기타</td>\n",
       "      <td>트레제메 모이스처 리치 샴푸 900ml X 2</td>\n",
       "    </tr>\n",
       "    <tr>\n",
       "      <th>68576</th>\n",
       "      <td>SKC</td>\n",
       "      <td>기타</td>\n",
       "      <td>트레제메 모이스처 리치 샴푸 900ml X 2</td>\n",
       "    </tr>\n",
       "    <tr>\n",
       "      <th>68577</th>\n",
       "      <td>SKC</td>\n",
       "      <td>기타</td>\n",
       "      <td>트레제메 모이스처 리치 샴푸 900ml X 2</td>\n",
       "    </tr>\n",
       "    <tr>\n",
       "      <th>68578</th>\n",
       "      <td>SKC</td>\n",
       "      <td>기타</td>\n",
       "      <td>트레제메 모이스처 리치 샴푸 900ml X 2</td>\n",
       "    </tr>\n",
       "    <tr>\n",
       "      <th>69373</th>\n",
       "      <td>SKC</td>\n",
       "      <td>기타</td>\n",
       "      <td>트레제메 모이스처 리치 샴푸 900ml X 2</td>\n",
       "    </tr>\n",
       "    <tr>\n",
       "      <th>69698</th>\n",
       "      <td>SKC</td>\n",
       "      <td>기타</td>\n",
       "      <td>트레제메 모이스처 리치 샴푸 900ml X 2</td>\n",
       "    </tr>\n",
       "    <tr>\n",
       "      <th>69699</th>\n",
       "      <td>SKC</td>\n",
       "      <td>기타</td>\n",
       "      <td>트레제메 모이스처 리치 샴푸 900ml X 2</td>\n",
       "    </tr>\n",
       "    <tr>\n",
       "      <th>71207</th>\n",
       "      <td>SKC</td>\n",
       "      <td>기타</td>\n",
       "      <td>트레제메 모이스처 리치 샴푸 900ml X 2</td>\n",
       "    </tr>\n",
       "    <tr>\n",
       "      <th>71208</th>\n",
       "      <td>SKC</td>\n",
       "      <td>기타</td>\n",
       "      <td>트레제메 모이스처 리치 샴푸 900ml X 2</td>\n",
       "    </tr>\n",
       "    <tr>\n",
       "      <th>72076</th>\n",
       "      <td>SKC</td>\n",
       "      <td>기타</td>\n",
       "      <td>트레제메 모이스처 리치 샴푸 900ml X 2</td>\n",
       "    </tr>\n",
       "    <tr>\n",
       "      <th>72077</th>\n",
       "      <td>SKC</td>\n",
       "      <td>기타</td>\n",
       "      <td>트레제메 모이스처 리치 샴푸 900ml X 2</td>\n",
       "    </tr>\n",
       "    <tr>\n",
       "      <th>72423</th>\n",
       "      <td>SKC</td>\n",
       "      <td>기타</td>\n",
       "      <td>트레제메 모이스처 리치 린스 900ml X 2</td>\n",
       "    </tr>\n",
       "    <tr>\n",
       "      <th>73063</th>\n",
       "      <td>SKC</td>\n",
       "      <td>기타</td>\n",
       "      <td>트레제메 모이스처 리치 샴푸 900ml X 2</td>\n",
       "    </tr>\n",
       "    <tr>\n",
       "      <th>73064</th>\n",
       "      <td>SKC</td>\n",
       "      <td>기타</td>\n",
       "      <td>트레제메 모이스처 리치 샴푸 900ml X 2</td>\n",
       "    </tr>\n",
       "    <tr>\n",
       "      <th>74052</th>\n",
       "      <td>SKC</td>\n",
       "      <td>기타</td>\n",
       "      <td>트레제메 모이스처 리치 샴푸 900ml X 2</td>\n",
       "    </tr>\n",
       "    <tr>\n",
       "      <th>75067</th>\n",
       "      <td>SKC</td>\n",
       "      <td>기타</td>\n",
       "      <td>트레제메 모이스처 리치 샴푸 900ml X 2</td>\n",
       "    </tr>\n",
       "    <tr>\n",
       "      <th>75521</th>\n",
       "      <td>SKC</td>\n",
       "      <td>기타</td>\n",
       "      <td>트레제메 모이스처 리치 샴푸 900ml X 2</td>\n",
       "    </tr>\n",
       "    <tr>\n",
       "      <th>75922</th>\n",
       "      <td>SKC</td>\n",
       "      <td>기타</td>\n",
       "      <td>트레제메 모이스처 리치 샴푸 900ml X 2</td>\n",
       "    </tr>\n",
       "    <tr>\n",
       "      <th>75923</th>\n",
       "      <td>SKC</td>\n",
       "      <td>기타</td>\n",
       "      <td>트레제메 모이스처 리치 샴푸 900ml X 2</td>\n",
       "    </tr>\n",
       "    <tr>\n",
       "      <th>77064</th>\n",
       "      <td>SKC</td>\n",
       "      <td>기타</td>\n",
       "      <td>트레제메 모이스처 리치 샴푸 900ml X 2</td>\n",
       "    </tr>\n",
       "    <tr>\n",
       "      <th>77065</th>\n",
       "      <td>SKC</td>\n",
       "      <td>기타</td>\n",
       "      <td>트레제메 모이스처 리치 샴푸 900ml X 2</td>\n",
       "    </tr>\n",
       "    <tr>\n",
       "      <th>78253</th>\n",
       "      <td>SKC</td>\n",
       "      <td>기타</td>\n",
       "      <td>트레제메 모이스처 리치 샴푸 900ml X 2</td>\n",
       "    </tr>\n",
       "    <tr>\n",
       "      <th>78254</th>\n",
       "      <td>SKC</td>\n",
       "      <td>기타</td>\n",
       "      <td>트레제메 모이스처 리치 샴푸 900ml X 2</td>\n",
       "    </tr>\n",
       "    <tr>\n",
       "      <th>80170</th>\n",
       "      <td>SKC</td>\n",
       "      <td>기타</td>\n",
       "      <td>트레제메 모이스처 리치 샴푸 900ml X 2</td>\n",
       "    </tr>\n",
       "    <tr>\n",
       "      <th>80171</th>\n",
       "      <td>SKC</td>\n",
       "      <td>기타</td>\n",
       "      <td>트레제메 모이스처 리치 샴푸 900ml X 2</td>\n",
       "    </tr>\n",
       "    <tr>\n",
       "      <th>81333</th>\n",
       "      <td>SKC</td>\n",
       "      <td>기타</td>\n",
       "      <td>트레제메 모이스처 리치 샴푸 900ml X 2</td>\n",
       "    </tr>\n",
       "    <tr>\n",
       "      <th>81334</th>\n",
       "      <td>SKC</td>\n",
       "      <td>기타</td>\n",
       "      <td>트레제메 모이스처 리치 샴푸 900ml X 2</td>\n",
       "    </tr>\n",
       "    <tr>\n",
       "      <th>83281</th>\n",
       "      <td>SKC</td>\n",
       "      <td>기타</td>\n",
       "      <td>트레제메 모이스처 리치 샴푸 900ml X 2</td>\n",
       "    </tr>\n",
       "    <tr>\n",
       "      <th>83756</th>\n",
       "      <td>SKC</td>\n",
       "      <td>기타</td>\n",
       "      <td>트레제메 모이스처 리치 샴푸 900ml X 2</td>\n",
       "    </tr>\n",
       "    <tr>\n",
       "      <th>84188</th>\n",
       "      <td>SKC</td>\n",
       "      <td>기타</td>\n",
       "      <td>트레제메 모이스처 리치 샴푸 900ml X 2</td>\n",
       "    </tr>\n",
       "    <tr>\n",
       "      <th>84626</th>\n",
       "      <td>SKC</td>\n",
       "      <td>기타</td>\n",
       "      <td>트레제메 모이스처 리치 샴푸 900ml X 2</td>\n",
       "    </tr>\n",
       "    <tr>\n",
       "      <th>84948</th>\n",
       "      <td>SKC</td>\n",
       "      <td>기타</td>\n",
       "      <td>트레제메 모이스처 리치 샴푸 900ml X 2</td>\n",
       "    </tr>\n",
       "    <tr>\n",
       "      <th>85511</th>\n",
       "      <td>SKC</td>\n",
       "      <td>기타</td>\n",
       "      <td>트레제메 모이스처 리치 샴푸 900ml X 2</td>\n",
       "    </tr>\n",
       "    <tr>\n",
       "      <th>86553</th>\n",
       "      <td>SKC</td>\n",
       "      <td>기타</td>\n",
       "      <td>트레제메 모이스처 리치 샴푸 900ml X 2</td>\n",
       "    </tr>\n",
       "  </tbody>\n",
       "</table>\n",
       "</div>"
      ],
      "text/plain": [
       "      물품대분류 물품대분류_x                        상품명\n",
       "46463   SKC      기타  트레제메 모이스처 리치 린스 900ml X 2\n",
       "49816   SKC      기타  트레제메 모이스처 리치 샴푸 900ml X 2\n",
       "49817   SKC      기타  트레제메 모이스처 리치 샴푸 900ml X 2\n",
       "50195   SKC      기타  트레제메 모이스처 리치 샴푸 900ml X 2\n",
       "50196   SKC      기타  트레제메 모이스처 리치 린스 900ml X 2\n",
       "50518   SKC      기타  트레제메 모이스처 리치 샴푸 900ml X 2\n",
       "52449   SKC      기타  트레제메 모이스처 리치 샴푸 900ml X 2\n",
       "53645   SKC      기타  트레제메 모이스처 리치 샴푸 900ml X 2\n",
       "54709   SKC      기타  트레제메 모이스처 리치 샴푸 900ml X 2\n",
       "56960   SKC      기타  트레제메 모이스처 리치 샴푸 900ml X 2\n",
       "58236   SKC      기타  트레제메 모이스처 리치 린스 900ml X 2\n",
       "62261   SKC      기타  트레제메 모이스처 리치 린스 900ml X 2\n",
       "62991   SKC      기타  트레제메 모이스처 리치 샴푸 900ml X 2\n",
       "62992   SKC      기타  트레제메 모이스처 리치 샴푸 900ml X 2\n",
       "65709   SKC      기타  트레제메 모이스처 리치 샴푸 900ml X 2\n",
       "65710   SKC      기타  트레제메 모이스처 리치 샴푸 900ml X 2\n",
       "66439   SKC      기타  트레제메 모이스처 리치 샴푸 900ml X 2\n",
       "68576   SKC      기타  트레제메 모이스처 리치 샴푸 900ml X 2\n",
       "68577   SKC      기타  트레제메 모이스처 리치 샴푸 900ml X 2\n",
       "68578   SKC      기타  트레제메 모이스처 리치 샴푸 900ml X 2\n",
       "69373   SKC      기타  트레제메 모이스처 리치 샴푸 900ml X 2\n",
       "69698   SKC      기타  트레제메 모이스처 리치 샴푸 900ml X 2\n",
       "69699   SKC      기타  트레제메 모이스처 리치 샴푸 900ml X 2\n",
       "71207   SKC      기타  트레제메 모이스처 리치 샴푸 900ml X 2\n",
       "71208   SKC      기타  트레제메 모이스처 리치 샴푸 900ml X 2\n",
       "72076   SKC      기타  트레제메 모이스처 리치 샴푸 900ml X 2\n",
       "72077   SKC      기타  트레제메 모이스처 리치 샴푸 900ml X 2\n",
       "72423   SKC      기타  트레제메 모이스처 리치 린스 900ml X 2\n",
       "73063   SKC      기타  트레제메 모이스처 리치 샴푸 900ml X 2\n",
       "73064   SKC      기타  트레제메 모이스처 리치 샴푸 900ml X 2\n",
       "74052   SKC      기타  트레제메 모이스처 리치 샴푸 900ml X 2\n",
       "75067   SKC      기타  트레제메 모이스처 리치 샴푸 900ml X 2\n",
       "75521   SKC      기타  트레제메 모이스처 리치 샴푸 900ml X 2\n",
       "75922   SKC      기타  트레제메 모이스처 리치 샴푸 900ml X 2\n",
       "75923   SKC      기타  트레제메 모이스처 리치 샴푸 900ml X 2\n",
       "77064   SKC      기타  트레제메 모이스처 리치 샴푸 900ml X 2\n",
       "77065   SKC      기타  트레제메 모이스처 리치 샴푸 900ml X 2\n",
       "78253   SKC      기타  트레제메 모이스처 리치 샴푸 900ml X 2\n",
       "78254   SKC      기타  트레제메 모이스처 리치 샴푸 900ml X 2\n",
       "80170   SKC      기타  트레제메 모이스처 리치 샴푸 900ml X 2\n",
       "80171   SKC      기타  트레제메 모이스처 리치 샴푸 900ml X 2\n",
       "81333   SKC      기타  트레제메 모이스처 리치 샴푸 900ml X 2\n",
       "81334   SKC      기타  트레제메 모이스처 리치 샴푸 900ml X 2\n",
       "83281   SKC      기타  트레제메 모이스처 리치 샴푸 900ml X 2\n",
       "83756   SKC      기타  트레제메 모이스처 리치 샴푸 900ml X 2\n",
       "84188   SKC      기타  트레제메 모이스처 리치 샴푸 900ml X 2\n",
       "84626   SKC      기타  트레제메 모이스처 리치 샴푸 900ml X 2\n",
       "84948   SKC      기타  트레제메 모이스처 리치 샴푸 900ml X 2\n",
       "85511   SKC      기타  트레제메 모이스처 리치 샴푸 900ml X 2\n",
       "86553   SKC      기타  트레제메 모이스처 리치 샴푸 900ml X 2"
      ]
     },
     "execution_count": 252,
     "metadata": {},
     "output_type": "execute_result"
    }
   ],
   "source": [
    "import pandas as pd\n",
    "\n",
    "# 1) 두 컬럼이 다른 행을 마스크로 생성\n",
    "diff_mask = df['물품대분류'] != df['물품대분류_x']\n",
    "\n",
    "# 2) 몇 퍼센트인지 계산\n",
    "total = len(df)\n",
    "num_diff = diff_mask.sum()\n",
    "pct_diff = num_diff / total * 100\n",
    "print(f\"전체 {total:,}개 중 {num_diff:,}개가 다릅니다 ({pct_diff:.2f}%).\")\n",
    "\n",
    "# 3) 실제 다른 행들을 출력 (필요한 컬럼만 선택하여 보기)\n",
    "diff_rows = df.loc[diff_mask, ['물품대분류', '물품대분류_x', '상품명']]\n",
    "\n",
    "# 관심 키워드 리스트\n",
    "keywords = ['하기스 네이처메이드', '그린핑거 시그니처 물티슈 캡형', '크리넥스 안심 손소독제겔', '크리넥스 프렌즈 버블핸드워시', '대용량 샴푸',\n",
    "           '대용량 로션', '대용량로션', '티엔 BT21 AC컨트롤 데일리 클리어링 토너', '실리콘 수세미', '티엔 BT21 AC컨트롤 데일리 모이스춰 로션',\n",
    "           '대용량 버블스', '샴푸&워시', '티엔 BT21 AC컨트롤 버블 클렌징 폼', '디펜드 스타일 언더웨어 남성용 슬림 중형 18개입',\n",
    "            '디펜드 안심플러스 언더웨어 중형 18개입', '크리넥스 버블버블 핸드워시', '바세린 어드밴스드 로션', '도브 화이트 뷰티바',\n",
    "           '도브 뷰티너리싱 바디워시', '도브 센서티브 바디워시', '티엔 BT21 촉촉 토너', '티엔 아크네 클렌징 폼', '티엔 AC 로션', '티엔 AC 토너',\n",
    "           '티엔 촉촉 로션', '티엔 촉촉 토너', '티엔 촉촉 클렌징 티슈', '티엔 BT21 촉촉 워터 클렌징 티슈', '티엔 수분 퐁당 크림', '티엔 미스트',\n",
    "           '그린핑거 알로에베라 물티슈 캡형', '티엔 BT21 AC 토너', '티엔 촉촉 클렌징 폼', '티엔 BT21 수분 퐁당 크림', '티엔 BT21 클렌징 워터',\n",
    "           '티엔 BT21 촉촉 로션', '디펜드 스타일 언더웨어 여성용 슬림 대형', '티엔 AC 뽀송 피지조절 시트 마스크', '티엔 클렌징 워터',\n",
    "           '디펜드 스타일 언더웨어 여성용 슬림 중형','디펜드 스타일 언더웨어 남성용 슬림 대형', '티엔 아크네 버블 클렌징 폼', '하기스 샘플러',\n",
    "           '대용량 베이비밤', '티엔 BT21 AC 컨트롤 세트', '티엔 AC 매끈 진정 시트 마스크', '티엔 BT21 AC 진정 시트 마스크', '택배파손',\n",
    "           '티엔 BT21 AC 로션','디펜드 안심플러스 언더웨어 중형','디펜드 스타일 언더웨어 남성용 슬림 중형', '맘스 순한 퍼밍 바디크림',\n",
    "           '그린핑거 손소독 물티슈', '임산부 순한 탄력 오일 병', '순한 여성세정제', '마더니아', '그린핑거 기저귀 5단계 공용', '그린핑거 판테딘 물티슈',\n",
    "           '그린핑거 판테딘 수딩젤', '그린핑거 판테딘 로션', '티엔 BT21 아크네 버블 클렌징 폼', '크리넥스 안심 물티슈', '2020 하기스 매직 컴포트',\n",
    "           '그린핑거 판테딘 탑투토워시', '여성 질건강 유산균', '그린핑거 기저귀', '무료배송 체험딜', '닥터마밍 촉촉케어 아기물티슈',\n",
    "           '핑크퐁 1도 쿨토시', '디펜드 맘스 안심패드', '그린핑거 어니스트 물티슈', '그린핑거 판테딘 크림', '디펜드 맘스 안심 팬티', '핑크퐁 스텐 논슬립 컵',\n",
    "           '핑크퐁 샴푸캡', '아기상어 입체 아쿠아슈즈', '핑크퐁 아기상어 쿨토시', '핑크퐁 아기상어 피규어 샤워볼', '이너플로라 미니 여성 청결제 페미닌 파우더 워시',\n",
    "           '핑크퐁 손잡이컵 세트', '차량용 햇빛가리개', '핑크퐁 아기상어 손가락 안전 보호대', '핑크퐁 에디슨 흘림방지 양손 빨대컵', '핑크퐁 상어가족 바스타올',\n",
    "           '핑크퐁 스텐 논슬립 손잡이 공기', '레드투래드 안티더스트 클렌징 폼', '핑크퐁 튜브 아쿠아슈즈', '레드투래드 안티더스트 배리어 미스트',\n",
    "           '더블하트 레스랩 유아용 섬유세제', '레드투래드 안티더스트 클렌징 오일']\n",
    "\n",
    "# 1) 정규표현식 패턴 생성 (OR 연결)\n",
    "pattern = '|'.join(keywords)\n",
    "\n",
    "# 2) diff_rows에서 해당 패턴을 포함하는 행만 필터링\n",
    "mask_specific = ~diff_rows['상품명'].str.contains(pattern, na=False)\n",
    "\n",
    "# 3) 결과 출력\n",
    "result = diff_rows.loc[mask_specific, ['물품대분류', '물품대분류_x', '상품명']]\n",
    "result.head(50)\n"
   ]
  },
  {
   "cell_type": "code",
   "execution_count": 253,
   "id": "54d40c20-8308-4880-9ca6-dcd8c9082f3e",
   "metadata": {},
   "outputs": [
    {
     "name": "stdout",
     "output_type": "stream",
     "text": [
      "<class 'pandas.core.frame.DataFrame'>\n",
      "RangeIndex: 209593 entries, 0 to 209592\n",
      "Data columns (total 20 columns):\n",
      " #   Column   Non-Null Count   Dtype  \n",
      "---  ------   --------------   -----  \n",
      " 0   주문번호     209593 non-null  object \n",
      " 1   배송완료일    209593 non-null  object \n",
      " 2   배송시작일    209593 non-null  object \n",
      " 3   구매일      209593 non-null  object \n",
      " 4   구매시월령    176781 non-null  float64\n",
      " 5   고객번호     209593 non-null  object \n",
      " 6   구매금액     209593 non-null  int64  \n",
      " 7   결제금액     209593 non-null  int64  \n",
      " 8   물품대분류_x  209593 non-null  object \n",
      " 9   상품명      209593 non-null  object \n",
      " 10  물품판매량    209593 non-null  int64  \n",
      " 11  제품단가     209593 non-null  int64  \n",
      " 12  성별       209593 non-null  object \n",
      " 13  결혼유무     209593 non-null  object \n",
      " 14  거주지역     209593 non-null  object \n",
      " 15  연령       209593 non-null  float64\n",
      " 16  결제등록카드   209593 non-null  object \n",
      " 17  유입경로     209593 non-null  object \n",
      " 18  자녀여부     209593 non-null  object \n",
      " 19  물품대분류    209593 non-null  object \n",
      "dtypes: float64(2), int64(4), object(14)\n",
      "memory usage: 32.0+ MB\n"
     ]
    }
   ],
   "source": [
    "df.info()"
   ]
  },
  {
   "cell_type": "code",
   "execution_count": 254,
   "id": "343b6f03-2d5b-4ecf-93df-6557b620e520",
   "metadata": {},
   "outputs": [],
   "source": [
    "df.to_csv('대분류진짜최종.csv', index=False, encoding='utf-8-sig')"
   ]
  },
  {
   "cell_type": "markdown",
   "id": "0d5a2dbe-226d-40d8-bbf6-f31a0273d718",
   "metadata": {},
   "source": [
    "# 데이터 확인"
   ]
  },
  {
   "cell_type": "markdown",
   "id": "cddb0ff6-3167-4b0e-a207-8568390dcea2",
   "metadata": {},
   "source": [
    "날짜에 오류가 있는지 확인"
   ]
  },
  {
   "cell_type": "code",
   "execution_count": 255,
   "id": "f396711c-cbf2-442f-971f-205b430d1860",
   "metadata": {},
   "outputs": [],
   "source": [
    "df['배송완료일'] = pd.to_datetime(df['배송완료일'])"
   ]
  },
  {
   "cell_type": "code",
   "execution_count": 256,
   "id": "c31eb92c-021a-4df1-9f55-dd6de1fe3a70",
   "metadata": {},
   "outputs": [],
   "source": [
    "df['배송시작일'] = pd.to_datetime(df['배송시작일'])"
   ]
  },
  {
   "cell_type": "code",
   "execution_count": 257,
   "id": "8d7826e1-1b8d-4633-90d4-78a1e4d84500",
   "metadata": {},
   "outputs": [],
   "source": [
    "df['구매일'] = pd.to_datetime(df['구매일'])"
   ]
  },
  {
   "cell_type": "code",
   "execution_count": 258,
   "id": "c3b59e59-e51f-4fc4-a8d7-3848a87378c2",
   "metadata": {},
   "outputs": [
    {
     "data": {
      "text/html": [
       "<div>\n",
       "<style scoped>\n",
       "    .dataframe tbody tr th:only-of-type {\n",
       "        vertical-align: middle;\n",
       "    }\n",
       "\n",
       "    .dataframe tbody tr th {\n",
       "        vertical-align: top;\n",
       "    }\n",
       "\n",
       "    .dataframe thead th {\n",
       "        text-align: right;\n",
       "    }\n",
       "</style>\n",
       "<table border=\"1\" class=\"dataframe\">\n",
       "  <thead>\n",
       "    <tr style=\"text-align: right;\">\n",
       "      <th></th>\n",
       "      <th>주문번호</th>\n",
       "      <th>배송완료일</th>\n",
       "      <th>배송시작일</th>\n",
       "      <th>구매일</th>\n",
       "      <th>구매시월령</th>\n",
       "      <th>고객번호</th>\n",
       "      <th>구매금액</th>\n",
       "      <th>결제금액</th>\n",
       "      <th>물품대분류_x</th>\n",
       "      <th>상품명</th>\n",
       "      <th>물품판매량</th>\n",
       "      <th>제품단가</th>\n",
       "      <th>성별</th>\n",
       "      <th>결혼유무</th>\n",
       "      <th>거주지역</th>\n",
       "      <th>연령</th>\n",
       "      <th>결제등록카드</th>\n",
       "      <th>유입경로</th>\n",
       "      <th>자녀여부</th>\n",
       "      <th>물품대분류</th>\n",
       "    </tr>\n",
       "  </thead>\n",
       "  <tbody>\n",
       "  </tbody>\n",
       "</table>\n",
       "</div>"
      ],
      "text/plain": [
       "Empty DataFrame\n",
       "Columns: [주문번호, 배송완료일, 배송시작일, 구매일, 구매시월령, 고객번호, 구매금액, 결제금액, 물품대분류_x, 상품명, 물품판매량, 제품단가, 성별, 결혼유무, 거주지역, 연령, 결제등록카드, 유입경로, 자녀여부, 물품대분류]\n",
       "Index: []"
      ]
     },
     "execution_count": 258,
     "metadata": {},
     "output_type": "execute_result"
    }
   ],
   "source": [
    "df.loc[(df['배송시작일'] < df['배송완료일']) == False]"
   ]
  },
  {
   "cell_type": "code",
   "execution_count": 259,
   "id": "3dbdef71-f348-4cd6-a265-c0c1ae147cf3",
   "metadata": {},
   "outputs": [
    {
     "data": {
      "text/html": [
       "<div>\n",
       "<style scoped>\n",
       "    .dataframe tbody tr th:only-of-type {\n",
       "        vertical-align: middle;\n",
       "    }\n",
       "\n",
       "    .dataframe tbody tr th {\n",
       "        vertical-align: top;\n",
       "    }\n",
       "\n",
       "    .dataframe thead th {\n",
       "        text-align: right;\n",
       "    }\n",
       "</style>\n",
       "<table border=\"1\" class=\"dataframe\">\n",
       "  <thead>\n",
       "    <tr style=\"text-align: right;\">\n",
       "      <th></th>\n",
       "      <th>주문번호</th>\n",
       "      <th>배송완료일</th>\n",
       "      <th>배송시작일</th>\n",
       "      <th>구매일</th>\n",
       "      <th>구매시월령</th>\n",
       "      <th>고객번호</th>\n",
       "      <th>구매금액</th>\n",
       "      <th>결제금액</th>\n",
       "      <th>물품대분류_x</th>\n",
       "      <th>상품명</th>\n",
       "      <th>물품판매량</th>\n",
       "      <th>제품단가</th>\n",
       "      <th>성별</th>\n",
       "      <th>결혼유무</th>\n",
       "      <th>거주지역</th>\n",
       "      <th>연령</th>\n",
       "      <th>결제등록카드</th>\n",
       "      <th>유입경로</th>\n",
       "      <th>자녀여부</th>\n",
       "      <th>물품대분류</th>\n",
       "    </tr>\n",
       "  </thead>\n",
       "  <tbody>\n",
       "  </tbody>\n",
       "</table>\n",
       "</div>"
      ],
      "text/plain": [
       "Empty DataFrame\n",
       "Columns: [주문번호, 배송완료일, 배송시작일, 구매일, 구매시월령, 고객번호, 구매금액, 결제금액, 물품대분류_x, 상품명, 물품판매량, 제품단가, 성별, 결혼유무, 거주지역, 연령, 결제등록카드, 유입경로, 자녀여부, 물품대분류]\n",
       "Index: []"
      ]
     },
     "execution_count": 259,
     "metadata": {},
     "output_type": "execute_result"
    }
   ],
   "source": [
    "df.loc[(df['구매일'] < df['배송시작일']) == False]"
   ]
  },
  {
   "cell_type": "markdown",
   "id": "656acefb-871a-47e3-b679-9fb3ca78004c",
   "metadata": {},
   "source": [
    "구매시월령이 결측이 아닌 행 중, 자녀여부가 'No'인 경우를 'Yes'로 업데이트"
   ]
  },
  {
   "cell_type": "code",
   "execution_count": 260,
   "id": "c2d512c1-0b00-48b1-9a8d-3ad1bba31fde",
   "metadata": {},
   "outputs": [
    {
     "data": {
      "text/plain": [
       "2         No\n",
       "22        No\n",
       "26        No\n",
       "41        No\n",
       "44        No\n",
       "          ..\n",
       "209567    No\n",
       "209568    No\n",
       "209577    No\n",
       "209582    No\n",
       "209586    No\n",
       "Name: 자녀여부, Length: 34120, dtype: object"
      ]
     },
     "execution_count": 260,
     "metadata": {},
     "output_type": "execute_result"
    }
   ],
   "source": [
    "df.loc[df['구매시월령'].notna() & (df['자녀여부'] == 'No'), '자녀여부']"
   ]
  },
  {
   "cell_type": "code",
   "execution_count": 261,
   "id": "a0235eb3-c320-40ae-a339-19c4723ee3e5",
   "metadata": {},
   "outputs": [],
   "source": [
    "df.loc[df['구매시월령'].notna() & (df['자녀여부'] == 'No'), '자녀여부'] = 'Yes'"
   ]
  },
  {
   "cell_type": "code",
   "execution_count": 262,
   "id": "c7000b22-fa27-4b7a-999a-fac7bf8bdc55",
   "metadata": {},
   "outputs": [
    {
     "data": {
      "text/plain": [
       "Series([], Name: 자녀여부, dtype: object)"
      ]
     },
     "execution_count": 262,
     "metadata": {},
     "output_type": "execute_result"
    }
   ],
   "source": [
    "df.loc[df['구매시월령'].notna() & (df['자녀여부'] == 'No'), '자녀여부']"
   ]
  },
  {
   "cell_type": "markdown",
   "id": "f6e335c0-a529-4735-b68e-8a3702273334",
   "metadata": {},
   "source": [
    "기타 컬럼에 이상이 있는지 확인"
   ]
  },
  {
   "cell_type": "code",
   "execution_count": 263,
   "id": "9bdb7620-836d-4e23-bbdd-8c1a8988d21e",
   "metadata": {},
   "outputs": [
    {
     "data": {
      "text/plain": [
       "count    209593.000000\n",
       "mean         32.819116\n",
       "std           2.947549\n",
       "min          20.000000\n",
       "25%          31.000000\n",
       "50%          33.000000\n",
       "75%          35.000000\n",
       "max          46.000000\n",
       "Name: 연령, dtype: float64"
      ]
     },
     "execution_count": 263,
     "metadata": {},
     "output_type": "execute_result"
    }
   ],
   "source": [
    "df['연령'].describe()"
   ]
  },
  {
   "cell_type": "code",
   "execution_count": 264,
   "id": "4443847e-8702-4aa7-a2f5-834c4f3af0c8",
   "metadata": {
    "scrolled": true
   },
   "outputs": [
    {
     "data": {
      "text/plain": [
       "count    209593.000000\n",
       "mean       1292.344654\n",
       "std        2764.291438\n",
       "min           1.000000\n",
       "25%         119.000000\n",
       "50%         390.000000\n",
       "75%         922.000000\n",
       "max       12077.000000\n",
       "Name: 물품판매량, dtype: float64"
      ]
     },
     "execution_count": 264,
     "metadata": {},
     "output_type": "execute_result"
    }
   ],
   "source": [
    "df['물품판매량'].describe()"
   ]
  },
  {
   "cell_type": "code",
   "execution_count": 265,
   "id": "0a8f945e-3b4c-4108-8702-9eec0345b590",
   "metadata": {
    "scrolled": true
   },
   "outputs": [
    {
     "data": {
      "text/plain": [
       "array(['여', '남'], dtype=object)"
      ]
     },
     "execution_count": 265,
     "metadata": {},
     "output_type": "execute_result"
    }
   ],
   "source": [
    "df['성별'].unique()"
   ]
  },
  {
   "cell_type": "code",
   "execution_count": 266,
   "id": "64188471-3a0e-4e6d-a69e-295d73cf5b28",
   "metadata": {
    "scrolled": true
   },
   "outputs": [
    {
     "data": {
      "text/plain": [
       "array(['기혼', '미혼'], dtype=object)"
      ]
     },
     "execution_count": 266,
     "metadata": {},
     "output_type": "execute_result"
    }
   ],
   "source": [
    "df['결혼유무'].unique()"
   ]
  },
  {
   "cell_type": "code",
   "execution_count": 267,
   "id": "159d7c2d-d60d-4a9a-80fb-10618fbd1698",
   "metadata": {
    "scrolled": true
   },
   "outputs": [
    {
     "data": {
      "text/plain": [
       "array(['서울', '충북', '강원', '제주', '인천', '대구', '경기', '부산', '경남', '광주', '경북',\n",
       "       '전북', '충남', '대전', '전남'], dtype=object)"
      ]
     },
     "execution_count": 267,
     "metadata": {},
     "output_type": "execute_result"
    }
   ],
   "source": [
    "df['거주지역'].unique()"
   ]
  },
  {
   "cell_type": "code",
   "execution_count": 268,
   "id": "c83ad814-dd8e-4aba-80b4-de0ca88a542f",
   "metadata": {
    "scrolled": true
   },
   "outputs": [
    {
     "data": {
      "text/plain": [
       "array(['인스타그램', '검색광고', '네이버블로그', '지인추천', '페이스북', '네이버카페', '오픈마켓', '직접검색',\n",
       "       '매장쿠폰', '이마트'], dtype=object)"
      ]
     },
     "execution_count": 268,
     "metadata": {},
     "output_type": "execute_result"
    }
   ],
   "source": [
    "df['유입경로'].unique()"
   ]
  },
  {
   "cell_type": "code",
   "execution_count": 269,
   "id": "3692600d-03bf-4988-ba87-2fbe71823e76",
   "metadata": {
    "scrolled": true
   },
   "outputs": [
    {
     "data": {
      "text/plain": [
       "array(['Yes', 'No'], dtype=object)"
      ]
     },
     "execution_count": 269,
     "metadata": {},
     "output_type": "execute_result"
    }
   ],
   "source": [
    "df['자녀여부'].unique()"
   ]
  },
  {
   "cell_type": "markdown",
   "id": "5a233caf-4e9f-4213-9391-d9593f7d8195",
   "metadata": {},
   "source": [
    "금액에 이상이 있는지 확인"
   ]
  },
  {
   "cell_type": "code",
   "execution_count": 270,
   "id": "8e6f6dd3-e292-4715-8427-429f97dc7b5d",
   "metadata": {
    "scrolled": true
   },
   "outputs": [
    {
     "data": {
      "text/html": [
       "<div>\n",
       "<style scoped>\n",
       "    .dataframe tbody tr th:only-of-type {\n",
       "        vertical-align: middle;\n",
       "    }\n",
       "\n",
       "    .dataframe tbody tr th {\n",
       "        vertical-align: top;\n",
       "    }\n",
       "\n",
       "    .dataframe thead th {\n",
       "        text-align: right;\n",
       "    }\n",
       "</style>\n",
       "<table border=\"1\" class=\"dataframe\">\n",
       "  <thead>\n",
       "    <tr style=\"text-align: right;\">\n",
       "      <th></th>\n",
       "      <th>주문번호</th>\n",
       "      <th>배송완료일</th>\n",
       "      <th>배송시작일</th>\n",
       "      <th>구매일</th>\n",
       "      <th>구매시월령</th>\n",
       "      <th>고객번호</th>\n",
       "      <th>구매금액</th>\n",
       "      <th>결제금액</th>\n",
       "      <th>물품대분류_x</th>\n",
       "      <th>상품명</th>\n",
       "      <th>물품판매량</th>\n",
       "      <th>제품단가</th>\n",
       "      <th>성별</th>\n",
       "      <th>결혼유무</th>\n",
       "      <th>거주지역</th>\n",
       "      <th>연령</th>\n",
       "      <th>결제등록카드</th>\n",
       "      <th>유입경로</th>\n",
       "      <th>자녀여부</th>\n",
       "      <th>물품대분류</th>\n",
       "    </tr>\n",
       "  </thead>\n",
       "  <tbody>\n",
       "  </tbody>\n",
       "</table>\n",
       "</div>"
      ],
      "text/plain": [
       "Empty DataFrame\n",
       "Columns: [주문번호, 배송완료일, 배송시작일, 구매일, 구매시월령, 고객번호, 구매금액, 결제금액, 물품대분류_x, 상품명, 물품판매량, 제품단가, 성별, 결혼유무, 거주지역, 연령, 결제등록카드, 유입경로, 자녀여부, 물품대분류]\n",
       "Index: []"
      ]
     },
     "execution_count": 270,
     "metadata": {},
     "output_type": "execute_result"
    }
   ],
   "source": [
    "df.loc[df['구매금액'] < df['결제금액']]"
   ]
  },
  {
   "cell_type": "code",
   "execution_count": 271,
   "id": "057cca87-9540-4715-9fcd-c59d3118c18a",
   "metadata": {},
   "outputs": [
    {
     "name": "stdout",
     "output_type": "stream",
     "text": [
      "<class 'pandas.core.frame.DataFrame'>\n",
      "RangeIndex: 209593 entries, 0 to 209592\n",
      "Data columns (total 19 columns):\n",
      " #   Column  Non-Null Count   Dtype         \n",
      "---  ------  --------------   -----         \n",
      " 0   주문번호    209593 non-null  object        \n",
      " 1   배송완료일   209593 non-null  datetime64[ns]\n",
      " 2   배송시작일   209593 non-null  datetime64[ns]\n",
      " 3   구매일     209593 non-null  datetime64[ns]\n",
      " 4   구매시월령   176781 non-null  float64       \n",
      " 5   고객번호    209593 non-null  object        \n",
      " 6   구매금액    209593 non-null  int64         \n",
      " 7   결제금액    209593 non-null  int64         \n",
      " 8   물품대분류   209593 non-null  object        \n",
      " 9   상품명     209593 non-null  object        \n",
      " 10  물품판매량   209593 non-null  int64         \n",
      " 11  제품단가    209593 non-null  int64         \n",
      " 12  성별      209593 non-null  object        \n",
      " 13  결혼유무    209593 non-null  object        \n",
      " 14  거주지역    209593 non-null  object        \n",
      " 15  연령      209593 non-null  float64       \n",
      " 16  결제등록카드  209593 non-null  object        \n",
      " 17  유입경로    209593 non-null  object        \n",
      " 18  자녀여부    209593 non-null  object        \n",
      "dtypes: datetime64[ns](3), float64(2), int64(4), object(10)\n",
      "memory usage: 30.4+ MB\n"
     ]
    }
   ],
   "source": [
    "df = df.drop('물품대분류_x', axis=1)\n",
    "\n",
    "# 2) '물품대분류'를 '상품명' 바로 앞에 오도록 컬럼 순서 재배치\n",
    "cols = list(df.columns)\n",
    "# '물품대분류'와 '상품명' 위치 인덱스 추출\n",
    "상품명_idx = cols.index('상품명')\n",
    "# '물품대분류'를 목록에서 제거하고\n",
    "cols.remove('물품대분류')\n",
    "# 원하는 위치(상품명 바로 앞)로 삽입\n",
    "cols.insert(상품명_idx, '물품대분류')\n",
    "\n",
    "# 3) 순서 적용\n",
    "df = df[cols]\n",
    "\n",
    "df.info()"
   ]
  },
  {
   "cell_type": "markdown",
   "id": "cba62bb6-95d0-480a-b3e5-2aec06d749b8",
   "metadata": {
    "jp-MarkdownHeadingCollapsed": true
   },
   "source": [
    "# 코드 받아옴"
   ]
  },
  {
   "cell_type": "code",
   "execution_count": 272,
   "id": "6de5465e-7bbe-4c09-a5d0-29709cfe667e",
   "metadata": {},
   "outputs": [
    {
     "name": "stdout",
     "output_type": "stream",
     "text": [
      "<class 'pandas.core.frame.DataFrame'>\n",
      "RangeIndex: 209593 entries, 0 to 209592\n",
      "Data columns (total 19 columns):\n",
      " #   Column  Non-Null Count   Dtype         \n",
      "---  ------  --------------   -----         \n",
      " 0   주문번호    209593 non-null  object        \n",
      " 1   배송완료일   209593 non-null  datetime64[ns]\n",
      " 2   배송시작일   209593 non-null  datetime64[ns]\n",
      " 3   구매일     209593 non-null  datetime64[ns]\n",
      " 4   구매시월령   176781 non-null  float64       \n",
      " 5   고객번호    209593 non-null  object        \n",
      " 6   구매금액    209593 non-null  int64         \n",
      " 7   결제금액    209593 non-null  int64         \n",
      " 8   물품대분류   209593 non-null  object        \n",
      " 9   상품명     209593 non-null  object        \n",
      " 10  물품판매량   209593 non-null  int64         \n",
      " 11  제품단가    209593 non-null  int64         \n",
      " 12  성별      209593 non-null  object        \n",
      " 13  결혼유무    209593 non-null  object        \n",
      " 14  거주지역    209593 non-null  object        \n",
      " 15  연령      209593 non-null  float64       \n",
      " 16  결제등록카드  209593 non-null  object        \n",
      " 17  유입경로    209593 non-null  object        \n",
      " 18  자녀여부    209593 non-null  object        \n",
      "dtypes: datetime64[ns](3), float64(2), int64(4), object(10)\n",
      "memory usage: 30.4+ MB\n"
     ]
    }
   ],
   "source": [
    "df_merge = df.copy()\n",
    "df_merge.info()"
   ]
  },
  {
   "cell_type": "code",
   "execution_count": 273,
   "id": "0463901e-2596-4e87-8f99-9be2ca14406c",
   "metadata": {},
   "outputs": [
    {
     "name": "stdout",
     "output_type": "stream",
     "text": [
      "0 ㄱ\n",
      "0 ㄴ\n",
      "0 ㄷ\n",
      "0 ㄷ\n"
     ]
    },
    {
     "data": {
      "text/plain": [
       "1783"
      ]
     },
     "execution_count": 273,
     "metadata": {},
     "output_type": "execute_result"
    }
   ],
   "source": [
    "import re\n",
    "def 남아여아공용(x):\n",
    "    if pd.isna(x): return np.nan  # 결측값 처리\n",
    "    if '남아' in x: return '남아'\n",
    "    elif '여아' in x: return '여아'\n",
    "    elif '공용' in x: return '공용'\n",
    "    else: return np.nan\n",
    "\n",
    "df_merge['남아여아공용'] = df_merge['상품명'].apply(남아여아공용)\n",
    "# 브랜드 컬럼 생성\n",
    "유한킴벌리 = pd.DataFrame(\n",
    "    {'브랜드':['하기스', '그린핑거', '굿나이트', '크리넥스', '좋은느낌', '화이트', '스카트', '디펜드', '매일우유', '베베당', \n",
    "            '매직캔', '팔도', '동원', '퓨어잇', '유한양행', '프라하우스', '실리만', '먼치킨', '요미요미', '푸고', '코니스', \n",
    "            '퓨어락', '캐치티니핑', '브라이트스타트', '디즈니베이비', '아넬라', '베베스트', '도담도담 오가닉', '두리', '더마틱스', \n",
    "            '파스퇴르', '이지캔', '아솝느', '바이엘', '돗투돗', '핑크퐁', '꿈비', '무무브', '필리엔임프스', '베이비아인슈타인', \n",
    "            '대상웰라이프', '오솔로N59', '율그란', '콕시클', '도티도그', '투티밤비니', '에르고베이비', '오볼', '로지오가닉', \n",
    "            '두나', '마이니', '애니멀플래닛', '조이', '몰랑', '스와들업', '뽀로로', '캥거루루', '종외제약', '프로텍트어베드',\n",
    "            '벨몽', '세노비스키즈', '브리카', '엘트라', '샤미부', '인제뉴어티', '클레멘토니', '리안', '21세기킥보드', '유니끄', \n",
    "            '소다스트림', '비츠', '세노비스', '피에스타', '마더니아', '시크릿쥬쥬', '라그랑', '미니언즈', '산골간식', '포켓몬', \n",
    "            '오리벨', '나스파', '바큐바', '신비아파트', '안국건강', '아이리버', '보보엔부', '몽슈레', '뉴나', '킨더고', '올라베이비', \n",
    "            '조지루시', '베이비버스', '흔한남매', '선스태쉬', '에불로보', '라밀로우', '디어에코', '콱스', '보니타베베', '나니아', '룰라러브', \n",
    "            '윈펀', '뉴오리진', '테스', '플레이그로', '일양약품', '바오밥 성장그림', '루이', '크로텍', '몬스터토이즈', '코코지', '진인프라', \n",
    "            '뿌띠슈', '마뉴엘라', '블랑가또', '산리오', '마더스베이비', '탁가온', '지노렉스', '미니막스', '코체티', '3스프라우츠', '서울우유', \n",
    "            '유아마이', '알파슈', '이체크', '하카', '엔젤비닷', '제스프리', '압타밀', '롯데칠성음료', '일동후디스', '키즈꼬모', '동국제약',\n",
    "            '쁘띠베베','라네이처','릴리유','더블하트', '닥터마밍','맘마밀','데르뜨','도담도담오가닉','맘큐','보쉬토이','누들앤부','캐스돈',\n",
    "            '티엔','믹스드페어스','메가블럭','아이스크림페어리','야마토야','드시모네','베이비머핀','메릴린','리틀누','본토이','보보앤부',\n",
    "            '뽀드미엘','리틀마마','엘비니','비박스','카가앤푸치','아이헤이트먼데이',' 트레제메','바세린','립톤','도브','엘비니','키썸플레이', \n",
    "            '트레제메','너프','캐시크루즈','순수담다','씨알로','아이엠스페셜','스와들디자인','라인프렌즈','레고','필리앤임프스','비더마틱',\n",
    "            '릴라스틸','퓨리티','플레이도우','상하목장','상하치즈','누텔라','페레로로쉐','맘스앱솔루트','트루자임','탑브라이트','엔픽스',\n",
    "            '마이포코리아','해밀턴','플레이도','네이처메이드','레드투래드','메이브리즈','Go-MINI','에르고파우치','젤리맘'\n",
    "    ]}\n",
    ")\n",
    "\n",
    "def extract_brand(text):\n",
    "    for brand in 유한킴벌리['브랜드'].values:\n",
    "        if brand in text:\n",
    "            return brand\n",
    "    return 'etc'\n",
    "    \n",
    "def remove_brand(text):\n",
    "    brand = extract_brand(text)\n",
    "    return text.replace(brand, '').strip() if pd.notna(brand) else text\n",
    "    \n",
    "def 원플원_extract_brand(text):\n",
    "    if re.search(r'1\\s*\\+\\s*1', text):\n",
    "        return 1\n",
    "    return 0\n",
    "    \n",
    "def 핫딜_extract_brand(text):\n",
    "    if re.search(r'핫딜', text):\n",
    "        return 1\n",
    "    return 0\n",
    "    \n",
    "# 브랜드 파생변수 생성\n",
    "df_merge['브랜드'] = df_merge['상품명'].apply(extract_brand)\n",
    "# -> 상품명에서 브랜드 제거\n",
    "df_merge['상품명'] = df_merge['상품명'].apply(remove_brand)\n",
    "# 원플원 컬럼 생성\n",
    "df_merge['원플원'] = df_merge['상품명'].apply(원플원_extract_brand)\n",
    "# 핫딜 컬럼 생성\n",
    "df_merge['핫딜'] = df_merge['상품명'].apply(핫딜_extract_brand)\n",
    "\n",
    "def 기저귀(x):\n",
    "    상품명 = x['상품명']\n",
    "    제외어 = ['젖꼭지', '칫솔', '브러쉬', '쌀과자']\n",
    "    if any(단어 in 상품명 for 단어 in 제외어): return np.nan\n",
    "    if '1단계' in 상품명: return '태어난지 한달 무렵까지'\n",
    "    elif '2단계' in 상품명: return '한달 무렵부터'\n",
    "    elif '3단계' in 상품명: return '뒤집고 기는 아기'\n",
    "    elif '4단계' in 상품명: return '걷고 시작하는 아기'\n",
    "    elif '5단계' in 상품명: return '아장아장 걷는 아기'\n",
    "    elif '6단계' in 상품명: return '잘 뛰고 활동적인 아기'\n",
    "    elif '7단계' in 상품명: return '성장이 빠르고 활동적인 아기'\n",
    "    elif '8단계' in 상품명: return '성장이 빠르고 아주 활동적인 아기'\n",
    "    else: return np.nan\n",
    "        \n",
    "df_merge['기저귀단계'] = df_merge.apply(기저귀, axis=1)\n",
    "# 위는 세일즈 원본으로 적용하였음\n",
    "\n",
    "# 아래부터는 병합한 데이터로 하였음\n",
    "df_merge['아이정보건너뛰기'] = df_merge['구매시월령'].isna().astype(int)\n",
    "def 자녀월령결측치삽입(x):  # x는 행(row) 하나\n",
    "    if pd.isna(x['구매시월령']):\n",
    "        if pd.notna(x['기저귀단계']):\n",
    "            if x['기저귀단계'] == '걷고 시작하는 아기': return 13\n",
    "            elif x['기저귀단계'] == '뒤집고 기는 아기': return 8\n",
    "            elif x['기저귀단계'] == '성장이 빠르고 활동적인 아기': return 29\n",
    "            elif x['기저귀단계'] == '아장아장 걷는 아기': return 20\n",
    "            elif x['기저귀단계'] == '태어난지 한달 무렵까지': return 5\n",
    "            elif x['기저귀단계'] == '잘 뛰고 활동적인 아기': return 24\n",
    "            elif x['기저귀단계'] == '한달 무렵부터': return 5\n",
    "    return x['구매시월령']  # 변경 없으면 기존 값 유지\n",
    "    \n",
    "def 자녀월령이상치처리(x):  # x는 행(row) 하나\n",
    "    if (x['구매시월령']>240):\n",
    "        if pd.notna(x['기저귀단계']):\n",
    "            if x['기저귀단계'] == '걷고 시작하는 아기': return 13\n",
    "            elif x['기저귀단계'] == '뒤집고 기는 아기': return 8\n",
    "            elif x['기저귀단계'] == '성장이 빠르고 활동적인 아기': return 29\n",
    "            elif x['기저귀단계'] == '아장아장 걷는 아기': return 20\n",
    "            elif x['기저귀단계'] == '태어난지 한달 무렵까지': return 5\n",
    "            elif x['기저귀단계'] == '잘 뛰고 활동적인 아기': return 24\n",
    "            elif x['기저귀단계'] == '한달 무렵부터': return 5\n",
    "    else : return x['구매시월령']\n",
    "        \n",
    "df_merge['구매시월령'] =df_merge.apply(lambda x: 자녀월령결측치삽입(x), axis=1)\n",
    "df_merge['구매시월령'] =df_merge.apply(lambda x: 자녀월령이상치처리(x), axis=1)\n",
    "# 거주 지역 : 경상도, 전라도, 충청도 합침\n",
    "df_merge['거주지역'] = df_merge['거주지역'].replace({'강원':'강원','경기':'경기','경남':'경상도','경북':'경상도','광주':'광주',\n",
    "                                             '대구':'대구','대전':'대전','부산':'부산','서울':'서울','인천':'인천',\n",
    "                                             '전남':'전라도','전북':'전라도','제주':'제주','충남':'충청도','충북':'충청도'})\n",
    "# 구매시월령_bin 생성\n",
    "태아 = 0\n",
    "초등학생 = 12*8\n",
    "중학생 = 12*14\n",
    "고등학생 = 12*17\n",
    "성인 = 12*20\n",
    "conditions = [\n",
    "    df_merge['구매시월령'] >= 성인,\n",
    "    df_merge['구매시월령'] >= 고등학생,\n",
    "    df_merge['구매시월령'] >= 중학생,\n",
    "    df_merge['구매시월령'] >= 초등학생,\n",
    "    df_merge['구매시월령'] < 태아,\n",
    "    pd.notna(df_merge['구매시월령'])]\n",
    "\n",
    "choices = ['성인', '고등학생', '중학생', '초등학생', '태아', '미취학아동']\n",
    "# np.select의 default는 함수 인자로 전달\n",
    "df_merge['구매시월령_bin'] = np.select(conditions, choices, default=np.nan)\n",
    "df_merge.loc[df_merge['구매시월령_bin']=='nan','구매시월령_bin'] = np.nan\n",
    "# 분포 확인\n",
    "df_merge['구매시월령_bin'].value_counts(dropna=False) / df_merge.shape[0]\n",
    "\n",
    "def 정규화(df_merge):\n",
    "    df_merge['상품명'] = df_merge['상품명'].str.replace(r'남아|여아|공용', '', regex=True)\n",
    "    df_merge['상품명'] = df_merge['상품명'].str.replace(r'[0-9]+단계', '', regex=True)\n",
    "    df_merge['상품명'] = df_merge['상품명'].str.replace(r'[^ㄱ-하-ㅣ가-힣]', ' ', regex=True)\n",
    "    df_merge['상품명'] = df_merge['상품명'].str.replace(r'\\s+', ' ', regex=True).str.strip()\n",
    "    return df_merge\n",
    "    \n",
    "df_merge = 정규화(df_merge)\n",
    "df_merge['상품명'] = df_merge['상품명'].str.replace(' 매','', regex=True).str.replace('개입','').str.replace('용','').str.replace('뉴','').str.replace('날개','').str.replace('-','').str.replace('_','')\n",
    "df_merge['상품명'] = df_merge['상품명'].str.replace(r'\\s+', ' ', regex=True).str.strip()\n",
    "df_merge['상품명'] = df_merge['상품명'].apply(lambda x: ' '.join([단어 for 단어 in x.split() if len(단어) >= 2]))\n",
    "\n",
    "df_merge = df_merge.dropna(subset=['상품명']) # 4건 결측치 발생 -> 삭제\n",
    "df_merge = df_merge.dropna(subset=['구매시월령'])\n",
    "\n",
    "import re\n",
    "def clean_product_name(name):\n",
    "    if not isinstance(name, str):\n",
    "        return ''\n",
    "    # 2. 특수문자 제거\n",
    "    name = re.sub(r'[^가-힣a-zA-Z0-9 ]', '', name)\n",
    "    # 3. 공백 정리\n",
    "    name = re.sub(r'\\s+', ' ', name).strip()\n",
    "    # 4. 중복 단어 제거 (단어 순서 유지)\n",
    "    words = name.split()\n",
    "    seen = set()\n",
    "    deduped = [w for w in words if not (w in seen or seen.add(w))]\n",
    "    return ' '.join(deduped)\n",
    "    \n",
    "# 적용\n",
    "df_merge['상품명_정제'] = df_merge['상품명'].apply(clean_product_name)\n",
    "\n",
    "df_merge['상품명_정제'].nunique()"
   ]
  },
  {
   "cell_type": "code",
   "execution_count": 274,
   "id": "c3b74a38-8f54-4bec-ba6e-92766797ae28",
   "metadata": {
    "scrolled": true
   },
   "outputs": [
    {
     "name": "stdout",
     "output_type": "stream",
     "text": [
      "<class 'pandas.core.frame.DataFrame'>\n",
      "Index: 185355 entries, 0 to 209592\n",
      "Data columns (total 27 columns):\n",
      " #   Column     Non-Null Count   Dtype         \n",
      "---  ------     --------------   -----         \n",
      " 0   주문번호       185355 non-null  object        \n",
      " 1   배송완료일      185355 non-null  datetime64[ns]\n",
      " 2   배송시작일      185355 non-null  datetime64[ns]\n",
      " 3   구매일        185355 non-null  datetime64[ns]\n",
      " 4   구매시월령      185355 non-null  float64       \n",
      " 5   고객번호       185355 non-null  object        \n",
      " 6   구매금액       185355 non-null  int64         \n",
      " 7   결제금액       185355 non-null  int64         \n",
      " 8   물품대분류      185355 non-null  object        \n",
      " 9   상품명        185355 non-null  object        \n",
      " 10  물품판매량      185355 non-null  int64         \n",
      " 11  제품단가       185355 non-null  int64         \n",
      " 12  성별         185355 non-null  object        \n",
      " 13  결혼유무       185355 non-null  object        \n",
      " 14  거주지역       185355 non-null  object        \n",
      " 15  연령         185355 non-null  float64       \n",
      " 16  결제등록카드     185355 non-null  object        \n",
      " 17  유입경로       185355 non-null  object        \n",
      " 18  자녀여부       185355 non-null  object        \n",
      " 19  남아여아공용     96065 non-null   object        \n",
      " 20  브랜드        185355 non-null  object        \n",
      " 21  원플원        185355 non-null  int64         \n",
      " 22  핫딜         185355 non-null  int64         \n",
      " 23  기저귀단계      94822 non-null   object        \n",
      " 24  아이정보건너뛰기   185355 non-null  int32         \n",
      " 25  구매시월령_bin  185355 non-null  object        \n",
      " 26  상품명_정제     185355 non-null  object        \n",
      "dtypes: datetime64[ns](3), float64(2), int32(1), int64(6), object(15)\n",
      "memory usage: 38.9+ MB\n"
     ]
    }
   ],
   "source": [
    "df_merge.info()"
   ]
  },
  {
   "cell_type": "code",
   "execution_count": 275,
   "id": "af6fce18-3ea1-4508-adf6-97ebcb3ba21f",
   "metadata": {},
   "outputs": [
    {
     "data": {
      "text/plain": [
       "주문번호             0\n",
       "배송완료일            0\n",
       "배송시작일            0\n",
       "구매일              0\n",
       "구매시월령            0\n",
       "고객번호             0\n",
       "구매금액             0\n",
       "결제금액             0\n",
       "물품대분류            0\n",
       "상품명              0\n",
       "물품판매량            0\n",
       "제품단가             0\n",
       "성별               0\n",
       "결혼유무             0\n",
       "거주지역             0\n",
       "연령               0\n",
       "결제등록카드           0\n",
       "유입경로             0\n",
       "자녀여부             0\n",
       "남아여아공용       89290\n",
       "브랜드              0\n",
       "원플원              0\n",
       "핫딜               0\n",
       "기저귀단계        90533\n",
       "아이정보건너뛰기         0\n",
       "구매시월령_bin        0\n",
       "상품명_정제           0\n",
       "dtype: int64"
      ]
     },
     "execution_count": 275,
     "metadata": {},
     "output_type": "execute_result"
    }
   ],
   "source": [
    "df_merge.isna().sum()"
   ]
  },
  {
   "cell_type": "code",
   "execution_count": 276,
   "id": "a84eda7c-d56d-406f-92fa-83f9e3d1dedd",
   "metadata": {},
   "outputs": [
    {
     "data": {
      "text/plain": [
       "array(['남아', '여아', '공용', nan], dtype=object)"
      ]
     },
     "execution_count": 276,
     "metadata": {},
     "output_type": "execute_result"
    }
   ],
   "source": [
    "df_merge['남아여아공용'].unique()"
   ]
  },
  {
   "cell_type": "code",
   "execution_count": 277,
   "id": "44d42cc4-3d3c-4dcc-bc51-a4fa80eddc50",
   "metadata": {},
   "outputs": [
    {
     "data": {
      "text/plain": [
       "array(['아장아장 걷는 아기', '뒤집고 기는 아기', '걷고 시작하는 아기', nan, '한달 무렵부터',\n",
       "       '태어난지 한달 무렵까지', '잘 뛰고 활동적인 아기', '성장이 빠르고 활동적인 아기'], dtype=object)"
      ]
     },
     "execution_count": 277,
     "metadata": {},
     "output_type": "execute_result"
    }
   ],
   "source": [
    "df_merge['기저귀단계'].unique()"
   ]
  },
  {
   "cell_type": "code",
   "execution_count": 278,
   "id": "0072886a-b010-409a-b803-3e703a9233ff",
   "metadata": {},
   "outputs": [],
   "source": [
    "df_merge['남아여아공용'] = df_merge['남아여아공용'].fillna('알수없음')"
   ]
  },
  {
   "cell_type": "code",
   "execution_count": 279,
   "id": "bfd95114-44b5-4da2-b933-58b5f0afcf8e",
   "metadata": {},
   "outputs": [],
   "source": [
    "df_merge['기저귀단계'] = df_merge['기저귀단계'].fillna('알수없음')"
   ]
  },
  {
   "cell_type": "code",
   "execution_count": 280,
   "id": "eb080f27-4930-4431-b13d-8d2e930f0c0e",
   "metadata": {
    "scrolled": true
   },
   "outputs": [
    {
     "data": {
      "text/plain": [
       "주문번호         0\n",
       "배송완료일        0\n",
       "배송시작일        0\n",
       "구매일          0\n",
       "구매시월령        0\n",
       "고객번호         0\n",
       "구매금액         0\n",
       "결제금액         0\n",
       "물품대분류        0\n",
       "상품명          0\n",
       "물품판매량        0\n",
       "제품단가         0\n",
       "성별           0\n",
       "결혼유무         0\n",
       "거주지역         0\n",
       "연령           0\n",
       "결제등록카드       0\n",
       "유입경로         0\n",
       "자녀여부         0\n",
       "남아여아공용       0\n",
       "브랜드          0\n",
       "원플원          0\n",
       "핫딜           0\n",
       "기저귀단계        0\n",
       "아이정보건너뛰기     0\n",
       "구매시월령_bin    0\n",
       "상품명_정제       0\n",
       "dtype: int64"
      ]
     },
     "execution_count": 280,
     "metadata": {},
     "output_type": "execute_result"
    }
   ],
   "source": [
    "df_merge.isna().sum()"
   ]
  },
  {
   "cell_type": "code",
   "execution_count": 281,
   "id": "61ec1715-ba7b-48c3-aeed-d7116d765709",
   "metadata": {},
   "outputs": [
    {
     "name": "stdout",
     "output_type": "stream",
     "text": [
      "<class 'pandas.core.frame.DataFrame'>\n",
      "Index: 185355 entries, 0 to 209592\n",
      "Data columns (total 27 columns):\n",
      " #   Column     Non-Null Count   Dtype         \n",
      "---  ------     --------------   -----         \n",
      " 0   주문번호       185355 non-null  object        \n",
      " 1   배송완료일      185355 non-null  datetime64[ns]\n",
      " 2   배송시작일      185355 non-null  datetime64[ns]\n",
      " 3   구매일        185355 non-null  datetime64[ns]\n",
      " 4   구매시월령      185355 non-null  float64       \n",
      " 5   고객번호       185355 non-null  object        \n",
      " 6   구매금액       185355 non-null  int64         \n",
      " 7   결제금액       185355 non-null  int64         \n",
      " 8   물품대분류      185355 non-null  object        \n",
      " 9   상품명        185355 non-null  object        \n",
      " 10  물품판매량      185355 non-null  int64         \n",
      " 11  제품단가       185355 non-null  int64         \n",
      " 12  성별         185355 non-null  object        \n",
      " 13  결혼유무       185355 non-null  object        \n",
      " 14  거주지역       185355 non-null  object        \n",
      " 15  연령         185355 non-null  float64       \n",
      " 16  결제등록카드     185355 non-null  object        \n",
      " 17  유입경로       185355 non-null  object        \n",
      " 18  자녀여부       185355 non-null  object        \n",
      " 19  남아여아공용     185355 non-null  object        \n",
      " 20  브랜드        185355 non-null  object        \n",
      " 21  원플원        185355 non-null  int64         \n",
      " 22  핫딜         185355 non-null  int64         \n",
      " 23  기저귀단계      185355 non-null  object        \n",
      " 24  아이정보건너뛰기   185355 non-null  int32         \n",
      " 25  구매시월령_bin  185355 non-null  object        \n",
      " 26  상품명_정제     185355 non-null  object        \n",
      "dtypes: datetime64[ns](3), float64(2), int32(1), int64(6), object(15)\n",
      "memory usage: 38.9+ MB\n"
     ]
    }
   ],
   "source": [
    "df_merge.info()"
   ]
  },
  {
   "cell_type": "code",
   "execution_count": 283,
   "id": "dc321e3c-9ab6-4426-922e-fc65642bf77f",
   "metadata": {},
   "outputs": [],
   "source": [
    "df_merge.to_csv('data.csv', index=False, encoding='CP949')"
   ]
  },
  {
   "cell_type": "markdown",
   "id": "93930811-243f-45cd-9ac1-5e5f3bb22f85",
   "metadata": {},
   "source": [
    "# 데이터 추가 전처리"
   ]
  },
  {
   "cell_type": "code",
   "execution_count": 4,
   "id": "c7c72ca9-37ee-40da-b7cf-2aa973f0f612",
   "metadata": {},
   "outputs": [
    {
     "name": "stdout",
     "output_type": "stream",
     "text": [
      "<class 'pandas.core.frame.DataFrame'>\n",
      "Index: 185351 entries, 0 to 185354\n",
      "Data columns (total 27 columns):\n",
      " #   Column     Non-Null Count   Dtype  \n",
      "---  ------     --------------   -----  \n",
      " 0   주문번호       185351 non-null  object \n",
      " 1   배송완료일      185351 non-null  object \n",
      " 2   배송시작일      185351 non-null  object \n",
      " 3   구매일        185351 non-null  object \n",
      " 4   구매시월령      185351 non-null  float64\n",
      " 5   고객번호       185351 non-null  int64  \n",
      " 6   구매금액       185351 non-null  int64  \n",
      " 7   결제금액       185351 non-null  int64  \n",
      " 8   물품대분류      185351 non-null  object \n",
      " 9   상품명        185351 non-null  object \n",
      " 10  물품판매량      185351 non-null  int64  \n",
      " 11  제품단가       185351 non-null  int64  \n",
      " 12  성별         185351 non-null  object \n",
      " 13  결혼유무       185351 non-null  object \n",
      " 14  거주지역       185351 non-null  object \n",
      " 15  연령         185351 non-null  float64\n",
      " 16  결제등록카드     185351 non-null  object \n",
      " 17  유입경로       185351 non-null  object \n",
      " 18  자녀여부       185351 non-null  object \n",
      " 19  남아여아공용     185351 non-null  object \n",
      " 20  브랜드        185351 non-null  object \n",
      " 21  원플원        185351 non-null  int64  \n",
      " 22  핫딜         185351 non-null  int64  \n",
      " 23  기저귀단계      185351 non-null  object \n",
      " 24  아이정보건너뛰기   185351 non-null  int64  \n",
      " 25  구매시월령_bin  185351 non-null  object \n",
      " 26  상품명_정제     185351 non-null  object \n",
      "dtypes: float64(2), int64(8), object(17)\n",
      "memory usage: 39.6+ MB\n"
     ]
    }
   ],
   "source": [
    "import pandas as pd\n",
    "df = pd.read_csv('data.csv', encoding='CP949', low_memory=False)\n",
    "df = df.dropna()\n",
    "df.info()"
   ]
  },
  {
   "cell_type": "code",
   "execution_count": null,
   "id": "bb054c69-12dd-48aa-aff6-097b9ac0675d",
   "metadata": {},
   "outputs": [],
   "source": []
  }
 ],
 "metadata": {
  "kernelspec": {
   "display_name": "Python 3 (ipykernel)",
   "language": "python",
   "name": "python3"
  },
  "language_info": {
   "codemirror_mode": {
    "name": "ipython",
    "version": 3
   },
   "file_extension": ".py",
   "mimetype": "text/x-python",
   "name": "python",
   "nbconvert_exporter": "python",
   "pygments_lexer": "ipython3",
   "version": "3.12.3"
  }
 },
 "nbformat": 4,
 "nbformat_minor": 5
}
