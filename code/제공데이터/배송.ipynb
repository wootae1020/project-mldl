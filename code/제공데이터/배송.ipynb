{
 "cells": [
  {
   "cell_type": "markdown",
   "id": "8f5ea5de-c80f-4c90-8f5d-e78de7c13dfc",
   "metadata": {},
   "source": [
    "# 0. 라이브러리 설치 및 준비"
   ]
  },
  {
   "cell_type": "code",
   "execution_count": 1,
   "id": "a2ab3847-0c2b-4918-a4e3-ec22c13edf37",
   "metadata": {},
   "outputs": [],
   "source": [
    "# %pip install pycaret\n",
    "# %pip install holidayskr"
   ]
  },
  {
   "cell_type": "code",
   "execution_count": 2,
   "id": "1a330c29-72db-4f83-b55e-6c07b444fe9d",
   "metadata": {},
   "outputs": [],
   "source": [
    "import matplotlib.pyplot as plt\n",
    "import seaborn as sns\n",
    "import numpy as np\n",
    "import matplotlib.ticker as ticker\n",
    "import platform\n",
    "\n",
    "if platform.system() == 'Windows':\n",
    "    plt.rcParams['font.family'] = 'Malgun Gothic'\n",
    "elif platform.system() == 'Darwin':\n",
    "    plt.rcParams['font.family'] = 'AppleGothic'\n",
    "else:\n",
    "    plt.rcParams['font.family'] = 'NanumBarunGothic'\n",
    "    plt.rcParams['axes.unicode_minus'] = False"
   ]
  },
  {
   "cell_type": "markdown",
   "id": "8a92f184-9eac-46d8-9b85-b4901bc79782",
   "metadata": {},
   "source": [
    "# 1. 데이터 가져오기 & merge"
   ]
  },
  {
   "cell_type": "code",
   "execution_count": 3,
   "id": "9641ec5d-76cd-49c2-87a4-03e9bc9bd6c5",
   "metadata": {},
   "outputs": [
    {
     "name": "stdout",
     "output_type": "stream",
     "text": [
      "<class 'pandas.core.frame.DataFrame'>\n",
      "Index: 199999 entries, 0 to 199998\n",
      "Data columns (total 10 columns):\n",
      " #   Column  Non-Null Count   Dtype  \n",
      "---  ------  --------------   -----  \n",
      " 0   주문번호    199999 non-null  object \n",
      " 1   배송완료일   199999 non-null  object \n",
      " 2   배송시작일   199999 non-null  object \n",
      " 3   구매일     199999 non-null  object \n",
      " 4   구매시월령   168142 non-null  float64\n",
      " 5   고객번호    199999 non-null  object \n",
      " 6   구매금액    199999 non-null  int64  \n",
      " 7   결제금액    199999 non-null  int64  \n",
      " 8   물품대분류   199999 non-null  object \n",
      " 9   상품명     199999 non-null  object \n",
      "dtypes: float64(1), int64(2), object(7)\n",
      "memory usage: 16.8+ MB\n",
      "<class 'pandas.core.frame.DataFrame'>\n",
      "RangeIndex: 81360 entries, 0 to 81359\n",
      "Data columns (total 8 columns):\n",
      " #   Column  Non-Null Count  Dtype  \n",
      "---  ------  --------------  -----  \n",
      " 0   고객번호    81360 non-null  object \n",
      " 1   성별      81094 non-null  object \n",
      " 2   결혼유무    81094 non-null  object \n",
      " 3   거주지역    81094 non-null  object \n",
      " 4   연령      81094 non-null  float64\n",
      " 5   결제등록카드  81094 non-null  object \n",
      " 6   유입경로    81094 non-null  object \n",
      " 7   자녀여부    81094 non-null  object \n",
      "dtypes: float64(1), object(7)\n",
      "memory usage: 5.0+ MB\n"
     ]
    },
    {
     "name": "stderr",
     "output_type": "stream",
     "text": [
      "/var/folders/pq/rr2mljs579zdggc598s4fmx00000gn/T/ipykernel_66211/3608844207.py:3: DtypeWarning: Columns (1,6) have mixed types. Specify dtype option on import or set low_memory=False.\n",
      "  sales = pd.read_csv('data/Sales_data.csv', encoding='utf-8-sig', index_col=0)\n",
      "/var/folders/pq/rr2mljs579zdggc598s4fmx00000gn/T/ipykernel_66211/3608844207.py:4: DtypeWarning: Columns (0) have mixed types. Specify dtype option on import or set low_memory=False.\n",
      "  member = pd.read_csv('data/Member_data.csv', encoding='utf-8-sig')\n"
     ]
    }
   ],
   "source": [
    "import pandas as pd\n",
    "\n",
    "sales = pd.read_csv('data/Sales_data.csv', encoding='utf-8-sig', index_col=0)\n",
    "member = pd.read_csv('data/Member_data.csv', encoding='utf-8-sig')\n",
    "\n",
    "sales.info() # (199999, 10)\n",
    "member.info() # (81360, 8)"
   ]
  },
  {
   "cell_type": "code",
   "execution_count": 4,
   "id": "e06d9e9a-c5af-4be5-b499-fee11d08a8f2",
   "metadata": {},
   "outputs": [
    {
     "data": {
      "text/plain": [
       "주문번호         0\n",
       "배송완료일        0\n",
       "배송시작일        0\n",
       "구매일          0\n",
       "구매시월령    31857\n",
       "고객번호         0\n",
       "구매금액         0\n",
       "결제금액         0\n",
       "물품대분류        0\n",
       "상품명          0\n",
       "dtype: int64"
      ]
     },
     "execution_count": 4,
     "metadata": {},
     "output_type": "execute_result"
    }
   ],
   "source": [
    "sales.isnull().sum() # 그대로"
   ]
  },
  {
   "cell_type": "code",
   "execution_count": 5,
   "id": "3802401a-9dac-4134-9161-d75feeb2eb79",
   "metadata": {},
   "outputs": [],
   "source": [
    "sales['고객번호'] = pd.to_numeric(sales['고객번호'], errors='coerce')"
   ]
  },
  {
   "cell_type": "code",
   "execution_count": 6,
   "id": "e34b774e-d2c3-4a0d-a051-a0f81f525326",
   "metadata": {},
   "outputs": [
    {
     "name": "stdout",
     "output_type": "stream",
     "text": [
      "<class 'pandas.core.frame.DataFrame'>\n",
      "Index: 81094 entries, 0 to 81093\n",
      "Data columns (total 8 columns):\n",
      " #   Column  Non-Null Count  Dtype  \n",
      "---  ------  --------------  -----  \n",
      " 0   고객번호    81094 non-null  object \n",
      " 1   성별      81094 non-null  object \n",
      " 2   결혼유무    81094 non-null  object \n",
      " 3   거주지역    81094 non-null  object \n",
      " 4   연령      81094 non-null  float64\n",
      " 5   결제등록카드  81094 non-null  object \n",
      " 6   유입경로    81094 non-null  object \n",
      " 7   자녀여부    81094 non-null  object \n",
      "dtypes: float64(1), object(7)\n",
      "memory usage: 5.6+ MB\n"
     ]
    }
   ],
   "source": [
    "member = member.dropna()\n",
    "member.info()"
   ]
  },
  {
   "cell_type": "code",
   "execution_count": 7,
   "id": "4481d082-ae5b-4471-94af-695737b79e28",
   "metadata": {},
   "outputs": [],
   "source": [
    "member['고객번호'] = pd.to_numeric(member['고객번호'], errors='coerce')"
   ]
  },
  {
   "cell_type": "code",
   "execution_count": 8,
   "id": "4cb251a4-6f69-47af-b152-00c5002f6f7e",
   "metadata": {},
   "outputs": [
    {
     "name": "stdout",
     "output_type": "stream",
     "text": [
      "<class 'pandas.core.frame.DataFrame'>\n",
      "Index: 199999 entries, 0 to 199998\n",
      "Data columns (total 10 columns):\n",
      " #   Column  Non-Null Count   Dtype  \n",
      "---  ------  --------------   -----  \n",
      " 0   주문번호    199999 non-null  object \n",
      " 1   배송완료일   199999 non-null  object \n",
      " 2   배송시작일   199999 non-null  object \n",
      " 3   구매일     199999 non-null  object \n",
      " 4   구매시월령   168142 non-null  float64\n",
      " 5   고객번호    199999 non-null  float64\n",
      " 6   구매금액    199999 non-null  int64  \n",
      " 7   결제금액    199999 non-null  int64  \n",
      " 8   물품대분류   199999 non-null  object \n",
      " 9   상품명     199999 non-null  object \n",
      "dtypes: float64(2), int64(2), object(6)\n",
      "memory usage: 16.8+ MB\n",
      "<class 'pandas.core.frame.DataFrame'>\n",
      "Index: 81094 entries, 0 to 81093\n",
      "Data columns (total 8 columns):\n",
      " #   Column  Non-Null Count  Dtype  \n",
      "---  ------  --------------  -----  \n",
      " 0   고객번호    81094 non-null  int64  \n",
      " 1   성별      81094 non-null  object \n",
      " 2   결혼유무    81094 non-null  object \n",
      " 3   거주지역    81094 non-null  object \n",
      " 4   연령      81094 non-null  float64\n",
      " 5   결제등록카드  81094 non-null  object \n",
      " 6   유입경로    81094 non-null  object \n",
      " 7   자녀여부    81094 non-null  object \n",
      "dtypes: float64(1), int64(1), object(6)\n",
      "memory usage: 5.6+ MB\n"
     ]
    },
    {
     "data": {
      "text/plain": [
       "(None, None)"
      ]
     },
     "execution_count": 8,
     "metadata": {},
     "output_type": "execute_result"
    }
   ],
   "source": [
    "sales.info(), member.info()"
   ]
  },
  {
   "cell_type": "code",
   "execution_count": 9,
   "id": "25e78875-9ef8-4832-af6c-957cd3a7e26d",
   "metadata": {},
   "outputs": [],
   "source": [
    "member['결제등록카드'] = member['결제등록카드'].replace('국민카드', '국민은행').replace('신한카드', '신한은행').replace('외환은행', '하나은행')"
   ]
  },
  {
   "cell_type": "code",
   "execution_count": 10,
   "id": "45084288-01c5-4b6f-98f1-a800af576f6d",
   "metadata": {},
   "outputs": [
    {
     "data": {
      "text/plain": [
       "array(['국민은행', '하나은행', '기업은행', '신한은행', '광주은행', 'BC카드', '우리은행', '농협회원조합',\n",
       "       '신협중앙회', '롯데카드', '대구은행', '농협중앙회', '새마을금고', '우체국', 'SC제일은행', '현대카드',\n",
       "       '삼성카드', '부산은행', '씨티은행', '미래에셋증권', '경남은행'], dtype=object)"
      ]
     },
     "execution_count": 10,
     "metadata": {},
     "output_type": "execute_result"
    }
   ],
   "source": [
    "member['결제등록카드'].unique()\n",
    "# member['결제등록카드'].nunique() # 21개"
   ]
  },
  {
   "cell_type": "code",
   "execution_count": 11,
   "id": "6735d426-106e-488f-af7e-28e93def5a57",
   "metadata": {},
   "outputs": [
    {
     "name": "stderr",
     "output_type": "stream",
     "text": [
      "/var/folders/pq/rr2mljs579zdggc598s4fmx00000gn/T/ipykernel_66211/1438321430.py:1: UserWarning: You are merging on int and float columns where the float values are not equal to their int representation.\n",
      "  df = pd.merge(sales, member, on='고객번호', how='inner')\n"
     ]
    }
   ],
   "source": [
    "df = pd.merge(sales, member, on='고객번호', how='inner')"
   ]
  },
  {
   "cell_type": "code",
   "execution_count": 12,
   "id": "34f096bf-06d1-4f9a-b3a0-4afbedd9f98f",
   "metadata": {},
   "outputs": [],
   "source": [
    "# df.to_csv('merge_sales_member.csv', index=False)\n",
    "# result = pd.read_csv('merge_sales_member.csv')\n",
    "# result.info() # (199583, 17)"
   ]
  },
  {
   "cell_type": "markdown",
   "id": "9e88dfe6-87f3-4e23-bdb6-cf4fb3801d1f",
   "metadata": {},
   "source": [
    "# 2. merge 이후 데이터 양상 확인"
   ]
  },
  {
   "cell_type": "code",
   "execution_count": 13,
   "id": "fa965608-b3ff-40dd-8290-7bd5a317df1c",
   "metadata": {},
   "outputs": [],
   "source": [
    "# df.info() # (199583, 17)"
   ]
  },
  {
   "cell_type": "markdown",
   "id": "b79d3687-6370-48a7-bafe-f0af72d22433",
   "metadata": {},
   "source": [
    "## 0 고객번호"
   ]
  },
  {
   "cell_type": "code",
   "execution_count": 14,
   "id": "c843e4d8-0c18-4c74-ba7f-4125cb350f21",
   "metadata": {},
   "outputs": [
    {
     "data": {
      "text/plain": [
       "81094"
      ]
     },
     "execution_count": 14,
     "metadata": {},
     "output_type": "execute_result"
    }
   ],
   "source": [
    "df['고객번호'].nunique() # 266명 감소 (member 전처리 dropna 결과)"
   ]
  },
  {
   "cell_type": "markdown",
   "id": "e9bca815-d1a1-4545-93a9-55eabff2d96c",
   "metadata": {},
   "source": [
    "## 1 성별"
   ]
  },
  {
   "cell_type": "code",
   "execution_count": 15,
   "id": "4441b3b9-64cd-4152-9c88-f85f48171ef0",
   "metadata": {},
   "outputs": [
    {
     "data": {
      "text/plain": [
       "array(['여', '남'], dtype=object)"
      ]
     },
     "execution_count": 15,
     "metadata": {},
     "output_type": "execute_result"
    }
   ],
   "source": [
    "df['성별'].unique()"
   ]
  },
  {
   "cell_type": "markdown",
   "id": "8f985369-ed44-4a9e-b034-c35206c30af8",
   "metadata": {},
   "source": [
    "## 2 결혼유무"
   ]
  },
  {
   "cell_type": "code",
   "execution_count": 16,
   "id": "c8597395-7b0d-48ba-bbea-0b1c8301b8ee",
   "metadata": {},
   "outputs": [
    {
     "data": {
      "text/plain": [
       "array(['기혼', '미혼'], dtype=object)"
      ]
     },
     "execution_count": 16,
     "metadata": {},
     "output_type": "execute_result"
    }
   ],
   "source": [
    "df['결혼유무'].unique()"
   ]
  },
  {
   "cell_type": "markdown",
   "id": "e1c6aecb-fe4d-4ce3-85e4-6be6922cf472",
   "metadata": {},
   "source": [
    "## 3 거주지역"
   ]
  },
  {
   "cell_type": "code",
   "execution_count": 17,
   "id": "f264b4ea-b60b-4a60-91bb-26118094494f",
   "metadata": {},
   "outputs": [
    {
     "data": {
      "text/plain": [
       "array(['서울', '충북', '강원', '제주', '인천', '대구', '경기', '부산', '경남', '광주', '경북',\n",
       "       '전북', '충남', '대전', '전남'], dtype=object)"
      ]
     },
     "execution_count": 17,
     "metadata": {},
     "output_type": "execute_result"
    }
   ],
   "source": [
    "df['거주지역'].unique()\n",
    "# df['거주지역'].nunique() # 15개"
   ]
  },
  {
   "cell_type": "code",
   "execution_count": 18,
   "id": "d40d247d-6c30-46ba-99af-1b49c184ee4e",
   "metadata": {},
   "outputs": [],
   "source": [
    "df['거주지역'] = df['거주지역'].replace({'강원':'강원','경기':'경기','경남':'경상도','경북':'경상도','광주':'광주'\n",
    "                  ,'대구':'대구','대전':'대전','부산':'부산','서울':'서울','인천':'인천'\n",
    "                   ,'전남':'전라도','전북':'전라도','제주':'제주','충남':'충청도','충북':'충청도'\n",
    "                })"
   ]
  },
  {
   "cell_type": "code",
   "execution_count": 19,
   "id": "22e5dbee-1572-4f5c-b438-a664742e2265",
   "metadata": {},
   "outputs": [
    {
     "data": {
      "text/plain": [
       "array(['서울', '충청도', '강원', '제주', '인천', '대구', '경기', '부산', '경상도', '광주',\n",
       "       '전라도', '대전'], dtype=object)"
      ]
     },
     "execution_count": 19,
     "metadata": {},
     "output_type": "execute_result"
    }
   ],
   "source": [
    "df['거주지역'].unique()\n",
    "# df['거주지역'].nunique() # 12"
   ]
  },
  {
   "cell_type": "markdown",
   "id": "22e0638c-8faa-4af9-b709-28dda6c5ace2",
   "metadata": {},
   "source": [
    "## 4 연령"
   ]
  },
  {
   "cell_type": "code",
   "execution_count": 20,
   "id": "5052aa4e-f624-4adf-a3d9-a8563af5ac0d",
   "metadata": {},
   "outputs": [
    {
     "data": {
      "text/plain": [
       "array([30, 28, 31, 35, 32, 34, 29, 36, 33, 37, 38, 39, 27, 25, 40, 26, 41,\n",
       "       22, 24, 42, 44, 43, 23, 45, 46, 21, 20])"
      ]
     },
     "execution_count": 20,
     "metadata": {},
     "output_type": "execute_result"
    }
   ],
   "source": [
    "df['연령'] = df['연령'].astype('int64') # float -> int로 변경\n",
    "df['연령'].unique()\n",
    "# df['연령'].nunique() # 27개"
   ]
  },
  {
   "cell_type": "markdown",
   "id": "1bb831c8-2fe4-43cf-a52e-def764fe44bf",
   "metadata": {},
   "source": [
    "## 5 결제등록카드"
   ]
  },
  {
   "cell_type": "code",
   "execution_count": 21,
   "id": "ba0d60ba-89af-48d7-b164-c4a7467bbf84",
   "metadata": {},
   "outputs": [
    {
     "data": {
      "text/plain": [
       "array(['롯데카드', '광주은행', '신협중앙회', '신한은행', '하나은행', '국민은행', '농협중앙회', '우리은행',\n",
       "       '농협회원조합', '새마을금고', 'BC카드', '현대카드', '기업은행', '대구은행', 'SC제일은행',\n",
       "       '삼성카드', '부산은행', '우체국', '미래에셋증권', '경남은행', '씨티은행'], dtype=object)"
      ]
     },
     "execution_count": 21,
     "metadata": {},
     "output_type": "execute_result"
    }
   ],
   "source": [
    "df['결제등록카드'].unique()\n",
    "# df['결제등록카드'].nunique() # 21개"
   ]
  },
  {
   "cell_type": "markdown",
   "id": "f3a6af60-9a4f-4a54-99fc-46b6355eb39f",
   "metadata": {},
   "source": [
    "## 6 유입경로"
   ]
  },
  {
   "cell_type": "code",
   "execution_count": 22,
   "id": "0e5a3d62-9044-45bb-9244-4cba8803fcb2",
   "metadata": {},
   "outputs": [
    {
     "data": {
      "text/plain": [
       "array(['인스타그램', '검색광고', '네이버블로그', '지인추천', '페이스북', '네이버카페', '오픈마켓', '직접검색',\n",
       "       '매장쿠폰', '이마트'], dtype=object)"
      ]
     },
     "execution_count": 22,
     "metadata": {},
     "output_type": "execute_result"
    }
   ],
   "source": [
    "df['유입경로'].unique()\n",
    "# df['유입경로'].nunique() # 10개"
   ]
  },
  {
   "cell_type": "markdown",
   "id": "02ab4c7b-3143-4303-8573-c31eec1cac01",
   "metadata": {},
   "source": [
    "## 7 자녀여부"
   ]
  },
  {
   "cell_type": "code",
   "execution_count": 23,
   "id": "961c9a42-1bbd-4077-b749-b721d3d11390",
   "metadata": {},
   "outputs": [
    {
     "data": {
      "text/plain": [
       "array(['Yes', 'No'], dtype=object)"
      ]
     },
     "execution_count": 23,
     "metadata": {},
     "output_type": "execute_result"
    }
   ],
   "source": [
    "df['자녀여부'].unique()"
   ]
  },
  {
   "cell_type": "markdown",
   "id": "cd0a8bae-f731-4a99-883e-7c2f94079217",
   "metadata": {},
   "source": [
    "## 8 주문번호"
   ]
  },
  {
   "cell_type": "code",
   "execution_count": 24,
   "id": "df2858ab-fe60-47db-86d4-fa9040b13d0a",
   "metadata": {},
   "outputs": [
    {
     "data": {
      "text/plain": [
       "array([901011864201303, 901011864430366, 81231186197954, ...,\n",
       "       '00806172918-0266350223939', '00806204436-0461904922687',\n",
       "       '00806204436-0461904922688'], dtype=object)"
      ]
     },
     "execution_count": 24,
     "metadata": {},
     "output_type": "execute_result"
    }
   ],
   "source": [
    "df['주문번호'].unique() # object형 그대로"
   ]
  },
  {
   "cell_type": "markdown",
   "id": "68e2d5da-5268-445f-abfe-e2ebc7c31367",
   "metadata": {},
   "source": [
    "## 9 배송완료일"
   ]
  },
  {
   "cell_type": "code",
   "execution_count": 25,
   "id": "8a2e25c3-f3c9-4b85-9293-52efaa488d1e",
   "metadata": {},
   "outputs": [],
   "source": [
    "df['배송완료일'] = pd.to_datetime(df['배송완료일'])"
   ]
  },
  {
   "cell_type": "markdown",
   "id": "1d6b831e-4754-49ea-85b8-cd08e476681b",
   "metadata": {},
   "source": [
    "## 10 배송시작일"
   ]
  },
  {
   "cell_type": "code",
   "execution_count": 26,
   "id": "17d0d746-7c04-4474-bd2f-0d64b9e379b6",
   "metadata": {},
   "outputs": [],
   "source": [
    "df['배송시작일'] = pd.to_datetime(df['배송시작일'])"
   ]
  },
  {
   "cell_type": "markdown",
   "id": "9ed65418-2865-4463-9761-8eaa3b5f866c",
   "metadata": {},
   "source": [
    "## 11 구매일"
   ]
  },
  {
   "cell_type": "code",
   "execution_count": 27,
   "id": "d2eba6df-9bb3-4a73-9929-878d3c4f780b",
   "metadata": {},
   "outputs": [],
   "source": [
    "df['구매일'] = pd.to_datetime(df['구매일'])"
   ]
  },
  {
   "cell_type": "markdown",
   "id": "81bb225f-e269-48d8-8230-e5ac4ec2181b",
   "metadata": {},
   "source": [
    "## 12 구매시월령"
   ]
  },
  {
   "cell_type": "code",
   "execution_count": 28,
   "id": "6f058b61-0bed-480b-9b38-17c3e78f1b55",
   "metadata": {},
   "outputs": [
    {
     "data": {
      "text/plain": [
       "31743"
      ]
     },
     "execution_count": 28,
     "metadata": {},
     "output_type": "execute_result"
    }
   ],
   "source": [
    "df['구매시월령'].isnull().sum() # 31743개 => 추후에 Nan 고객 특성 더 살펴보기"
   ]
  },
  {
   "cell_type": "code",
   "execution_count": 29,
   "id": "12c201c4-9f48-4d6a-9bd3-138f60fb6f18",
   "metadata": {},
   "outputs": [
    {
     "data": {
      "text/plain": [
       "14568"
      ]
     },
     "execution_count": 29,
     "metadata": {},
     "output_type": "execute_result"
    }
   ],
   "source": [
    "df_구매시월령 = df[df['구매시월령'] < 0] # 음수값\n",
    "len(df_구매시월령) # 14568개"
   ]
  },
  {
   "cell_type": "markdown",
   "id": "d71bc1bc-2d10-408a-87c1-6592e439a41e",
   "metadata": {},
   "source": [
    "### (파생변수 생성) 출산예정 컬럼"
   ]
  },
  {
   "cell_type": "code",
   "execution_count": 30,
   "id": "5293d4e1-adab-4c11-8f1f-ce54f5fb2258",
   "metadata": {},
   "outputs": [
    {
     "data": {
      "text/plain": [
       "출산예정\n",
       "0    185015\n",
       "1     14568\n",
       "Name: count, dtype: int64"
      ]
     },
     "execution_count": 30,
     "metadata": {},
     "output_type": "execute_result"
    }
   ],
   "source": [
    "df['출산예정'] = (df['구매시월령'] < 0).astype(int)\n",
    "df['출산예정'].value_counts()"
   ]
  },
  {
   "cell_type": "code",
   "execution_count": 31,
   "id": "2aeee9f5-1114-4d8d-9e88-7a159fc3840d",
   "metadata": {},
   "outputs": [
    {
     "data": {
      "text/plain": [
       "199583"
      ]
     },
     "execution_count": 31,
     "metadata": {},
     "output_type": "execute_result"
    }
   ],
   "source": [
    "len(df['구매시월령'] >= 0)"
   ]
  },
  {
   "cell_type": "code",
   "execution_count": 32,
   "id": "f5c68710-10aa-4cf5-bcdb-6c713d5c9a09",
   "metadata": {},
   "outputs": [
    {
     "data": {
      "text/plain": [
       "count    153272.000000\n",
       "mean         16.540197\n",
       "std          39.906962\n",
       "min           0.000000\n",
       "25%           3.000000\n",
       "50%           7.000000\n",
       "75%          14.000000\n",
       "max        1439.000000\n",
       "Name: 구매시월령, dtype: float64"
      ]
     },
     "execution_count": 32,
     "metadata": {},
     "output_type": "execute_result"
    }
   ],
   "source": [
    "df[df['구매시월령'] >= 0]['구매시월령'].describe()"
   ]
  },
  {
   "cell_type": "code",
   "execution_count": 33,
   "id": "b1ec7129-193a-4c10-9d8a-b9bdabf9c7b4",
   "metadata": {},
   "outputs": [],
   "source": [
    "df2 = df[df['구매시월령'] >= 0]['구매시월령']"
   ]
  },
  {
   "cell_type": "code",
   "execution_count": 34,
   "id": "e4751b0a-76c7-4f16-8ec7-84e69ecb8232",
   "metadata": {
    "jupyter": {
     "source_hidden": true
    }
   },
   "outputs": [],
   "source": [
    "# Q1 = df2.quantile(0.25)\n",
    "# Q3 = df2.quantile(0.75)\n",
    "# IQR = Q3 - Q1\n",
    "\n",
    "# print(f\"Q1 (1사분위수): {Q1:.2f}\")\n",
    "# print(f\"Q3 (3사분위수): {Q3:.2f}\")\n",
    "# print(f\"IQR (Q3 - Q1): {IQR:.2f}\")\n",
    "# print(f\"이상치 하한선 (Q1 - 1.5*IQR): {Q1 - 1.5 * IQR:.2f}\")\n",
    "# print(f\"이상치 상한선 (Q3 + 1.5*IQR): {Q3 + 1.5 * IQR:.2f}\")\n",
    "\n",
    "# plt.figure(figsize=(8, 6)) # 그래프 크기 설정\n",
    "# sns.boxplot(y=df2) # 'y'축에 df2 Series 사용\n",
    "# plt.title('구매시월령 (0개월 이상) 분포 상자 그림', fontsize=16) # 그래프 제목\n",
    "# plt.ylabel('구매시월령 (개월)', fontsize=13) # y축 라벨\n",
    "# plt.grid(axis='y', linestyle='--', alpha=0.7) # y축 그리드 추가\n",
    "# plt.show()"
   ]
  },
  {
   "cell_type": "code",
   "execution_count": 35,
   "id": "fd6e4b8a-ecd0-470e-ba8b-a7d4d9a08c39",
   "metadata": {
    "jupyter": {
     "source_hidden": true
    }
   },
   "outputs": [],
   "source": [
    "# # 1. Q1, 중앙값 (Median), Q3, IQR 계산\n",
    "# Q1 = df2.quantile(0.25)\n",
    "# Median = df2.quantile(0.50)\n",
    "# Q3 = df2.quantile(0.75)\n",
    "# IQR = Q3 - Q1\n",
    "\n",
    "# print(f\"--- 'df2' (구매시월령 0개월 이상) IQR 및 분위수 정보 ---\")\n",
    "# print(f\"Q1 (1사분위수): {Q1:.2f}\")\n",
    "# print(f\"중앙값 (Median): {Median:.2f}\")\n",
    "# print(f\"Q3 (3사분위수): {Q3:.2f}\")\n",
    "# print(f\"IQR (Q3 - Q1): {IQR:.2f}\")\n",
    "# print(f\"이상치 하한선 (Q1 - 1.5*IQR): {Q1 - 1.5 * IQR:.2f}\")\n",
    "# print(f\"이상치 상한선 (Q3 + 1.5*IQR): {Q3 + 1.5 * IQR:.2f}\")\n",
    "\n",
    "\n",
    "# # 2. 히스토그램과 KDE 곡선 그리기\n",
    "# plt.figure(figsize=(12, 7)) # 그래프 크기 설정\n",
    "\n",
    "# # histplot으로 히스토그램과 KDE 곡선 그리기\n",
    "# sns.histplot(x=df2, bins=50, kde=True, color='skyblue', edgecolor='black', alpha=0.7)\n",
    "\n",
    "# # 3. Q1, 중앙값, Q3 위치에 수직선 그리기\n",
    "# plt.axvline(Q1, color='green', linestyle='--', linewidth=2, label=f'Q1: {Q1:.2f}')\n",
    "# plt.axvline(Median, color='red', linestyle='-', linewidth=2, label=f'중앙값: {Median:.2f}')\n",
    "# plt.axvline(Q3, color='green', linestyle='--', linewidth=2, label=f'Q3: {Q3:.2f}')\n",
    "\n",
    "# # 4. IQR 구간 (Q1에서 Q3까지)을 음영으로 표시\n",
    "# plt.axvspan(Q1, Q3, color='gray', alpha=0.2, label=f'IQR 영역 ({IQR:.2f})')\n",
    "\n",
    "# # 5. 그래프 제목 및 축 라벨 설정\n",
    "# plt.title('구매시월령 분포 (히스토그램 & KDE) 및 IQR 표시', fontsize=18)\n",
    "# plt.xlabel('구매시월령 (개월)', fontsize=14)\n",
    "# plt.ylabel('빈도수', fontsize=14)\n",
    "\n",
    "# # x축 라벨을 실제 숫자로 표시하도록 포맷터 설정\n",
    "# formatter = ticker.ScalarFormatter(useOffset=False) # 과학적 표기법 사용 안함\n",
    "# formatter.set_scientific(False) # 과학적 표기법 끄기\n",
    "# plt.gca().xaxis.set_major_formatter(formatter)\n",
    "# plt.ticklabel_format(style='plain', axis='x') # x축 과학적 표기법 방지\n",
    "\n",
    "# plt.legend(fontsize=12) # 범례 표시\n",
    "# plt.grid(axis='y', linestyle='--', alpha=0.7) # y축 그리드 추가\n",
    "# plt.show()"
   ]
  },
  {
   "cell_type": "code",
   "execution_count": 36,
   "id": "c0e5533d-1485-4b24-aa16-59161231aded",
   "metadata": {
    "jupyter": {
     "source_hidden": true
    }
   },
   "outputs": [],
   "source": [
    "# # 1. Q1, Q3, IQR 계산\n",
    "# # df2 (Series) 대신 원본 df['구매시월령']을 기준으로 하되, NaN과 음수는 제외하고 계산\n",
    "# Q1 = df[df['구매시월령'] >= 0]['구매시월령'].quantile(0.25)\n",
    "# Q3 = df[df['구매시월령'] >= 0]['구매시월령'].quantile(0.75)\n",
    "# IQR = Q3 - Q1\n",
    "\n",
    "# # 2. 이상치 경계선 계산\n",
    "# lower_bound = Q1 - 1.5 * IQR\n",
    "# upper_bound = Q3 + 1.5 * IQR\n",
    "\n",
    "# print(f\"기준: Q1={Q1:.2f}, Q3={Q3:.2f}, IQR={IQR:.2f}\")\n",
    "# print(f\"이상치 하한선: {lower_bound:.2f}, 이상치 상한선: {upper_bound:.2f}\")\n",
    "\n",
    "# # 3. 이상치 데이터프레임 필터링\n",
    "# # '구매시월령'이 0 이상이면서, 이상치 하한보다 작거나 이상치 상한보다 큰 행들을 선택합니다.\n",
    "# outliers_df = df[\n",
    "#     (df['구매시월령'] >= 0) & # 0개월 이상인 유효한 데이터 중에서\n",
    "#     ((df['구매시월령'] < lower_bound) | (df['구매시월령'] > upper_bound)) # 이상치 조건에 해당하는 경우\n",
    "# ].copy() # SettingWithCopyWarning 방지를 위해 .copy() 사용\n",
    "\n",
    "# print(f\"\\n{len(outliers_df)}개의 이상치 행 발견\")"
   ]
  },
  {
   "cell_type": "code",
   "execution_count": 37,
   "id": "9f84ca8e-0f0c-4db4-9395-7bfc555e1bad",
   "metadata": {},
   "outputs": [],
   "source": [
    "# 구매시월령 상한선 정해야해요\n",
    "# 240 -> 20살 ~ 898개\n",
    "import matplotlib.pyplot as plt\n",
    "import seaborn as sns\n",
    "import numpy as np"
   ]
  },
  {
   "cell_type": "markdown",
   "id": "cea4090b-6ba1-43b1-a438-1a8d3a1935cf",
   "metadata": {},
   "source": [
    "## 13 구매금액"
   ]
  },
  {
   "cell_type": "code",
   "execution_count": 38,
   "id": "1b266738-c626-407f-90c9-dced9f8a8118",
   "metadata": {},
   "outputs": [
    {
     "data": {
      "text/plain": [
       "count    199583.000000\n",
       "mean      30570.144401\n",
       "std       30555.274398\n",
       "min           0.000000\n",
       "25%        7400.000000\n",
       "50%       17500.000000\n",
       "75%       51200.000000\n",
       "max      598000.000000\n",
       "Name: 구매금액, dtype: float64"
      ]
     },
     "execution_count": 38,
     "metadata": {},
     "output_type": "execute_result"
    }
   ],
   "source": [
    "df['구매금액'].describe()"
   ]
  },
  {
   "cell_type": "code",
   "execution_count": 39,
   "id": "e46ef989-2479-4e4d-ba26-025e67667a7e",
   "metadata": {},
   "outputs": [],
   "source": [
    "df = df[df['결제금액']>=0] # 음수값 인스턴스 1행 제거"
   ]
  },
  {
   "cell_type": "markdown",
   "id": "87bf2459-8cfb-4f28-8224-59b7f17480c4",
   "metadata": {},
   "source": [
    "## 14 결제금액"
   ]
  },
  {
   "cell_type": "code",
   "execution_count": 40,
   "id": "d16a869e-6cd2-41a4-8a4d-f4cfe3820456",
   "metadata": {},
   "outputs": [
    {
     "data": {
      "text/plain": [
       "count    199582.000000\n",
       "mean      21712.598080\n",
       "std       21337.720041\n",
       "min           0.000000\n",
       "25%        6000.000000\n",
       "50%       12602.000000\n",
       "75%       34799.000000\n",
       "max      539000.000000\n",
       "Name: 결제금액, dtype: float64"
      ]
     },
     "execution_count": 40,
     "metadata": {},
     "output_type": "execute_result"
    }
   ],
   "source": [
    "df['결제금액'].describe()"
   ]
  },
  {
   "cell_type": "markdown",
   "id": "de9b50ca-76a9-42dc-853e-4a3cf137f907",
   "metadata": {},
   "source": [
    "## 15 물품대분류"
   ]
  },
  {
   "cell_type": "code",
   "execution_count": 41,
   "id": "c1c13557-a284-41f1-b86a-2b5e0f19bf96",
   "metadata": {},
   "outputs": [
    {
     "data": {
      "text/plain": [
       "array(['팬티', '체험팩', '더블하트', 'SKC', 'FMC', '물티슈', '기저귀', 'FC', '기타', 'SrC'],\n",
       "      dtype=object)"
      ]
     },
     "execution_count": 41,
     "metadata": {},
     "output_type": "execute_result"
    }
   ],
   "source": [
    "df['물품대분류'].unique()\n",
    "# df['물품대분류'].nunique() # 10개"
   ]
  },
  {
   "cell_type": "markdown",
   "id": "1979c2c9-c963-414c-98b3-3f0091a672e8",
   "metadata": {
    "jp-MarkdownHeadingCollapsed": true
   },
   "source": [
    "### 물티슈\n",
    "8846 -> 9525"
   ]
  },
  {
   "cell_type": "code",
   "execution_count": 42,
   "id": "610b5b3a-c644-4594-8968-d38f81fb9946",
   "metadata": {},
   "outputs": [
    {
     "data": {
      "text/plain": [
       "8446"
      ]
     },
     "execution_count": 42,
     "metadata": {},
     "output_type": "execute_result"
    }
   ],
   "source": [
    "df[df['물품대분류'] == '물티슈'].shape[0] # 8446"
   ]
  },
  {
   "cell_type": "code",
   "execution_count": 43,
   "id": "383d625c-9ac3-458d-8afd-63459cd3c691",
   "metadata": {},
   "outputs": [],
   "source": [
    "mask = df['상품명'].str.contains('물티슈', na=False)\n",
    "df.loc[mask, '물품대분류'] = '물티슈'"
   ]
  },
  {
   "cell_type": "code",
   "execution_count": 44,
   "id": "1f4d2da4-9e7d-47f7-a4a5-42e632dc6ec0",
   "metadata": {},
   "outputs": [
    {
     "data": {
      "text/plain": [
       "9525"
      ]
     },
     "execution_count": 44,
     "metadata": {},
     "output_type": "execute_result"
    }
   ],
   "source": [
    "df[df['물품대분류'] == '물티슈'].shape[0] # 9525"
   ]
  },
  {
   "cell_type": "markdown",
   "id": "a251356d-56d1-4356-a67c-d1d8d9402de8",
   "metadata": {
    "jp-MarkdownHeadingCollapsed": true
   },
   "source": [
    "### 기타\n",
    "7820 -> 45056"
   ]
  },
  {
   "cell_type": "code",
   "execution_count": 45,
   "id": "fea25c77-11b6-4fad-884f-5f74cd551179",
   "metadata": {},
   "outputs": [
    {
     "data": {
      "text/plain": [
       "7820"
      ]
     },
     "execution_count": 45,
     "metadata": {},
     "output_type": "execute_result"
    }
   ],
   "source": [
    "df[df['물품대분류'] == '기타'].shape[0] # 7820"
   ]
  },
  {
   "cell_type": "code",
   "execution_count": 46,
   "id": "2ae3e2db-01e2-49fa-8683-e64e1c360255",
   "metadata": {},
   "outputs": [],
   "source": [
    "mask = df['상품명'].str.contains('더블하트', na=False)\n",
    "df.loc[mask, '물품대분류'] = '기타'"
   ]
  },
  {
   "cell_type": "code",
   "execution_count": 47,
   "id": "f36829ab-f35d-45fa-94e8-d353c9182e89",
   "metadata": {},
   "outputs": [
    {
     "data": {
      "text/plain": [
       "45002"
      ]
     },
     "execution_count": 47,
     "metadata": {},
     "output_type": "execute_result"
    }
   ],
   "source": [
    "df[df['물품대분류'] == '기타'].shape[0] # 45002"
   ]
  },
  {
   "cell_type": "code",
   "execution_count": 48,
   "id": "1a3db198-1873-401f-93a5-cc721b79a2ab",
   "metadata": {},
   "outputs": [],
   "source": [
    "mask = df['상품명'].str.contains('핑크퐁', na=False)\n",
    "df.loc[mask, '물품대분류'] = '기타'"
   ]
  },
  {
   "cell_type": "code",
   "execution_count": 49,
   "id": "3de258e0-d168-4e04-aafe-66b701d6ccc8",
   "metadata": {},
   "outputs": [
    {
     "data": {
      "text/plain": [
       "45037"
      ]
     },
     "execution_count": 49,
     "metadata": {},
     "output_type": "execute_result"
    }
   ],
   "source": [
    "df[df['물품대분류'] == '기타'].shape[0] # 45037"
   ]
  },
  {
   "cell_type": "code",
   "execution_count": 50,
   "id": "660e5c5e-7a43-4b82-b2e1-7070f8c620fd",
   "metadata": {},
   "outputs": [],
   "source": [
    "mask = df['상품명'].str.contains('젖병 깔끔 세척 끝! 세트', na=False)\n",
    "df.loc[mask, '물품대분류'] = '기타'"
   ]
  },
  {
   "cell_type": "code",
   "execution_count": 51,
   "id": "5320819d-b70a-4983-8659-a10484b12818",
   "metadata": {},
   "outputs": [
    {
     "data": {
      "text/plain": [
       "45053"
      ]
     },
     "execution_count": 51,
     "metadata": {},
     "output_type": "execute_result"
    }
   ],
   "source": [
    "df[df['물품대분류'] == '기타'].shape[0] # 45053"
   ]
  },
  {
   "cell_type": "code",
   "execution_count": 52,
   "id": "9578d7a0-d3d8-4821-a23b-3f3036946045",
   "metadata": {},
   "outputs": [],
   "source": [
    "mask = df['상품명'].str.contains('이유식기 준비 끝! 세트', na=False)\n",
    "df.loc[mask, '물품대분류'] = '기타'"
   ]
  },
  {
   "cell_type": "code",
   "execution_count": 53,
   "id": "70c1d736-c787-465b-a80e-cb920f60e84a",
   "metadata": {},
   "outputs": [
    {
     "data": {
      "text/plain": [
       "45055"
      ]
     },
     "execution_count": 53,
     "metadata": {},
     "output_type": "execute_result"
    }
   ],
   "source": [
    "df[df['물품대분류'] == '기타'].shape[0] # 45055"
   ]
  },
  {
   "cell_type": "code",
   "execution_count": 54,
   "id": "0c7be5d3-28ae-41eb-b355-d87c5e73b41a",
   "metadata": {},
   "outputs": [],
   "source": [
    "mask = df['상품명'].str.contains('안심 위생 관리 세트', na=False)\n",
    "df.loc[mask, '물품대분류'] = '기타'"
   ]
  },
  {
   "cell_type": "code",
   "execution_count": 55,
   "id": "b4cf018c-aaaa-4299-9af4-ef20a6deb515",
   "metadata": {},
   "outputs": [
    {
     "data": {
      "text/plain": [
       "45056"
      ]
     },
     "execution_count": 55,
     "metadata": {},
     "output_type": "execute_result"
    }
   ],
   "source": [
    "df[df['물품대분류'] == '기타'].shape[0] # 45056"
   ]
  },
  {
   "cell_type": "markdown",
   "id": "70698718-81cb-414a-ae23-a7ffee15f3ae",
   "metadata": {
    "jp-MarkdownHeadingCollapsed": true
   },
   "source": [
    "### SKC\n",
    "8674 -> 8689"
   ]
  },
  {
   "cell_type": "code",
   "execution_count": 56,
   "id": "04e2d829-b613-4c5b-a52b-ae4738f140d6",
   "metadata": {},
   "outputs": [
    {
     "data": {
      "text/plain": [
       "8674"
      ]
     },
     "execution_count": 56,
     "metadata": {},
     "output_type": "execute_result"
    }
   ],
   "source": [
    "df[df['물품대분류'] == 'SKC'].shape[0] # 8674"
   ]
  },
  {
   "cell_type": "code",
   "execution_count": 57,
   "id": "f77b3731-9fad-4755-bc83-958915749cc6",
   "metadata": {},
   "outputs": [],
   "source": [
    "mask = df['상품명'].str.contains('레드투래드', na=False)\n",
    "df.loc[mask, '물품대분류'] = 'SKC'"
   ]
  },
  {
   "cell_type": "code",
   "execution_count": 58,
   "id": "144e50a5-fce3-496a-9b18-07eeb842d90b",
   "metadata": {},
   "outputs": [
    {
     "data": {
      "text/plain": [
       "8689"
      ]
     },
     "execution_count": 58,
     "metadata": {},
     "output_type": "execute_result"
    }
   ],
   "source": [
    "df[df['물품대분류'] == 'SKC'].shape[0] # 8689"
   ]
  },
  {
   "cell_type": "markdown",
   "id": "20b529a0-b2b3-4f6f-9609-9d2999a975c1",
   "metadata": {},
   "source": [
    "## 16 상품명"
   ]
  },
  {
   "cell_type": "code",
   "execution_count": 59,
   "id": "1e83caec-52f8-40b2-b659-6783b524a3fd",
   "metadata": {},
   "outputs": [
    {
     "data": {
      "text/plain": [
       "2975"
      ]
     },
     "execution_count": 59,
     "metadata": {},
     "output_type": "execute_result"
    }
   ],
   "source": [
    "df['상품명'].nunique() # 2975개"
   ]
  },
  {
   "cell_type": "markdown",
   "id": "a15e71b3-975a-4bbf-a856-789100e7390f",
   "metadata": {
    "jp-MarkdownHeadingCollapsed": true
   },
   "source": [
    "## check - 15. 더블하트"
   ]
  },
  {
   "cell_type": "code",
   "execution_count": 60,
   "id": "99ae6127-2b29-40c2-a4e3-499bd31a2f39",
   "metadata": {},
   "outputs": [
    {
     "data": {
      "text/plain": [
       "array(['팬티', '체험팩', '기타', 'SKC', 'FMC', '물티슈', '기저귀', 'FC', '더블하트', 'SrC'],\n",
       "      dtype=object)"
      ]
     },
     "execution_count": 60,
     "metadata": {},
     "output_type": "execute_result"
    }
   ],
   "source": [
    "df['물품대분류'].unique()"
   ]
  },
  {
   "cell_type": "code",
   "execution_count": 61,
   "id": "51878cfc-1b4d-4045-a3cb-7fa9240c4745",
   "metadata": {},
   "outputs": [
    {
     "data": {
      "text/plain": [
       "22"
      ]
     },
     "execution_count": 61,
     "metadata": {},
     "output_type": "execute_result"
    }
   ],
   "source": [
    "len(df[df['물품대분류']=='더블하트'])"
   ]
  },
  {
   "cell_type": "code",
   "execution_count": 62,
   "id": "76c457d1-24f6-4dcc-b58f-2f109a48e7b5",
   "metadata": {
    "scrolled": true
   },
   "outputs": [],
   "source": [
    "# df[df['물품대분류'] == '더블하트'].head(22)"
   ]
  },
  {
   "cell_type": "markdown",
   "id": "45691b1f-a764-4201-b8cb-c9aa76e1a9d1",
   "metadata": {},
   "source": [
    "# 3. 전처리, EDA"
   ]
  },
  {
   "cell_type": "markdown",
   "id": "58853f25-9b31-44ef-8daf-a8334c411bb8",
   "metadata": {},
   "source": [
    "## 1) (파생변수 생성) 배송소요일(배송시작일~배송완료일)\n",
    "평균 배송소요일: 2.7304115601607357"
   ]
  },
  {
   "cell_type": "code",
   "execution_count": 63,
   "id": "5121dcca-addf-4f7d-bf4c-b92b011d8823",
   "metadata": {},
   "outputs": [],
   "source": [
    "# df.info() # (199582, 18)"
   ]
  },
  {
   "cell_type": "code",
   "execution_count": 64,
   "id": "ba898d11-3285-46f5-91e4-c55ecaa4e61c",
   "metadata": {},
   "outputs": [
    {
     "data": {
      "text/plain": [
       "count    199582.000000\n",
       "mean          2.730412\n",
       "std           0.902544\n",
       "min           2.000000\n",
       "25%           2.000000\n",
       "50%           2.000000\n",
       "75%           3.000000\n",
       "max           6.000000\n",
       "Name: 배송소요일, dtype: float64"
      ]
     },
     "execution_count": 64,
     "metadata": {},
     "output_type": "execute_result"
    }
   ],
   "source": [
    "df['배송소요일'] = (df['배송완료일'] - df['배송시작일']).dt.days\n",
    "df['배송소요일'].describe()"
   ]
  },
  {
   "cell_type": "code",
   "execution_count": 65,
   "id": "365b3843-a046-47b2-ae95-ef7ad1b2eafb",
   "metadata": {},
   "outputs": [
    {
     "data": {
      "text/plain": [
       "2.7304115601607357"
      ]
     },
     "execution_count": 65,
     "metadata": {},
     "output_type": "execute_result"
    }
   ],
   "source": [
    "df['배송소요일'].mean()"
   ]
  },
  {
   "cell_type": "code",
   "execution_count": 66,
   "id": "01628f2f-b7fd-4444-ba67-72c2bb2308b9",
   "metadata": {},
   "outputs": [
    {
     "data": {
      "image/png": "[encoded data removed]",
      "text/plain": [
       "<Figure size 800x400 with 1 Axes>"
      ]
     },
     "metadata": {},
     "output_type": "display_data"
    }
   ],
   "source": [
    "if platform.system() == 'Windows':\n",
    "    plt.rcParams['font.family'] = 'Malgun Gothic'\n",
    "elif platform.system() == 'Darwin':\n",
    "    plt.rcParams['font.family'] = 'AppleGothic'\n",
    "else:\n",
    "    plt.rcParams['font.family'] = 'NanumBarunGothic'\n",
    "    plt.rcParams['axes.unicode_minus'] = False\n",
    "    \n",
    "plt.figure(figsize=(8, 4))\n",
    "df['배송소요일'].hist(bins=range(df['배송소요일'].min(), df['배송소요일'].max()+2), color='lightcoral', edgecolor='black')\n",
    "plt.title('배송소요일 분포')\n",
    "plt.xlabel('배송소요일')\n",
    "plt.ylabel('주문 건수')\n",
    "plt.grid(axis='y')\n",
    "plt.show()"
   ]
  },
  {
   "cell_type": "markdown",
   "id": "e7e40aff-25a6-478e-a608-9f4819f2e9aa",
   "metadata": {},
   "source": [
    "배송소요일(배송시작일~배송완료일)\n",
    "- 최소 2일 ~ 최장 6일\n",
    "- 평균 2.73일 내로 배송됨"
   ]
  },
  {
   "cell_type": "markdown",
   "id": "22dedc54-58e5-4040-9a80-8b1c50f929af",
   "metadata": {},
   "source": [
    "## 2) 주문처리소요일(구매일~배송시작일)\n",
    "파생변수 의미가 없어서 삭제함"
   ]
  },
  {
   "cell_type": "code",
   "execution_count": 67,
   "id": "d74810bb-5fc6-413c-b531-17e32bfcf950",
   "metadata": {},
   "outputs": [],
   "source": [
    "# df.info() # (199582, 19)"
   ]
  },
  {
   "cell_type": "code",
   "execution_count": 68,
   "id": "54d90b81-080b-41d1-802b-e9baea241e26",
   "metadata": {},
   "outputs": [
    {
     "data": {
      "text/plain": [
       "count    199582.0\n",
       "mean          1.0\n",
       "std           0.0\n",
       "min           1.0\n",
       "25%           1.0\n",
       "50%           1.0\n",
       "75%           1.0\n",
       "max           1.0\n",
       "Name: 주문처리소요일, dtype: float64"
      ]
     },
     "execution_count": 68,
     "metadata": {},
     "output_type": "execute_result"
    }
   ],
   "source": [
    "df['주문처리소요일'] = (df['배송시작일'] - df['구매일']).dt.days\n",
    "df['주문처리소요일'].describe()"
   ]
  },
  {
   "cell_type": "code",
   "execution_count": 69,
   "id": "bce84f73-9bb3-4c48-9ba1-76c91229ef10",
   "metadata": {},
   "outputs": [],
   "source": [
    "df = df.drop(['주문처리소요일'], axis=1)"
   ]
  },
  {
   "cell_type": "markdown",
   "id": "2391423d-db07-420f-8ede-7b09053e57eb",
   "metadata": {},
   "source": [
    "- 모두 1일내로 주문처리됨"
   ]
  },
  {
   "cell_type": "markdown",
   "id": "06cf7d34-51b8-4268-9cc7-c906e51d7a39",
   "metadata": {},
   "source": [
    "## 3) 총구매소요일(구매일~배송완료일)"
   ]
  },
  {
   "cell_type": "code",
   "execution_count": 70,
   "id": "493b1239-0e64-4bfa-88a2-8dc4dc4c985d",
   "metadata": {},
   "outputs": [
    {
     "data": {
      "text/plain": [
       "count    199582.000000\n",
       "mean          3.730412\n",
       "std           0.902544\n",
       "min           3.000000\n",
       "25%           3.000000\n",
       "50%           3.000000\n",
       "75%           4.000000\n",
       "max           7.000000\n",
       "Name: 총구매소요일, dtype: float64"
      ]
     },
     "execution_count": 70,
     "metadata": {},
     "output_type": "execute_result"
    }
   ],
   "source": [
    "df['총구매소요일'] = (df['배송완료일'] - df['구매일']).dt.days\n",
    "df['총구매소요일'].describe()"
   ]
  },
  {
   "cell_type": "code",
   "execution_count": 71,
   "id": "589f8487-cb3c-4511-b1c1-30244d4a4baf",
   "metadata": {},
   "outputs": [
    {
     "data": {
      "image/png": "[encoded data removed]",
      "text/plain": [
       "<Figure size 800x400 with 1 Axes>"
      ]
     },
     "metadata": {},
     "output_type": "display_data"
    }
   ],
   "source": [
    "plt.figure(figsize=(8, 4))\n",
    "df['총구매소요일'].hist(bins=range(df['총구매소요일'].min(), df['총구매소요일'].max()+2), color='lightcoral', edgecolor='black')\n",
    "plt.title('총구매소요일 분포')\n",
    "plt.xlabel('총구매소요일')\n",
    "plt.ylabel('주문 건수')\n",
    "plt.grid(axis='y')\n",
    "plt.show()"
   ]
  },
  {
   "cell_type": "markdown",
   "id": "24ef4876-e15d-40c5-9386-d99f1aa4ef14",
   "metadata": {},
   "source": [
    "## 지연주문탐지 개념정립"
   ]
  },
  {
   "cell_type": "markdown",
   "id": "65ced1c1-21ba-4a02-b5f2-e09e85fc309f",
   "metadata": {},
   "source": [
    "지연 주문 기준 설정\n",
    "- 평균 배송일: 2.73일\n",
    "- 표준편차: 0.9일\n",
    "- 최대배송일: 6일\n",
    "\n",
    "평균 배송일 + 표준편차 = 2.73+0.9 ≈ 3.63일"
   ]
  },
  {
   "cell_type": "markdown",
   "id": "e20fec38-3237-4f13-a736-77830df454dd",
   "metadata": {},
   "source": [
    "4일 이상 소요된 주문을 **지연주문**으로 정의"
   ]
  },
  {
   "cell_type": "markdown",
   "id": "d5b6ec86-191e-4f70-9911-7d3265e0b31d",
   "metadata": {},
   "source": [
    "df\n",
    "- 고객번호, 성별, 결혼유무, 거주지역, 연령, 결제등록카드, 유입경로, 자녀여부, 주문번호, 배송완료일, 배송시작일, 구매일, 구매시월령, 고객번호, 구매금액, 결제금액, 물품대분류, 상품명, 출산예정 + 파생변수"
   ]
  },
  {
   "cell_type": "markdown",
   "id": "9f09d2b5-18dc-4cbd-981c-73b34d71b432",
   "metadata": {},
   "source": [
    "## 3) 지연주문건수 확인 (배송소요일로)"
   ]
  },
  {
   "cell_type": "code",
   "execution_count": 72,
   "id": "cb485712-83ea-4d85-b67e-032323be93ad",
   "metadata": {},
   "outputs": [
    {
     "name": "stdout",
     "output_type": "stream",
     "text": [
      "<class 'pandas.core.frame.DataFrame'>\n",
      "Index: 199582 entries, 0 to 199582\n",
      "Data columns (total 20 columns):\n",
      " #   Column  Non-Null Count   Dtype         \n",
      "---  ------  --------------   -----         \n",
      " 0   주문번호    199582 non-null  object        \n",
      " 1   배송완료일   199582 non-null  datetime64[ns]\n",
      " 2   배송시작일   199582 non-null  datetime64[ns]\n",
      " 3   구매일     199582 non-null  datetime64[ns]\n",
      " 4   구매시월령   167839 non-null  float64       \n",
      " 5   고객번호    199582 non-null  float64       \n",
      " 6   구매금액    199582 non-null  int64         \n",
      " 7   결제금액    199582 non-null  int64         \n",
      " 8   물품대분류   199582 non-null  object        \n",
      " 9   상품명     199582 non-null  object        \n",
      " 10  성별      199582 non-null  object        \n",
      " 11  결혼유무    199582 non-null  object        \n",
      " 12  거주지역    199582 non-null  object        \n",
      " 13  연령      199582 non-null  int64         \n",
      " 14  결제등록카드  199582 non-null  object        \n",
      " 15  유입경로    199582 non-null  object        \n",
      " 16  자녀여부    199582 non-null  object        \n",
      " 17  출산예정    199582 non-null  int64         \n",
      " 18  배송소요일   199582 non-null  int64         \n",
      " 19  총구매소요일  199582 non-null  int64         \n",
      "dtypes: datetime64[ns](3), float64(2), int64(6), object(9)\n",
      "memory usage: 32.0+ MB\n"
     ]
    }
   ],
   "source": [
    "df.info() # (199582, 19)"
   ]
  },
  {
   "cell_type": "code",
   "execution_count": 73,
   "id": "2ce31cab-b2e0-49de-aaaa-8ed8ee09a1fa",
   "metadata": {},
   "outputs": [
    {
     "name": "stdout",
     "output_type": "stream",
     "text": [
      "지연 배송: 40312건\n"
     ]
    }
   ],
   "source": [
    "df['지연배송'] = (df['배송소요일'] >= 4).astype(int)\n",
    "delayed=df[df['지연배송']==1]\n",
    "print(f\"지연 배송: {len(delayed)}건\") # 40312건"
   ]
  },
  {
   "cell_type": "code",
   "execution_count": 74,
   "id": "634f1a9f-b919-4065-b921-9f3665de6d44",
   "metadata": {},
   "outputs": [
    {
     "name": "stdout",
     "output_type": "stream",
     "text": [
      "지연 배송건 비율: 20.2%\n"
     ]
    }
   ],
   "source": [
    "delayed_ratio = (delayed.shape[0] / df.shape[0]) * 100\n",
    "delayed_ratio = round(delayed_ratio, 1)\n",
    "print(f\"지연 배송건 비율: {delayed_ratio}%\")"
   ]
  },
  {
   "cell_type": "code",
   "execution_count": 75,
   "id": "9af878f3-49a8-4c14-968c-984e58201847",
   "metadata": {},
   "outputs": [
    {
     "data": {
      "image/png": "[encoded data removed]",
      "text/plain": [
       "<Figure size 500x500 with 1 Axes>"
      ]
     },
     "metadata": {},
     "output_type": "display_data"
    },
    {
     "name": "stdout",
     "output_type": "stream",
     "text": [
      "\n",
      "총 주문 건수: 199582건\n",
      "지연배송 건수: 40312건\n",
      "정상배송 건수: 159270건\n",
      "지연배송 비율: 20.2%\n",
      "\n"
     ]
    }
   ],
   "source": [
    "if platform.system() == 'Windows':\n",
    "    plt.rcParams['font.family'] = 'Malgun Gothic'\n",
    "elif platform.system() == 'Darwin':\n",
    "    plt.rcParams['font.family'] = 'AppleGothic'\n",
    "else:\n",
    "    plt.rcParams['font.family'] = 'NanumBarunGothic'\n",
    "    plt.rcParams['axes.unicode_minus'] = False\n",
    "    \n",
    "delayed_orders = delayed.shape[0] # 지연 배송건 갯수\n",
    "total_orders = df.shape[0] # 전체 주문 수\n",
    "ontime_orders = total_orders - delayed_orders # 정상 배송건 갯수\n",
    "\n",
    "labels = ['지연배송', '정상 배송']\n",
    "sizes = [delayed_orders, ontime_orders]\n",
    "colors = ['lightcoral', 'lightblue']\n",
    "explode = (0.1, 0)\n",
    "\n",
    "plt.figure(figsize=(5, 5))\n",
    "\n",
    "plt.pie(sizes,\n",
    "        explode=explode,\n",
    "        labels=labels,\n",
    "        colors=colors,\n",
    "        autopct='%1.1f%%',\n",
    "        shadow=True,\n",
    "        startangle=90,\n",
    "        textprops={'fontsize': 12, 'color': 'black', 'fontweight': 'bold'})\n",
    "\n",
    "plt.axis('equal')\n",
    "\n",
    "plt.title('\\n전체 주문 대비 지연/정상 배송건 비율', fontsize=18, fontweight='bold')\n",
    "plt.show()\n",
    "\n",
    "print(f\"\\n총 주문 건수: {total_orders}건\")\n",
    "print(f\"지연배송 건수: {delayed_orders}건\")\n",
    "print(f\"정상배송 건수: {ontime_orders}건\")\n",
    "print(f\"지연배송 비율: {(delayed_orders / total_orders) * 100:.1f}%\\n\")"
   ]
  },
  {
   "cell_type": "markdown",
   "id": "94b03cfc-33ef-4921-bf1c-c3195c3662cf",
   "metadata": {},
   "source": [
    "## 4) 지역별 배송 분석"
   ]
  },
  {
   "cell_type": "code",
   "execution_count": 76,
   "id": "9b46d3de-df31-4eb1-8348-4218bfcc277d",
   "metadata": {},
   "outputs": [],
   "source": [
    "# df.info() # (199582, 21)"
   ]
  },
  {
   "cell_type": "code",
   "execution_count": 77,
   "id": "4fcbddae-1939-44e5-a2be-c3d131a49a2b",
   "metadata": {},
   "outputs": [],
   "source": [
    "# 지역별 평균배송소요일(배송시작일~배송완료일)\n",
    "region_avg_delivery_days = df.groupby('거주지역')['배송소요일'].mean().reset_index()\n",
    "region_avg_delivery_days.columns = ['거주지역', '배송소요일']\n",
    "# region_avg_delivery_days"
   ]
  },
  {
   "cell_type": "code",
   "execution_count": 78,
   "id": "6ceafe04-c585-4fa3-9c57-18d7dcbe5201",
   "metadata": {},
   "outputs": [],
   "source": [
    "# 지역별 지연배송비율(기준: 배송소요일 4일 이상)\n",
    "region_delay_ratio = df.groupby('거주지역')['지연배송'].mean() * 100\n",
    "region_delay_ratio = region_delay_ratio.reset_index()\n",
    "region_delay_ratio.columns = ['거주지역', '지연배송비율(%)']\n",
    "# region_delay_ratio"
   ]
  },
  {
   "cell_type": "code",
   "execution_count": 79,
   "id": "3f36f7ac-b9b9-41e5-ba3d-087aeec64027",
   "metadata": {},
   "outputs": [],
   "source": [
    "# 지역별 평균총구매소요일(구매일~배송완료일)\n",
    "region_avg_total_delivery_days = df.groupby('거주지역')['총구매소요일'].mean().reset_index()\n",
    "region_avg_total_delivery_days.columns = ['거주지역', '총구매소요일']\n",
    "# region_avg_total_delivery_days"
   ]
  },
  {
   "cell_type": "code",
   "execution_count": 80,
   "id": "d209d17f-4b76-474c-8e4c-33833289ef6f",
   "metadata": {},
   "outputs": [
    {
     "data": {
      "text/html": [
       "<div>\n",
       "<style scoped>\n",
       "    .dataframe tbody tr th:only-of-type {\n",
       "        vertical-align: middle;\n",
       "    }\n",
       "\n",
       "    .dataframe tbody tr th {\n",
       "        vertical-align: top;\n",
       "    }\n",
       "\n",
       "    .dataframe thead th {\n",
       "        text-align: right;\n",
       "    }\n",
       "</style>\n",
       "<table border=\"1\" class=\"dataframe\">\n",
       "  <thead>\n",
       "    <tr style=\"text-align: right;\">\n",
       "      <th></th>\n",
       "      <th>거주지역</th>\n",
       "      <th>배송소요일</th>\n",
       "      <th>지연배송비율(%)</th>\n",
       "      <th>전국평균대비(%p)</th>\n",
       "    </tr>\n",
       "  </thead>\n",
       "  <tbody>\n",
       "    <tr>\n",
       "      <th>0</th>\n",
       "      <td>대구</td>\n",
       "      <td>2.741308</td>\n",
       "      <td>20.672714</td>\n",
       "      <td>0.472714</td>\n",
       "    </tr>\n",
       "    <tr>\n",
       "      <th>1</th>\n",
       "      <td>인천</td>\n",
       "      <td>2.740146</td>\n",
       "      <td>20.576264</td>\n",
       "      <td>0.376264</td>\n",
       "    </tr>\n",
       "    <tr>\n",
       "      <th>2</th>\n",
       "      <td>제주</td>\n",
       "      <td>2.734748</td>\n",
       "      <td>20.462296</td>\n",
       "      <td>0.262296</td>\n",
       "    </tr>\n",
       "    <tr>\n",
       "      <th>3</th>\n",
       "      <td>강원</td>\n",
       "      <td>2.734028</td>\n",
       "      <td>20.452516</td>\n",
       "      <td>0.252516</td>\n",
       "    </tr>\n",
       "    <tr>\n",
       "      <th>4</th>\n",
       "      <td>경기</td>\n",
       "      <td>2.733590</td>\n",
       "      <td>20.426045</td>\n",
       "      <td>0.226045</td>\n",
       "    </tr>\n",
       "    <tr>\n",
       "      <th>5</th>\n",
       "      <td>경상도</td>\n",
       "      <td>2.735933</td>\n",
       "      <td>20.292424</td>\n",
       "      <td>0.092424</td>\n",
       "    </tr>\n",
       "    <tr>\n",
       "      <th>6</th>\n",
       "      <td>서울</td>\n",
       "      <td>2.726737</td>\n",
       "      <td>20.269426</td>\n",
       "      <td>0.069426</td>\n",
       "    </tr>\n",
       "    <tr>\n",
       "      <th>7</th>\n",
       "      <td>광주</td>\n",
       "      <td>2.728292</td>\n",
       "      <td>20.228196</td>\n",
       "      <td>0.028196</td>\n",
       "    </tr>\n",
       "    <tr>\n",
       "      <th>8</th>\n",
       "      <td>충청도</td>\n",
       "      <td>2.727666</td>\n",
       "      <td>20.032203</td>\n",
       "      <td>-0.167797</td>\n",
       "    </tr>\n",
       "    <tr>\n",
       "      <th>9</th>\n",
       "      <td>전라도</td>\n",
       "      <td>2.723048</td>\n",
       "      <td>20.009294</td>\n",
       "      <td>-0.190706</td>\n",
       "    </tr>\n",
       "    <tr>\n",
       "      <th>10</th>\n",
       "      <td>대전</td>\n",
       "      <td>2.726568</td>\n",
       "      <td>19.603007</td>\n",
       "      <td>-0.596993</td>\n",
       "    </tr>\n",
       "    <tr>\n",
       "      <th>11</th>\n",
       "      <td>부산</td>\n",
       "      <td>2.725627</td>\n",
       "      <td>19.589925</td>\n",
       "      <td>-0.610075</td>\n",
       "    </tr>\n",
       "  </tbody>\n",
       "</table>\n",
       "</div>"
      ],
      "text/plain": [
       "   거주지역     배송소요일  지연배송비율(%)  전국평균대비(%p)\n",
       "0    대구  2.741308  20.672714    0.472714\n",
       "1    인천  2.740146  20.576264    0.376264\n",
       "2    제주  2.734748  20.462296    0.262296\n",
       "3    강원  2.734028  20.452516    0.252516\n",
       "4    경기  2.733590  20.426045    0.226045\n",
       "5   경상도  2.735933  20.292424    0.092424\n",
       "6    서울  2.726737  20.269426    0.069426\n",
       "7    광주  2.728292  20.228196    0.028196\n",
       "8   충청도  2.727666  20.032203   -0.167797\n",
       "9   전라도  2.723048  20.009294   -0.190706\n",
       "10   대전  2.726568  19.603007   -0.596993\n",
       "11   부산  2.725627  19.589925   -0.610075"
      ]
     },
     "execution_count": 80,
     "metadata": {},
     "output_type": "execute_result"
    }
   ],
   "source": [
    "# 두 지표를 하나의 데이터프레임으로 병합\n",
    "df_region = pd.merge(region_avg_delivery_days, region_delay_ratio, on='거주지역')\n",
    "df_region['전국평균대비(%p)'] = df_region['지연배송비율(%)'] - delayed_ratio\n",
    "\n",
    "# 지연배송비율 내림차순 정렬\n",
    "df_region.sort_values(by='지연배송비율(%)', ascending=False).reset_index(drop=True)"
   ]
  },
  {
   "cell_type": "markdown",
   "id": "e1d46ad1-5486-4fe1-b33e-1e2b7652f387",
   "metadata": {
    "jp-MarkdownHeadingCollapsed": true
   },
   "source": [
    "## 5) 공휴일 라이브러리 적용하여 분석"
   ]
  },
  {
   "cell_type": "markdown",
   "id": "61585899-562b-434d-924e-f98f5ba6c4e7",
   "metadata": {
    "jp-MarkdownHeadingCollapsed": true
   },
   "source": [
    "### 평일/휴일 처리"
   ]
  },
  {
   "cell_type": "code",
   "execution_count": 81,
   "id": "7a0d52e2-a9bf-4d50-a110-dffe2b86c6c5",
   "metadata": {},
   "outputs": [],
   "source": [
    "# df.info() # (199582, 21)"
   ]
  },
  {
   "cell_type": "code",
   "execution_count": 82,
   "id": "31267b1a-5a59-458f-9868-722a56461454",
   "metadata": {},
   "outputs": [],
   "source": [
    "from holidayskr import year_holidays"
   ]
  },
  {
   "cell_type": "code",
   "execution_count": 83,
   "id": "681f6824-8516-4833-8d51-124053816c34",
   "metadata": {},
   "outputs": [],
   "source": [
    "holidays = []\n",
    "\n",
    "for year in [2021,2022,2023]:\n",
    "    holidays += [d for d, _ in year_holidays(year)]"
   ]
  },
  {
   "cell_type": "code",
   "execution_count": 84,
   "id": "cb4beef8-b3a1-49e2-8da6-82ea9a5de4b6",
   "metadata": {},
   "outputs": [],
   "source": [
    "# 공휴일\n",
    "df['공휴일'] = df['구매일'].dt.date.isin(holidays).astype(int) # (공휴일:1)"
   ]
  },
  {
   "cell_type": "code",
   "execution_count": 85,
   "id": "b6ee9c08-b9c2-486b-9828-ea49f9edba38",
   "metadata": {},
   "outputs": [],
   "source": [
    "# 요일 번호 추출 (0~6)\n",
    "df['요일번호'] = df['구매일'].dt.weekday # (일요일:6)"
   ]
  },
  {
   "cell_type": "code",
   "execution_count": 86,
   "id": "d32e3c91-4a35-45db-8126-2e2f09522a80",
   "metadata": {},
   "outputs": [],
   "source": [
    "# 휴일 컬럼\n",
    "df['휴일'] = (df['공휴일'] | (df['요일번호'] == 6)).astype(int) # (휴일:1 / 평일:0)"
   ]
  },
  {
   "cell_type": "code",
   "execution_count": 87,
   "id": "ffb08a21-3d23-4ada-a01d-b8169e40b527",
   "metadata": {},
   "outputs": [
    {
     "data": {
      "text/html": [
       "<div>\n",
       "<style scoped>\n",
       "    .dataframe tbody tr th:only-of-type {\n",
       "        vertical-align: middle;\n",
       "    }\n",
       "\n",
       "    .dataframe tbody tr th {\n",
       "        vertical-align: top;\n",
       "    }\n",
       "\n",
       "    .dataframe thead th {\n",
       "        text-align: right;\n",
       "    }\n",
       "</style>\n",
       "<table border=\"1\" class=\"dataframe\">\n",
       "  <thead>\n",
       "    <tr style=\"text-align: right;\">\n",
       "      <th></th>\n",
       "      <th>주문번호</th>\n",
       "      <th>배송완료일</th>\n",
       "      <th>배송시작일</th>\n",
       "      <th>구매일</th>\n",
       "      <th>구매시월령</th>\n",
       "      <th>고객번호</th>\n",
       "      <th>구매금액</th>\n",
       "      <th>결제금액</th>\n",
       "      <th>물품대분류</th>\n",
       "      <th>상품명</th>\n",
       "      <th>...</th>\n",
       "      <th>결제등록카드</th>\n",
       "      <th>유입경로</th>\n",
       "      <th>자녀여부</th>\n",
       "      <th>출산예정</th>\n",
       "      <th>배송소요일</th>\n",
       "      <th>총구매소요일</th>\n",
       "      <th>지연배송</th>\n",
       "      <th>공휴일</th>\n",
       "      <th>요일번호</th>\n",
       "      <th>휴일</th>\n",
       "    </tr>\n",
       "  </thead>\n",
       "  <tbody>\n",
       "    <tr>\n",
       "      <th>0</th>\n",
       "      <td>901011864201303</td>\n",
       "      <td>2022-01-06</td>\n",
       "      <td>2022-01-02</td>\n",
       "      <td>2022-01-01</td>\n",
       "      <td>35.0</td>\n",
       "      <td>2.019010e+14</td>\n",
       "      <td>74560</td>\n",
       "      <td>43825</td>\n",
       "      <td>팬티</td>\n",
       "      <td>하기스 매직핏팬티 5단계 남아 124매(팬티형)</td>\n",
       "      <td>...</td>\n",
       "      <td>롯데카드</td>\n",
       "      <td>인스타그램</td>\n",
       "      <td>Yes</td>\n",
       "      <td>0</td>\n",
       "      <td>4</td>\n",
       "      <td>5</td>\n",
       "      <td>1</td>\n",
       "      <td>1</td>\n",
       "      <td>5</td>\n",
       "      <td>1</td>\n",
       "    </tr>\n",
       "    <tr>\n",
       "      <th>1</th>\n",
       "      <td>901011864430366</td>\n",
       "      <td>2022-01-04</td>\n",
       "      <td>2022-01-02</td>\n",
       "      <td>2022-01-01</td>\n",
       "      <td>9.0</td>\n",
       "      <td>2.019010e+14</td>\n",
       "      <td>74560</td>\n",
       "      <td>43825</td>\n",
       "      <td>팬티</td>\n",
       "      <td>하기스 매직핏팬티 3단계 남아 184매(팬티형)</td>\n",
       "      <td>...</td>\n",
       "      <td>광주은행</td>\n",
       "      <td>인스타그램</td>\n",
       "      <td>Yes</td>\n",
       "      <td>0</td>\n",
       "      <td>2</td>\n",
       "      <td>3</td>\n",
       "      <td>0</td>\n",
       "      <td>1</td>\n",
       "      <td>5</td>\n",
       "      <td>1</td>\n",
       "    </tr>\n",
       "    <tr>\n",
       "      <th>2</th>\n",
       "      <td>81231186197954</td>\n",
       "      <td>2022-01-06</td>\n",
       "      <td>2022-01-02</td>\n",
       "      <td>2022-01-01</td>\n",
       "      <td>22.0</td>\n",
       "      <td>2.018123e+14</td>\n",
       "      <td>53920</td>\n",
       "      <td>36769</td>\n",
       "      <td>팬티</td>\n",
       "      <td>하기스 네이처메이드 팬티 5단계 여아 80매(팬티형)</td>\n",
       "      <td>...</td>\n",
       "      <td>신협중앙회</td>\n",
       "      <td>인스타그램</td>\n",
       "      <td>No</td>\n",
       "      <td>0</td>\n",
       "      <td>4</td>\n",
       "      <td>5</td>\n",
       "      <td>1</td>\n",
       "      <td>1</td>\n",
       "      <td>5</td>\n",
       "      <td>1</td>\n",
       "    </tr>\n",
       "    <tr>\n",
       "      <th>3</th>\n",
       "      <td>90403223538555</td>\n",
       "      <td>2022-04-07</td>\n",
       "      <td>2022-04-04</td>\n",
       "      <td>2022-04-03</td>\n",
       "      <td>25.0</td>\n",
       "      <td>2.018123e+14</td>\n",
       "      <td>74560</td>\n",
       "      <td>45618</td>\n",
       "      <td>팬티</td>\n",
       "      <td>하기스 매직핏팬티 5단계 여아 124매(팬티형)</td>\n",
       "      <td>...</td>\n",
       "      <td>신협중앙회</td>\n",
       "      <td>인스타그램</td>\n",
       "      <td>No</td>\n",
       "      <td>0</td>\n",
       "      <td>3</td>\n",
       "      <td>4</td>\n",
       "      <td>0</td>\n",
       "      <td>0</td>\n",
       "      <td>6</td>\n",
       "      <td>1</td>\n",
       "    </tr>\n",
       "    <tr>\n",
       "      <th>4</th>\n",
       "      <td>90501232847856</td>\n",
       "      <td>2022-05-04</td>\n",
       "      <td>2022-05-02</td>\n",
       "      <td>2022-05-01</td>\n",
       "      <td>26.0</td>\n",
       "      <td>2.018123e+14</td>\n",
       "      <td>67700</td>\n",
       "      <td>45974</td>\n",
       "      <td>팬티</td>\n",
       "      <td>하기스 매직팬티 컴포트핏 5단계 여아 120매(팬티형)</td>\n",
       "      <td>...</td>\n",
       "      <td>신협중앙회</td>\n",
       "      <td>인스타그램</td>\n",
       "      <td>No</td>\n",
       "      <td>0</td>\n",
       "      <td>2</td>\n",
       "      <td>3</td>\n",
       "      <td>0</td>\n",
       "      <td>1</td>\n",
       "      <td>6</td>\n",
       "      <td>1</td>\n",
       "    </tr>\n",
       "  </tbody>\n",
       "</table>\n",
       "<p>5 rows × 24 columns</p>\n",
       "</div>"
      ],
      "text/plain": [
       "              주문번호      배송완료일      배송시작일        구매일  구매시월령          고객번호  \\\n",
       "0  901011864201303 2022-01-06 2022-01-02 2022-01-01   35.0  2.019010e+14   \n",
       "1  901011864430366 2022-01-04 2022-01-02 2022-01-01    9.0  2.019010e+14   \n",
       "2   81231186197954 2022-01-06 2022-01-02 2022-01-01   22.0  2.018123e+14   \n",
       "3   90403223538555 2022-04-07 2022-04-04 2022-04-03   25.0  2.018123e+14   \n",
       "4   90501232847856 2022-05-04 2022-05-02 2022-05-01   26.0  2.018123e+14   \n",
       "\n",
       "    구매금액   결제금액 물품대분류                             상품명  ... 결제등록카드   유입경로 자녀여부  \\\n",
       "0  74560  43825    팬티      하기스 매직핏팬티 5단계 남아 124매(팬티형)  ...   롯데카드  인스타그램  Yes   \n",
       "1  74560  43825    팬티      하기스 매직핏팬티 3단계 남아 184매(팬티형)  ...   광주은행  인스타그램  Yes   \n",
       "2  53920  36769    팬티   하기스 네이처메이드 팬티 5단계 여아 80매(팬티형)  ...  신협중앙회  인스타그램   No   \n",
       "3  74560  45618    팬티      하기스 매직핏팬티 5단계 여아 124매(팬티형)  ...  신협중앙회  인스타그램   No   \n",
       "4  67700  45974    팬티  하기스 매직팬티 컴포트핏 5단계 여아 120매(팬티형)  ...  신협중앙회  인스타그램   No   \n",
       "\n",
       "   출산예정 배송소요일 총구매소요일 지연배송  공휴일  요일번호  휴일  \n",
       "0     0     4      5    1    1     5   1  \n",
       "1     0     2      3    0    1     5   1  \n",
       "2     0     4      5    1    1     5   1  \n",
       "3     0     3      4    0    0     6   1  \n",
       "4     0     2      3    0    1     6   1  \n",
       "\n",
       "[5 rows x 24 columns]"
      ]
     },
     "execution_count": 87,
     "metadata": {},
     "output_type": "execute_result"
    }
   ],
   "source": [
    "df.head()"
   ]
  },
  {
   "cell_type": "markdown",
   "id": "075380f2-d91a-4a81-a41b-34090edac5f1",
   "metadata": {},
   "source": [
    "### 분석"
   ]
  },
  {
   "cell_type": "code",
   "execution_count": 88,
   "id": "a0f2c721-d447-4eba-94a2-1cc6c3dabccc",
   "metadata": {},
   "outputs": [],
   "source": [
    "# df.info() # (199582, 24)"
   ]
  },
  {
   "cell_type": "code",
   "execution_count": 89,
   "id": "f05ad192-ca70-4cb6-91f2-712c68b3cf16",
   "metadata": {},
   "outputs": [
    {
     "name": "stdout",
     "output_type": "stream",
     "text": [
      "<class 'pandas.core.frame.DataFrame'>\n",
      "Index: 199582 entries, 0 to 199582\n",
      "Data columns (total 22 columns):\n",
      " #   Column  Non-Null Count   Dtype         \n",
      "---  ------  --------------   -----         \n",
      " 0   주문번호    199582 non-null  object        \n",
      " 1   배송완료일   199582 non-null  datetime64[ns]\n",
      " 2   배송시작일   199582 non-null  datetime64[ns]\n",
      " 3   구매일     199582 non-null  datetime64[ns]\n",
      " 4   구매시월령   167839 non-null  float64       \n",
      " 5   고객번호    199582 non-null  float64       \n",
      " 6   구매금액    199582 non-null  int64         \n",
      " 7   결제금액    199582 non-null  int64         \n",
      " 8   물품대분류   199582 non-null  object        \n",
      " 9   상품명     199582 non-null  object        \n",
      " 10  성별      199582 non-null  object        \n",
      " 11  결혼유무    199582 non-null  object        \n",
      " 12  거주지역    199582 non-null  object        \n",
      " 13  연령      199582 non-null  int64         \n",
      " 14  결제등록카드  199582 non-null  object        \n",
      " 15  유입경로    199582 non-null  object        \n",
      " 16  자녀여부    199582 non-null  object        \n",
      " 17  출산예정    199582 non-null  int64         \n",
      " 18  배송소요일   199582 non-null  int64         \n",
      " 19  총구매소요일  199582 non-null  int64         \n",
      " 20  지연배송    199582 non-null  int64         \n",
      " 21  휴일      199582 non-null  int64         \n",
      "dtypes: datetime64[ns](3), float64(2), int64(8), object(9)\n",
      "memory usage: 35.0+ MB\n"
     ]
    }
   ],
   "source": [
    "df = df.drop(columns=['공휴일', '요일번호']) # 제거\n",
    "df.info() # (199582, 22)"
   ]
  },
  {
   "cell_type": "code",
   "execution_count": 90,
   "id": "eba01528-6cf4-403c-b5c2-7da5796430ce",
   "metadata": {},
   "outputs": [
    {
     "data": {
      "text/html": [
       "<div>\n",
       "<style scoped>\n",
       "    .dataframe tbody tr th:only-of-type {\n",
       "        vertical-align: middle;\n",
       "    }\n",
       "\n",
       "    .dataframe tbody tr th {\n",
       "        vertical-align: top;\n",
       "    }\n",
       "\n",
       "    .dataframe thead th {\n",
       "        text-align: right;\n",
       "    }\n",
       "</style>\n",
       "<table border=\"1\" class=\"dataframe\">\n",
       "  <thead>\n",
       "    <tr style=\"text-align: right;\">\n",
       "      <th></th>\n",
       "      <th>배송소요일</th>\n",
       "      <th>총구매소요일</th>\n",
       "      <th>지연배송비율</th>\n",
       "    </tr>\n",
       "  </thead>\n",
       "  <tbody>\n",
       "    <tr>\n",
       "      <th>0</th>\n",
       "      <td>2.730412</td>\n",
       "      <td>3.730412</td>\n",
       "      <td>20.198214</td>\n",
       "    </tr>\n",
       "  </tbody>\n",
       "</table>\n",
       "</div>"
      ],
      "text/plain": [
       "      배송소요일    총구매소요일     지연배송비율\n",
       "0  2.730412  3.730412  20.198214"
      ]
     },
     "execution_count": 90,
     "metadata": {},
     "output_type": "execute_result"
    }
   ],
   "source": [
    "# 원본 데이터\n",
    "origin_stats = {\n",
    "    '배송소요일': df['배송소요일'].mean(),\n",
    "    '총구매소요일': df['총구매소요일'].mean(),\n",
    "    '지연배송비율': df['지연배송'].mean() * 100\n",
    "}\n",
    "origin_df = pd.DataFrame([origin_stats])\n",
    "origin_df"
   ]
  },
  {
   "cell_type": "code",
   "execution_count": 91,
   "id": "974c10fb-e80c-471f-b1e4-f2696d5c14e4",
   "metadata": {},
   "outputs": [
    {
     "data": {
      "text/html": [
       "<div>\n",
       "<style scoped>\n",
       "    .dataframe tbody tr th:only-of-type {\n",
       "        vertical-align: middle;\n",
       "    }\n",
       "\n",
       "    .dataframe tbody tr th {\n",
       "        vertical-align: top;\n",
       "    }\n",
       "\n",
       "    .dataframe thead th {\n",
       "        text-align: right;\n",
       "    }\n",
       "</style>\n",
       "<table border=\"1\" class=\"dataframe\">\n",
       "  <thead>\n",
       "    <tr style=\"text-align: right;\">\n",
       "      <th></th>\n",
       "      <th>휴일</th>\n",
       "      <th>배송소요일</th>\n",
       "      <th>총구매소요일</th>\n",
       "      <th>지연배송비율</th>\n",
       "    </tr>\n",
       "  </thead>\n",
       "  <tbody>\n",
       "    <tr>\n",
       "      <th>0</th>\n",
       "      <td>0</td>\n",
       "      <td>2.731309</td>\n",
       "      <td>3.731309</td>\n",
       "      <td>20.199306</td>\n",
       "    </tr>\n",
       "    <tr>\n",
       "      <th>1</th>\n",
       "      <td>1</td>\n",
       "      <td>2.726648</td>\n",
       "      <td>3.726648</td>\n",
       "      <td>20.193634</td>\n",
       "    </tr>\n",
       "  </tbody>\n",
       "</table>\n",
       "</div>"
      ],
      "text/plain": [
       "   휴일     배송소요일    총구매소요일     지연배송비율\n",
       "0   0  2.731309  3.731309  20.199306\n",
       "1   1  2.726648  3.726648  20.193634"
      ]
     },
     "execution_count": 91,
     "metadata": {},
     "output_type": "execute_result"
    }
   ],
   "source": [
    "# 2) 평일/휴일 분리해서 확인\n",
    "holiday_df = df.groupby('휴일').agg(\n",
    "    배송소요일 = ('배송소요일', 'mean'),\n",
    "    총구매소요일 = ('총구매소요일', 'mean'),\n",
    "    지연배송비율 = ('지연배송', 'mean')\n",
    ").reset_index()\n",
    "\n",
    "holiday_df['지연배송비율'] = holiday_df['지연배송비율'] * 100\n",
    "holiday_df"
   ]
  },
  {
   "cell_type": "code",
   "execution_count": 92,
   "id": "7cc7b259-ec3c-438e-a039-35d074a8d6f4",
   "metadata": {
    "jupyter": {
     "source_hidden": true
    },
    "scrolled": true
   },
   "outputs": [
    {
     "name": "stderr",
     "output_type": "stream",
     "text": [
      "/var/folders/pq/rr2mljs579zdggc598s4fmx00000gn/T/ipykernel_66211/588863378.py:23: FutureWarning: \n",
      "\n",
      "Passing `palette` without assigning `hue` is deprecated and will be removed in v0.14.0. Assign the `x` variable to `hue` and set `legend=False` for the same effect.\n",
      "\n",
      "  sns.violinplot(data=df, x='휴일', y='배송소요일', palette='Blues', inner='box')\n",
      "/var/folders/pq/rr2mljs579zdggc598s4fmx00000gn/T/ipykernel_66211/588863378.py:32: FutureWarning: \n",
      "\n",
      "Passing `palette` without assigning `hue` is deprecated and will be removed in v0.14.0. Assign the `x` variable to `hue` and set `legend=False` for the same effect.\n",
      "\n",
      "  sns.violinplot(data=df, x='휴일', y='총구매소요일', palette='Greens', inner='box')\n",
      "/var/folders/pq/rr2mljs579zdggc598s4fmx00000gn/T/ipykernel_66211/588863378.py:41: FutureWarning: \n",
      "\n",
      "Passing `palette` without assigning `hue` is deprecated and will be removed in v0.14.0. Assign the `x` variable to `hue` and set `legend=False` for the same effect.\n",
      "\n",
      "  sns.violinplot(data=df, x='휴일', y='지연배송', palette='Reds', inner='box')\n",
      "/var/folders/pq/rr2mljs579zdggc598s4fmx00000gn/T/ipykernel_66211/588863378.py:48: UserWarning: Glyph 55092 (\\N{HANGUL SYLLABLE HYU}) missing from current font.\n",
      "  plt.tight_layout()\n",
      "/var/folders/pq/rr2mljs579zdggc598s4fmx00000gn/T/ipykernel_66211/588863378.py:48: UserWarning: Glyph 51068 (\\N{HANGUL SYLLABLE IL}) missing from current font.\n",
      "  plt.tight_layout()\n",
      "/var/folders/pq/rr2mljs579zdggc598s4fmx00000gn/T/ipykernel_66211/588863378.py:48: UserWarning: Glyph 54217 (\\N{HANGUL SYLLABLE PYEONG}) missing from current font.\n",
      "  plt.tight_layout()\n",
      "/var/folders/pq/rr2mljs579zdggc598s4fmx00000gn/T/ipykernel_66211/588863378.py:48: UserWarning: Glyph 49688 (\\N{HANGUL SYLLABLE SU}) missing from current font.\n",
      "  plt.tight_layout()\n",
      "/var/folders/pq/rr2mljs579zdggc598s4fmx00000gn/T/ipykernel_66211/588863378.py:48: UserWarning: Glyph 48176 (\\N{HANGUL SYLLABLE BAE}) missing from current font.\n",
      "  plt.tight_layout()\n",
      "/var/folders/pq/rr2mljs579zdggc598s4fmx00000gn/T/ipykernel_66211/588863378.py:48: UserWarning: Glyph 49569 (\\N{HANGUL SYLLABLE SONG}) missing from current font.\n",
      "  plt.tight_layout()\n",
      "/var/folders/pq/rr2mljs579zdggc598s4fmx00000gn/T/ipykernel_66211/588863378.py:48: UserWarning: Glyph 49548 (\\N{HANGUL SYLLABLE SO}) missing from current font.\n",
      "  plt.tight_layout()\n",
      "/var/folders/pq/rr2mljs579zdggc598s4fmx00000gn/T/ipykernel_66211/588863378.py:48: UserWarning: Glyph 50836 (\\N{HANGUL SYLLABLE YO}) missing from current font.\n",
      "  plt.tight_layout()\n",
      "/var/folders/pq/rr2mljs579zdggc598s4fmx00000gn/T/ipykernel_66211/588863378.py:48: UserWarning: Glyph 48516 (\\N{HANGUL SYLLABLE BUN}) missing from current font.\n",
      "  plt.tight_layout()\n",
      "/var/folders/pq/rr2mljs579zdggc598s4fmx00000gn/T/ipykernel_66211/588863378.py:48: UserWarning: Glyph 54252 (\\N{HANGUL SYLLABLE PO}) missing from current font.\n",
      "  plt.tight_layout()\n",
      "/var/folders/pq/rr2mljs579zdggc598s4fmx00000gn/T/ipykernel_66211/588863378.py:48: UserWarning: Glyph 52509 (\\N{HANGUL SYLLABLE CONG}) missing from current font.\n",
      "  plt.tight_layout()\n",
      "/var/folders/pq/rr2mljs579zdggc598s4fmx00000gn/T/ipykernel_66211/588863378.py:48: UserWarning: Glyph 44396 (\\N{HANGUL SYLLABLE GU}) missing from current font.\n",
      "  plt.tight_layout()\n",
      "/var/folders/pq/rr2mljs579zdggc598s4fmx00000gn/T/ipykernel_66211/588863378.py:48: UserWarning: Glyph 47588 (\\N{HANGUL SYLLABLE MAE}) missing from current font.\n",
      "  plt.tight_layout()\n",
      "/var/folders/pq/rr2mljs579zdggc598s4fmx00000gn/T/ipykernel_66211/588863378.py:48: UserWarning: Glyph 48708 (\\N{HANGUL SYLLABLE BI}) missing from current font.\n",
      "  plt.tight_layout()\n",
      "/var/folders/pq/rr2mljs579zdggc598s4fmx00000gn/T/ipykernel_66211/588863378.py:48: UserWarning: Glyph 50984 (\\N{HANGUL SYLLABLE YUL}) missing from current font.\n",
      "  plt.tight_layout()\n",
      "/var/folders/pq/rr2mljs579zdggc598s4fmx00000gn/T/ipykernel_66211/588863378.py:48: UserWarning: Glyph 51221 (\\N{HANGUL SYLLABLE JEONG}) missing from current font.\n",
      "  plt.tight_layout()\n",
      "/var/folders/pq/rr2mljs579zdggc598s4fmx00000gn/T/ipykernel_66211/588863378.py:48: UserWarning: Glyph 49345 (\\N{HANGUL SYLLABLE SANG}) missing from current font.\n",
      "  plt.tight_layout()\n",
      "/var/folders/pq/rr2mljs579zdggc598s4fmx00000gn/T/ipykernel_66211/588863378.py:48: UserWarning: Glyph 51648 (\\N{HANGUL SYLLABLE JI}) missing from current font.\n",
      "  plt.tight_layout()\n",
      "/var/folders/pq/rr2mljs579zdggc598s4fmx00000gn/T/ipykernel_66211/588863378.py:48: UserWarning: Glyph 50672 (\\N{HANGUL SYLLABLE YEON}) missing from current font.\n",
      "  plt.tight_layout()\n",
      "/Users/zoangrak/pycaret310/lib/python3.10/site-packages/IPython/core/pylabtools.py:170: UserWarning: Glyph 55092 (\\N{HANGUL SYLLABLE HYU}) missing from current font.\n",
      "  fig.canvas.print_figure(bytes_io, **kw)\n",
      "/Users/zoangrak/pycaret310/lib/python3.10/site-packages/IPython/core/pylabtools.py:170: UserWarning: Glyph 51068 (\\N{HANGUL SYLLABLE IL}) missing from current font.\n",
      "  fig.canvas.print_figure(bytes_io, **kw)\n",
      "/Users/zoangrak/pycaret310/lib/python3.10/site-packages/IPython/core/pylabtools.py:170: UserWarning: Glyph 54217 (\\N{HANGUL SYLLABLE PYEONG}) missing from current font.\n",
      "  fig.canvas.print_figure(bytes_io, **kw)\n",
      "/Users/zoangrak/pycaret310/lib/python3.10/site-packages/IPython/core/pylabtools.py:170: UserWarning: Glyph 49688 (\\N{HANGUL SYLLABLE SU}) missing from current font.\n",
      "  fig.canvas.print_figure(bytes_io, **kw)\n",
      "/Users/zoangrak/pycaret310/lib/python3.10/site-packages/IPython/core/pylabtools.py:170: UserWarning: Glyph 48176 (\\N{HANGUL SYLLABLE BAE}) missing from current font.\n",
      "  fig.canvas.print_figure(bytes_io, **kw)\n",
      "/Users/zoangrak/pycaret310/lib/python3.10/site-packages/IPython/core/pylabtools.py:170: UserWarning: Glyph 49569 (\\N{HANGUL SYLLABLE SONG}) missing from current font.\n",
      "  fig.canvas.print_figure(bytes_io, **kw)\n",
      "/Users/zoangrak/pycaret310/lib/python3.10/site-packages/IPython/core/pylabtools.py:170: UserWarning: Glyph 49548 (\\N{HANGUL SYLLABLE SO}) missing from current font.\n",
      "  fig.canvas.print_figure(bytes_io, **kw)\n",
      "/Users/zoangrak/pycaret310/lib/python3.10/site-packages/IPython/core/pylabtools.py:170: UserWarning: Glyph 50836 (\\N{HANGUL SYLLABLE YO}) missing from current font.\n",
      "  fig.canvas.print_figure(bytes_io, **kw)\n",
      "/Users/zoangrak/pycaret310/lib/python3.10/site-packages/IPython/core/pylabtools.py:170: UserWarning: Glyph 48516 (\\N{HANGUL SYLLABLE BUN}) missing from current font.\n",
      "  fig.canvas.print_figure(bytes_io, **kw)\n",
      "/Users/zoangrak/pycaret310/lib/python3.10/site-packages/IPython/core/pylabtools.py:170: UserWarning: Glyph 54252 (\\N{HANGUL SYLLABLE PO}) missing from current font.\n",
      "  fig.canvas.print_figure(bytes_io, **kw)\n",
      "/Users/zoangrak/pycaret310/lib/python3.10/site-packages/IPython/core/pylabtools.py:170: UserWarning: Glyph 52509 (\\N{HANGUL SYLLABLE CONG}) missing from current font.\n",
      "  fig.canvas.print_figure(bytes_io, **kw)\n",
      "/Users/zoangrak/pycaret310/lib/python3.10/site-packages/IPython/core/pylabtools.py:170: UserWarning: Glyph 44396 (\\N{HANGUL SYLLABLE GU}) missing from current font.\n",
      "  fig.canvas.print_figure(bytes_io, **kw)\n",
      "/Users/zoangrak/pycaret310/lib/python3.10/site-packages/IPython/core/pylabtools.py:170: UserWarning: Glyph 47588 (\\N{HANGUL SYLLABLE MAE}) missing from current font.\n",
      "  fig.canvas.print_figure(bytes_io, **kw)\n",
      "/Users/zoangrak/pycaret310/lib/python3.10/site-packages/IPython/core/pylabtools.py:170: UserWarning: Glyph 48708 (\\N{HANGUL SYLLABLE BI}) missing from current font.\n",
      "  fig.canvas.print_figure(bytes_io, **kw)\n",
      "/Users/zoangrak/pycaret310/lib/python3.10/site-packages/IPython/core/pylabtools.py:170: UserWarning: Glyph 50984 (\\N{HANGUL SYLLABLE YUL}) missing from current font.\n",
      "  fig.canvas.print_figure(bytes_io, **kw)\n",
      "/Users/zoangrak/pycaret310/lib/python3.10/site-packages/IPython/core/pylabtools.py:170: UserWarning: Glyph 51221 (\\N{HANGUL SYLLABLE JEONG}) missing from current font.\n",
      "  fig.canvas.print_figure(bytes_io, **kw)\n",
      "/Users/zoangrak/pycaret310/lib/python3.10/site-packages/IPython/core/pylabtools.py:170: UserWarning: Glyph 49345 (\\N{HANGUL SYLLABLE SANG}) missing from current font.\n",
      "  fig.canvas.print_figure(bytes_io, **kw)\n",
      "/Users/zoangrak/pycaret310/lib/python3.10/site-packages/IPython/core/pylabtools.py:170: UserWarning: Glyph 51648 (\\N{HANGUL SYLLABLE JI}) missing from current font.\n",
      "  fig.canvas.print_figure(bytes_io, **kw)\n",
      "/Users/zoangrak/pycaret310/lib/python3.10/site-packages/IPython/core/pylabtools.py:170: UserWarning: Glyph 50672 (\\N{HANGUL SYLLABLE YEON}) missing from current font.\n",
      "  fig.canvas.print_figure(bytes_io, **kw)\n"
     ]
    },
    {
     "data": {
      "image/png": "[encoded data removed]",
      "text/plain": [
       "<Figure size 1000x1800 with 3 Axes>"
      ]
     },
     "metadata": {},
     "output_type": "display_data"
    }
   ],
   "source": [
    "import seaborn as sns\n",
    "import matplotlib.pyplot as plt\n",
    "import platform\n",
    "\n",
    "# 폰트 설정 (운영체제에 따라 자동 적용)\n",
    "if platform.system() == 'Windows':\n",
    "    plt.rcParams['font.family'] = 'Malgun Gothic'\n",
    "elif platform.system() == 'Darwin':\n",
    "    plt.rcParams['font.family'] = 'AppleGothic'\n",
    "else:\n",
    "    plt.rcParams['font.family'] = 'NanumBarunGothic'\n",
    "plt.rcParams['axes.unicode_minus'] = False\n",
    "\n",
    "# 휴일 라벨 매핑 (0: 평일, 1: 휴일)\n",
    "df['휴일'] = df['휴일'].map({0: '평일', 1: '휴일'})\n",
    "\n",
    "# 시각화 스타일\n",
    "sns.set(style='whitegrid')\n",
    "plt.figure(figsize=(10, 18))\n",
    "\n",
    "# 1. 배송소요일\n",
    "plt.subplot(3, 1, 1)\n",
    "sns.violinplot(data=df, x='휴일', y='배송소요일', palette='Blues', inner='box')\n",
    "mean_vals = df.groupby('휴일')['배송소요일'].mean()\n",
    "for i, val in enumerate(mean_vals):\n",
    "    plt.text(i, val + 0.15, f'{val:.2f}', ha='center', va='bottom', fontsize=10, fontweight='bold')\n",
    "plt.title('배송소요일 분포')\n",
    "plt.ylabel('일수')\n",
    "\n",
    "# 2. 총구매소요일\n",
    "plt.subplot(3, 1, 2)\n",
    "sns.violinplot(data=df, x='휴일', y='총구매소요일', palette='Greens', inner='box')\n",
    "mean_vals = df.groupby('휴일')['총구매소요일'].mean()\n",
    "for i, val in enumerate(mean_vals):\n",
    "    plt.text(i, val + 0.15, f'{val:.2f}', ha='center', va='bottom', fontsize=10, fontweight='bold')\n",
    "plt.title('총구매소요일 분포')\n",
    "plt.ylabel('일수')\n",
    "\n",
    "# 3. 지연배송 여부 (0/1)\n",
    "plt.subplot(3, 1, 3)\n",
    "sns.violinplot(data=df, x='휴일', y='지연배송', palette='Reds', inner='box')\n",
    "mean_vals = df.groupby('휴일')['지연배송'].mean() * 100\n",
    "for i, val in enumerate(mean_vals):\n",
    "    plt.text(i, val / 100 + 0.05, f'{val:.2f}%', ha='center', va='bottom', fontsize=10, fontweight='bold')\n",
    "plt.title('지연배송 비율 분포')\n",
    "plt.ylabel('비율 (0=정상, 1=지연)')\n",
    "\n",
    "plt.tight_layout()\n",
    "plt.show()\n"
   ]
  },
  {
   "cell_type": "markdown",
   "id": "3de69e04-9302-4faf-b832-359d0100ec4a",
   "metadata": {},
   "source": [
    "## 6) 22/9/7 정기배송 기점으로 분석"
   ]
  },
  {
   "cell_type": "code",
   "execution_count": 93,
   "id": "dde02acf-7b8e-4324-bf58-a67f450e8a1c",
   "metadata": {},
   "outputs": [],
   "source": [
    "# df.info() # (199582, 22)"
   ]
  },
  {
   "cell_type": "code",
   "execution_count": 94,
   "id": "5b75b9d3-34c3-4150-aad1-82696089d986",
   "metadata": {},
   "outputs": [
    {
     "data": {
      "text/html": [
       "<div>\n",
       "<style scoped>\n",
       "    .dataframe tbody tr th:only-of-type {\n",
       "        vertical-align: middle;\n",
       "    }\n",
       "\n",
       "    .dataframe tbody tr th {\n",
       "        vertical-align: top;\n",
       "    }\n",
       "\n",
       "    .dataframe thead th {\n",
       "        text-align: right;\n",
       "    }\n",
       "</style>\n",
       "<table border=\"1\" class=\"dataframe\">\n",
       "  <thead>\n",
       "    <tr style=\"text-align: right;\">\n",
       "      <th></th>\n",
       "      <th>기준일기준</th>\n",
       "      <th>배송소요일</th>\n",
       "      <th>총구매소요일</th>\n",
       "      <th>지연배송비율</th>\n",
       "    </tr>\n",
       "  </thead>\n",
       "  <tbody>\n",
       "    <tr>\n",
       "      <th>0</th>\n",
       "      <td>기준일이전</td>\n",
       "      <td>2.72</td>\n",
       "      <td>3.72</td>\n",
       "      <td>19.69</td>\n",
       "    </tr>\n",
       "    <tr>\n",
       "      <th>1</th>\n",
       "      <td>기준일이후</td>\n",
       "      <td>2.74</td>\n",
       "      <td>3.74</td>\n",
       "      <td>20.54</td>\n",
       "    </tr>\n",
       "  </tbody>\n",
       "</table>\n",
       "</div>"
      ],
      "text/plain": [
       "   기준일기준  배송소요일  총구매소요일  지연배송비율\n",
       "0  기준일이전   2.72    3.72   19.69\n",
       "1  기준일이후   2.74    3.74   20.54"
      ]
     },
     "execution_count": 94,
     "metadata": {},
     "output_type": "execute_result"
    }
   ],
   "source": [
    "# 기준일 설정\n",
    "baseline_date = pd.to_datetime('2022-09-07')\n",
    "\n",
    "# 기준일 기준 이전/이후 구분\n",
    "df['기준일기준'] = df['구매일'].apply(lambda x: '기준일이전' if x < baseline_date else '기준일이후')\n",
    "\n",
    "# 비교 통계 집계\n",
    "comparison = df.groupby('기준일기준').agg(\n",
    "    배송소요일=('배송소요일', 'mean'),\n",
    "    총구매소요일=('총구매소요일', 'mean'),\n",
    "    지연배송비율=('지연배송', 'mean')\n",
    ").reset_index()\n",
    "\n",
    "# 지연배송 비율 % 변환\n",
    "comparison['지연배송비율'] = (comparison['지연배송비율'] * 100).round(2)\n",
    "\n",
    "# 소수점 정리\n",
    "comparison['배송소요일'] = comparison['배송소요일'].round(2)\n",
    "comparison['총구매소요일'] = comparison['총구매소요일'].round(2)\n",
    "\n",
    "comparison\n"
   ]
  },
  {
   "cell_type": "code",
   "execution_count": null,
   "id": "f24648e7-de73-44fc-a04d-f2a03118244c",
   "metadata": {},
   "outputs": [],
   "source": []
  }
 ],
 "metadata": {
  "kernelspec": {
   "display_name": "Python 3 (ipykernel)",
   "language": "python",
   "name": "python3"
  },
  "language_info": {
   "codemirror_mode": {
    "name": "ipython",
    "version": 3
   },
   "file_extension": ".py",
   "mimetype": "text/x-python",
   "name": "python",
   "nbconvert_exporter": "python",
   "pygments_lexer": "ipython3",
   "version": "3.12.3"
  }
 },
 "nbformat": 4,
 "nbformat_minor": 5
}
